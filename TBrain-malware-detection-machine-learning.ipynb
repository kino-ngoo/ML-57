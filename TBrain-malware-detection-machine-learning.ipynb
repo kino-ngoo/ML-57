{
 "cells": [
  {
   "cell_type": "code",
   "execution_count": 9,
   "metadata": {},
   "outputs": [],
   "source": [
    "import pandas as pd\n",
    "import numpy as np\n",
    "from sklearn import datasets, cross_validation, tree, linear_model\n",
    "import matplotlib.pyplot as plt\n",
    "import sklearn.ensemble as ek\n",
    "import seaborn as sns\n",
    "plt.rcParams['font.family']='SimHei' #顯示中文\n",
    "%matplotlib inline\n",
    "import warnings\n",
    "warnings.filterwarnings('ignore')"
   ]
  },
  {
   "cell_type": "code",
   "execution_count": 7,
   "metadata": {},
   "outputs": [],
   "source": [
    "# Load in the train datasets\n",
    "train = pd.read_csv('/data/examples/trend/data/training-set.csv', names=['FileID','label'], encoding = \"utf-8\", header=None)\n",
    "test = pd.read_csv('/data/examples/trend/data/testing-set.csv',names=['FileID','AUC'], encoding = \"utf-8\", header=None)"
   ]
  },
  {
   "cell_type": "code",
   "execution_count": 5,
   "metadata": {},
   "outputs": [
    {
     "data": {
      "text/plain": [
       "(52518, 2)"
      ]
     },
     "execution_count": 5,
     "metadata": {},
     "output_type": "execute_result"
    }
   ],
   "source": [
    "train.shape"
   ]
  },
  {
   "cell_type": "code",
   "execution_count": 7,
   "metadata": {},
   "outputs": [],
   "source": [
    "#query_log裡面被官方排除的 FileID\n",
    "train_exc = pd.read_csv('/data/examples/trend/data/exception/exception_train.txt', encoding = \"utf-8\", header=None)\n",
    "test_exc = pd.read_csv('/data/examples/trend/data/exception/exception_testing.txt', encoding = \"utf-8\", header=None)"
   ]
  },
  {
   "cell_type": "code",
   "execution_count": 8,
   "metadata": {},
   "outputs": [
    {
     "data": {
      "text/plain": [
       "(41,)"
      ]
     },
     "execution_count": 8,
     "metadata": {},
     "output_type": "execute_result"
    }
   ],
   "source": [
    "train_exc[0].shape"
   ]
  },
  {
   "cell_type": "code",
   "execution_count": 9,
   "metadata": {},
   "outputs": [],
   "source": [
    "for i in train_exc[0]:\n",
    "    train = train[train['FileID']!=i]"
   ]
  },
  {
   "cell_type": "code",
   "execution_count": 10,
   "metadata": {},
   "outputs": [
    {
     "data": {
      "text/plain": [
       "52518"
      ]
     },
     "execution_count": 10,
     "metadata": {},
     "output_type": "execute_result"
    }
   ],
   "source": [
    "len(np.setdiff1d(train['FileID'], train_exc[0]))"
   ]
  },
  {
   "cell_type": "code",
   "execution_count": 11,
   "metadata": {},
   "outputs": [],
   "source": [
    "# from sklearn.preprocessing import Imputer\n",
    "# imputer = Imputer(missing_values='NaN', axis=0, strategy='mean') \n",
    "# imputer.fit_transform(X[:,[1,3]])"
   ]
  },
  {
   "cell_type": "code",
   "execution_count": 12,
   "metadata": {},
   "outputs": [
    {
     "data": {
      "text/html": [
       "<div>\n",
       "<table border=\"1\" class=\"dataframe\">\n",
       "  <thead>\n",
       "    <tr style=\"text-align: right;\">\n",
       "      <th></th>\n",
       "      <th>FileID</th>\n",
       "      <th>label</th>\n",
       "    </tr>\n",
       "  </thead>\n",
       "  <tbody>\n",
       "    <tr>\n",
       "      <th>0</th>\n",
       "      <td>0000e2398b12121a85166fed5fe2a3da</td>\n",
       "      <td>0</td>\n",
       "    </tr>\n",
       "    <tr>\n",
       "      <th>1</th>\n",
       "      <td>0001fe8dce14ce099aa6ca8ea5026ea7</td>\n",
       "      <td>0</td>\n",
       "    </tr>\n",
       "    <tr>\n",
       "      <th>2</th>\n",
       "      <td>00027f50019000accc492e5684efc818</td>\n",
       "      <td>0</td>\n",
       "    </tr>\n",
       "    <tr>\n",
       "      <th>3</th>\n",
       "      <td>00028c9da3573ec50db74b44310ae507</td>\n",
       "      <td>0</td>\n",
       "    </tr>\n",
       "    <tr>\n",
       "      <th>4</th>\n",
       "      <td>0003dc8130969abe688cadf5f14ea19f</td>\n",
       "      <td>0</td>\n",
       "    </tr>\n",
       "  </tbody>\n",
       "</table>\n",
       "</div>"
      ],
      "text/plain": [
       "                             FileID  label\n",
       "0  0000e2398b12121a85166fed5fe2a3da      0\n",
       "1  0001fe8dce14ce099aa6ca8ea5026ea7      0\n",
       "2  00027f50019000accc492e5684efc818      0\n",
       "3  00028c9da3573ec50db74b44310ae507      0\n",
       "4  0003dc8130969abe688cadf5f14ea19f      0"
      ]
     },
     "execution_count": 12,
     "metadata": {},
     "output_type": "execute_result"
    }
   ],
   "source": [
    "# training set - label: 0:非惡意程式, 1:惡意程式\n",
    "# train.columns=['FileID','label']\n",
    "train.head()\n",
    "# train.count()"
   ]
  },
  {
   "cell_type": "code",
   "execution_count": 13,
   "metadata": {},
   "outputs": [
    {
     "data": {
      "text/plain": [
       "label\n",
       "0    46878\n",
       "1     5640\n",
       "dtype: int64"
      ]
     },
     "execution_count": 13,
     "metadata": {},
     "output_type": "execute_result"
    }
   ],
   "source": [
    "train.groupby(train['label']).size()"
   ]
  },
  {
   "cell_type": "code",
   "execution_count": 14,
   "metadata": {},
   "outputs": [
    {
     "data": {
      "text/plain": [
       "0    46878\n",
       "1     5640\n",
       "Name: label, dtype: int64"
      ]
     },
     "execution_count": 14,
     "metadata": {},
     "output_type": "execute_result"
    }
   ],
   "source": [
    "train['label'].value_counts()"
   ]
  },
  {
   "cell_type": "code",
   "execution_count": 15,
   "metadata": {},
   "outputs": [],
   "source": [
    "X = train['FileID'].values\n",
    "y = train['label'].values"
   ]
  },
  {
   "cell_type": "code",
   "execution_count": 16,
   "metadata": {},
   "outputs": [
    {
     "ename": "NameError",
     "evalue": "name 'LinearRegression' is not defined",
     "output_type": "error",
     "traceback": [
      "\u001b[0;31m---------------------------------------------------------------------------\u001b[0m",
      "\u001b[0;31mNameError\u001b[0m                                 Traceback (most recent call last)",
      "\u001b[0;32m<ipython-input-16-e0760551f1d0>\u001b[0m in \u001b[0;36m<module>\u001b[0;34m()\u001b[0m\n\u001b[1;32m      4\u001b[0m          \u001b[0;34m\"GradientBoosting\"\u001b[0m\u001b[0;34m:\u001b[0m\u001b[0mek\u001b[0m\u001b[0;34m.\u001b[0m\u001b[0mGradientBoostingClassifier\u001b[0m\u001b[0;34m(\u001b[0m\u001b[0mn_estimators\u001b[0m\u001b[0;34m=\u001b[0m\u001b[0;36m50\u001b[0m\u001b[0;34m)\u001b[0m\u001b[0;34m,\u001b[0m\u001b[0;34m\u001b[0m\u001b[0m\n\u001b[1;32m      5\u001b[0m          \u001b[0;31m# \"GNB\":GaussianNB(),\u001b[0m\u001b[0;34m\u001b[0m\u001b[0;34m\u001b[0m\u001b[0m\n\u001b[0;32m----> 6\u001b[0;31m          \u001b[0;34m\"LinearRegression\"\u001b[0m\u001b[0;34m:\u001b[0m\u001b[0mLinearRegression\u001b[0m\u001b[0;34m(\u001b[0m\u001b[0;34m)\u001b[0m\u001b[0;34m\u001b[0m\u001b[0m\n\u001b[0m\u001b[1;32m      7\u001b[0m }\n",
      "\u001b[0;31mNameError\u001b[0m: name 'LinearRegression' is not defined"
     ]
    }
   ],
   "source": [
    "model = { \"DecisionTree\":tree.DecisionTreeClassifier(max_depth=10),\n",
    "         \"RandomForest\":ek.RandomForestClassifier(n_estimators=50),\n",
    "         \"Adaboost\":ek.AdaBoostClassifier(n_estimators=50),\n",
    "         \"GradientBoosting\":ek.GradientBoostingClassifier(n_estimators=50),\n",
    "         # \"GNB\":GaussianNB(),\n",
    "         \"LinearRegression\":LinearRegression()   \n",
    "}"
   ]
  },
  {
   "cell_type": "code",
   "execution_count": 17,
   "metadata": {},
   "outputs": [
    {
     "data": {
      "text/html": [
       "<div>\n",
       "<table border=\"1\" class=\"dataframe\">\n",
       "  <thead>\n",
       "    <tr style=\"text-align: right;\">\n",
       "      <th></th>\n",
       "      <th>FileID</th>\n",
       "      <th>AUC</th>\n",
       "    </tr>\n",
       "  </thead>\n",
       "  <tbody>\n",
       "    <tr>\n",
       "      <th>0</th>\n",
       "      <td>00008c73ee43c15b16c26b26398c1577</td>\n",
       "      <td>0.5</td>\n",
       "    </tr>\n",
       "    <tr>\n",
       "      <th>1</th>\n",
       "      <td>0002ded3a0b54f2ffdab0ca77a5ce2b6</td>\n",
       "      <td>0.5</td>\n",
       "    </tr>\n",
       "    <tr>\n",
       "      <th>2</th>\n",
       "      <td>00050a9df8e13f6ab5a3d3b3e2fc6a86</td>\n",
       "      <td>0.5</td>\n",
       "    </tr>\n",
       "    <tr>\n",
       "      <th>3</th>\n",
       "      <td>000b1aa62b95e448784b8b341de46c64</td>\n",
       "      <td>0.5</td>\n",
       "    </tr>\n",
       "    <tr>\n",
       "      <th>4</th>\n",
       "      <td>000d9f96b5eddf04a3b7a37cb95d0a00</td>\n",
       "      <td>0.5</td>\n",
       "    </tr>\n",
       "  </tbody>\n",
       "</table>\n",
       "</div>"
      ],
      "text/plain": [
       "                             FileID  AUC\n",
       "0  00008c73ee43c15b16c26b26398c1577  0.5\n",
       "1  0002ded3a0b54f2ffdab0ca77a5ce2b6  0.5\n",
       "2  00050a9df8e13f6ab5a3d3b3e2fc6a86  0.5\n",
       "3  000b1aa62b95e448784b8b341de46c64  0.5\n",
       "4  000d9f96b5eddf04a3b7a37cb95d0a00  0.5"
      ]
     },
     "execution_count": 17,
     "metadata": {},
     "output_type": "execute_result"
    }
   ],
   "source": [
    "# testing set - AUC: Area Under ROC Curve\n",
    "# test.columns=['FileID','AUC']\n",
    "test.head()\n",
    "# test.count()"
   ]
  },
  {
   "cell_type": "code",
   "execution_count": 18,
   "metadata": {},
   "outputs": [
    {
     "name": "stdout",
     "output_type": "stream",
     "text": [
      "True\n",
      "True\n",
      "True\n",
      "True\n",
      "True\n",
      "True\n",
      "True\n",
      "True\n",
      "True\n",
      "True\n",
      "True\n",
      "True\n",
      "True\n",
      "True\n",
      "True\n",
      "True\n",
      "True\n",
      "True\n",
      "True\n",
      "True\n",
      "True\n",
      "True\n",
      "True\n",
      "True\n",
      "True\n",
      "True\n",
      "True\n",
      "True\n",
      "True\n",
      "True\n",
      "True\n",
      "True\n",
      "True\n",
      "True\n",
      "True\n",
      "True\n",
      "True\n",
      "True\n",
      "True\n",
      "True\n",
      "True\n"
     ]
    }
   ],
   "source": [
    "# 確認排除的FileID在training set裡面找不到\n",
    "# for item in train_exc:\n",
    "#   print(train[train['FileID']==item])\n",
    "for item, row in train_exc.iterrows():\n",
    "    print(train[train['FileID']==row[0]].empty)"
   ]
  },
  {
   "cell_type": "code",
   "execution_count": 19,
   "metadata": {},
   "outputs": [],
   "source": [
    "#取0301當天的query log來查看\n",
    "query_0301 = pd.read_csv('/data/examples/trend/data/query_log/0301.csv', names=['FileID','CustomerID','QueryTs','ProductID'], encoding = \"utf-8\", header=None)\n",
    "# query_0301.columns=['FileID','CustomerID','QueryTs','ProductID']\n",
    "query_0301['times'] = 1"
   ]
  },
  {
   "cell_type": "code",
   "execution_count": 20,
   "metadata": {},
   "outputs": [
    {
     "data": {
      "text/html": [
       "<div>\n",
       "<table border=\"1\" class=\"dataframe\">\n",
       "  <thead>\n",
       "    <tr style=\"text-align: right;\">\n",
       "      <th></th>\n",
       "      <th>FileID</th>\n",
       "      <th>CustomerID</th>\n",
       "      <th>QueryTs</th>\n",
       "      <th>ProductID</th>\n",
       "      <th>times</th>\n",
       "    </tr>\n",
       "  </thead>\n",
       "  <tbody>\n",
       "    <tr>\n",
       "      <th>0</th>\n",
       "      <td>dfccd8e23f0b03ec4db7a9a745ad7399</td>\n",
       "      <td>64573086fcfee53e8fa6d8f1f44101bb</td>\n",
       "      <td>1488326402</td>\n",
       "      <td>c105a0</td>\n",
       "      <td>1</td>\n",
       "    </tr>\n",
       "    <tr>\n",
       "      <th>1</th>\n",
       "      <td>29962f9102502ee76bb3cddb8cf8c9ad</td>\n",
       "      <td>597df153a25e8e548cbe35f6e4da9cbb</td>\n",
       "      <td>1488326403</td>\n",
       "      <td>c105a0</td>\n",
       "      <td>1</td>\n",
       "    </tr>\n",
       "    <tr>\n",
       "      <th>2</th>\n",
       "      <td>fa3fa642378b9d98c0e2770611b92eb3</td>\n",
       "      <td>1db24b8cc0a7ce59634629e7f292520f</td>\n",
       "      <td>1488326405</td>\n",
       "      <td>c105a0</td>\n",
       "      <td>1</td>\n",
       "    </tr>\n",
       "    <tr>\n",
       "      <th>3</th>\n",
       "      <td>48f90ea1af2c04677c6890db392ca088</td>\n",
       "      <td>5ca6dd0b8863069ab1efe014de82cecf</td>\n",
       "      <td>1488326411</td>\n",
       "      <td>c76d58</td>\n",
       "      <td>1</td>\n",
       "    </tr>\n",
       "    <tr>\n",
       "      <th>4</th>\n",
       "      <td>d0ff310c25e3bd7ae919d34dc38fb0de</td>\n",
       "      <td>5ca6dd0b8863069ab1efe014de82cecf</td>\n",
       "      <td>1488326411</td>\n",
       "      <td>c76d58</td>\n",
       "      <td>1</td>\n",
       "    </tr>\n",
       "  </tbody>\n",
       "</table>\n",
       "</div>"
      ],
      "text/plain": [
       "                             FileID                        CustomerID  \\\n",
       "0  dfccd8e23f0b03ec4db7a9a745ad7399  64573086fcfee53e8fa6d8f1f44101bb   \n",
       "1  29962f9102502ee76bb3cddb8cf8c9ad  597df153a25e8e548cbe35f6e4da9cbb   \n",
       "2  fa3fa642378b9d98c0e2770611b92eb3  1db24b8cc0a7ce59634629e7f292520f   \n",
       "3  48f90ea1af2c04677c6890db392ca088  5ca6dd0b8863069ab1efe014de82cecf   \n",
       "4  d0ff310c25e3bd7ae919d34dc38fb0de  5ca6dd0b8863069ab1efe014de82cecf   \n",
       "\n",
       "      QueryTs ProductID  times  \n",
       "0  1488326402    c105a0      1  \n",
       "1  1488326403    c105a0      1  \n",
       "2  1488326405    c105a0      1  \n",
       "3  1488326411    c76d58      1  \n",
       "4  1488326411    c76d58      1  "
      ]
     },
     "execution_count": 20,
     "metadata": {},
     "output_type": "execute_result"
    }
   ],
   "source": [
    "query_0301.head()"
   ]
  },
  {
   "cell_type": "code",
   "execution_count": 21,
   "metadata": {},
   "outputs": [
    {
     "data": {
      "text/html": [
       "<div>\n",
       "<table border=\"1\" class=\"dataframe\">\n",
       "  <thead>\n",
       "    <tr style=\"text-align: right;\">\n",
       "      <th></th>\n",
       "      <th>QueryTs</th>\n",
       "      <th>times</th>\n",
       "    </tr>\n",
       "  </thead>\n",
       "  <tbody>\n",
       "    <tr>\n",
       "      <th>count</th>\n",
       "      <td>4.755690e+05</td>\n",
       "      <td>475569.0</td>\n",
       "    </tr>\n",
       "    <tr>\n",
       "      <th>mean</th>\n",
       "      <td>1.488366e+09</td>\n",
       "      <td>1.0</td>\n",
       "    </tr>\n",
       "    <tr>\n",
       "      <th>std</th>\n",
       "      <td>2.451022e+04</td>\n",
       "      <td>0.0</td>\n",
       "    </tr>\n",
       "    <tr>\n",
       "      <th>min</th>\n",
       "      <td>1.488326e+09</td>\n",
       "      <td>1.0</td>\n",
       "    </tr>\n",
       "    <tr>\n",
       "      <th>25%</th>\n",
       "      <td>1.488346e+09</td>\n",
       "      <td>1.0</td>\n",
       "    </tr>\n",
       "    <tr>\n",
       "      <th>50%</th>\n",
       "      <td>1.488365e+09</td>\n",
       "      <td>1.0</td>\n",
       "    </tr>\n",
       "    <tr>\n",
       "      <th>75%</th>\n",
       "      <td>1.488385e+09</td>\n",
       "      <td>1.0</td>\n",
       "    </tr>\n",
       "    <tr>\n",
       "      <th>max</th>\n",
       "      <td>1.488413e+09</td>\n",
       "      <td>1.0</td>\n",
       "    </tr>\n",
       "  </tbody>\n",
       "</table>\n",
       "</div>"
      ],
      "text/plain": [
       "            QueryTs     times\n",
       "count  4.755690e+05  475569.0\n",
       "mean   1.488366e+09       1.0\n",
       "std    2.451022e+04       0.0\n",
       "min    1.488326e+09       1.0\n",
       "25%    1.488346e+09       1.0\n",
       "50%    1.488365e+09       1.0\n",
       "75%    1.488385e+09       1.0\n",
       "max    1.488413e+09       1.0"
      ]
     },
     "execution_count": 21,
     "metadata": {},
     "output_type": "execute_result"
    }
   ],
   "source": [
    "query_0301.describe()"
   ]
  },
  {
   "cell_type": "code",
   "execution_count": 22,
   "metadata": {},
   "outputs": [
    {
     "name": "stdout",
     "output_type": "stream",
     "text": [
      "<class 'pandas.core.frame.DataFrame'>\n",
      "RangeIndex: 475569 entries, 0 to 475568\n",
      "Data columns (total 5 columns):\n",
      "FileID        475569 non-null object\n",
      "CustomerID    475569 non-null object\n",
      "QueryTs       475569 non-null int64\n",
      "ProductID     475569 non-null object\n",
      "times         475569 non-null int64\n",
      "dtypes: int64(2), object(3)\n",
      "memory usage: 18.1+ MB\n"
     ]
    }
   ],
   "source": [
    "# query_0301.info(memory_usage='deep')\n",
    "query_0301.info()"
   ]
  },
  {
   "cell_type": "code",
   "execution_count": 23,
   "metadata": {},
   "outputs": [
    {
     "data": {
      "text/plain": [
       "2445"
      ]
     },
     "execution_count": 23,
     "metadata": {},
     "output_type": "execute_result"
    }
   ],
   "source": [
    "query_0301['FileID'].nunique() #.value_counts()"
   ]
  },
  {
   "cell_type": "code",
   "execution_count": 24,
   "metadata": {},
   "outputs": [
    {
     "data": {
      "text/plain": [
       "108414"
      ]
     },
     "execution_count": 24,
     "metadata": {},
     "output_type": "execute_result"
    }
   ],
   "source": [
    "query_0301['CustomerID'].nunique()"
   ]
  },
  {
   "cell_type": "code",
   "execution_count": 25,
   "metadata": {},
   "outputs": [
    {
     "data": {
      "text/plain": [
       "85030"
      ]
     },
     "execution_count": 25,
     "metadata": {},
     "output_type": "execute_result"
    }
   ],
   "source": [
    "query_0301['QueryTs'].nunique()"
   ]
  },
  {
   "cell_type": "code",
   "execution_count": 26,
   "metadata": {},
   "outputs": [
    {
     "data": {
      "text/plain": [
       "14"
      ]
     },
     "execution_count": 26,
     "metadata": {},
     "output_type": "execute_result"
    }
   ],
   "source": [
    "query_0301['ProductID'].nunique()"
   ]
  },
  {
   "cell_type": "code",
   "execution_count": 27,
   "metadata": {},
   "outputs": [],
   "source": [
    "# query_0301.pivot_table(values='times',index=['FileID'],columns='ProductID',aggfunc='sum').head()"
   ]
  },
  {
   "cell_type": "code",
   "execution_count": null,
   "metadata": {},
   "outputs": [
    {
     "data": {
      "application/vnd.jupyter.widget-view+json": {
       "model_id": "2b754df74268432283d3e2eae52fa171",
       "version_major": 2,
       "version_minor": 0
      },
      "text/html": [
       "<p>Failed to display Jupyter Widget of type <code>HBox</code>.</p>\n",
       "<p>\n",
       "  If you're reading this message in the Jupyter Notebook or JupyterLab Notebook, it may mean\n",
       "  that the widgets JavaScript is still loading. If this message persists, it\n",
       "  likely means that the widgets JavaScript library is either not installed or\n",
       "  not enabled. See the <a href=\"https://ipywidgets.readthedocs.io/en/stable/user_install.html\">Jupyter\n",
       "  Widgets Documentation</a> for setup instructions.\n",
       "</p>\n",
       "<p>\n",
       "  If you're reading this message in another frontend (for example, a static\n",
       "  rendering on GitHub or <a href=\"https://nbviewer.jupyter.org/\">NBViewer</a>),\n",
       "  it may mean that your frontend doesn't currently support widgets.\n",
       "</p>\n"
      ],
      "text/plain": [
       "HBox(children=(IntProgress(value=0, max=92), HTML(value='')))"
      ]
     },
     "metadata": {},
     "output_type": "display_data"
    },
    {
     "name": "stdout",
     "output_type": "stream",
     "text": [
      "\n"
     ]
    }
   ],
   "source": [
    "import glob\n",
    "# import pandas as pd\n",
    "import time\n",
    "from tqdm import tqdm_notebook as tqdm\n",
    "\n",
    "# start_time = time.time()\n",
    "\n",
    "path =r'/data/examples/trend/data/query_log/' # use your path\n",
    "allFiles = glob.glob(path + \"/*.csv\")\n",
    "frame = pd.DataFrame()\n",
    "list_ = []\n",
    "for file_ in tqdm(allFiles):\n",
    "    df = pd.read_csv(file_,index_col=None, header=0) #, data_parse = ['QueryTs'])\n",
    "    list_.append(df)\n",
    "frame = pd.concat(list_)\n",
    "\n",
    "# print(time.time()-start_time)"
   ]
  },
  {
   "cell_type": "code",
   "execution_count": null,
   "metadata": {},
   "outputs": [],
   "source": [
    "frame = pd.concat(list_)"
   ]
  },
  {
   "cell_type": "code",
   "execution_count": null,
   "metadata": {},
   "outputs": [],
   "source": [
    "# frame.to_csv('frame.csv',index=Fasle)\n",
    "frame.head()"
   ]
  },
  {
   "cell_type": "code",
   "execution_count": 95,
   "metadata": {},
   "outputs": [
    {
     "data": {
      "text/html": [
       "<div>\n",
       "<table border=\"1\" class=\"dataframe\">\n",
       "  <thead>\n",
       "    <tr style=\"text-align: right;\">\n",
       "      <th></th>\n",
       "      <th></th>\n",
       "      <th></th>\n",
       "      <th>times</th>\n",
       "    </tr>\n",
       "    <tr>\n",
       "      <th>FileID</th>\n",
       "      <th>CustomerID</th>\n",
       "      <th>ProductID</th>\n",
       "      <th></th>\n",
       "    </tr>\n",
       "  </thead>\n",
       "  <tbody>\n",
       "    <tr>\n",
       "      <th rowspan=\"7\" valign=\"top\">0087304d5bee451f0d82c7407b0fa7d1</th>\n",
       "      <th>282396145a3df4452761bacf8049f6db</th>\n",
       "      <th>3ea8c3</th>\n",
       "      <td>7</td>\n",
       "    </tr>\n",
       "    <tr>\n",
       "      <th>501782bb051c5368f641f5299e550f32</th>\n",
       "      <th>20f8a5</th>\n",
       "      <td>8</td>\n",
       "    </tr>\n",
       "    <tr>\n",
       "      <th>54a57555a85251b45a9de37ba95a4cf3</th>\n",
       "      <th>7acab3</th>\n",
       "      <td>2</td>\n",
       "    </tr>\n",
       "    <tr>\n",
       "      <th>662a1f7c7441bace48defd0f1947bc36</th>\n",
       "      <th>7acab3</th>\n",
       "      <td>2</td>\n",
       "    </tr>\n",
       "    <tr>\n",
       "      <th>71a15fcfe2741879c0d3a4588c011dae</th>\n",
       "      <th>7acab3</th>\n",
       "      <td>2</td>\n",
       "    </tr>\n",
       "    <tr>\n",
       "      <th>bb0b6c51b1fd781a7a4cd1b2365ba889</th>\n",
       "      <th>7acab3</th>\n",
       "      <td>2</td>\n",
       "    </tr>\n",
       "    <tr>\n",
       "      <th>d61e6c11ba5b56de990e512e86b51886</th>\n",
       "      <th>7acab3</th>\n",
       "      <td>2</td>\n",
       "    </tr>\n",
       "    <tr>\n",
       "      <th rowspan=\"23\" valign=\"top\">0087e85caf760ff171b1774bafcafcae</th>\n",
       "      <th>002a0a48cb30742c0a85c8661384edb9</th>\n",
       "      <th>055649</th>\n",
       "      <td>1</td>\n",
       "    </tr>\n",
       "    <tr>\n",
       "      <th>01d32fea310f8b1cd8a98dd57745918b</th>\n",
       "      <th>7acab3</th>\n",
       "      <td>1</td>\n",
       "    </tr>\n",
       "    <tr>\n",
       "      <th>02feea730f4de6baf2e0675835e94623</th>\n",
       "      <th>055649</th>\n",
       "      <td>1</td>\n",
       "    </tr>\n",
       "    <tr>\n",
       "      <th>0456e70e10362f10f21ab8629c0704f8</th>\n",
       "      <th>7acab3</th>\n",
       "      <td>1</td>\n",
       "    </tr>\n",
       "    <tr>\n",
       "      <th>0693bb9028788dd05e691d5b41903a2a</th>\n",
       "      <th>7acab3</th>\n",
       "      <td>1</td>\n",
       "    </tr>\n",
       "    <tr>\n",
       "      <th>1160ca9bd5b424af814971c1897c3dbc</th>\n",
       "      <th>c76d58</th>\n",
       "      <td>1</td>\n",
       "    </tr>\n",
       "    <tr>\n",
       "      <th>12b17df2178e0bbd99fa144903fe0afb</th>\n",
       "      <th>7acab3</th>\n",
       "      <td>1</td>\n",
       "    </tr>\n",
       "    <tr>\n",
       "      <th>144ca08c86870967bde66396ba32669f</th>\n",
       "      <th>055649</th>\n",
       "      <td>1</td>\n",
       "    </tr>\n",
       "    <tr>\n",
       "      <th>1638281433537f34fb53eb6e0a5d6bb6</th>\n",
       "      <th>7acab3</th>\n",
       "      <td>1</td>\n",
       "    </tr>\n",
       "    <tr>\n",
       "      <th>1a248fe68eb19b599d3a03d2936e388e</th>\n",
       "      <th>7acab3</th>\n",
       "      <td>1</td>\n",
       "    </tr>\n",
       "    <tr>\n",
       "      <th>1ca40a65ec6f71efe2b4f840b859b4bf</th>\n",
       "      <th>055649</th>\n",
       "      <td>1</td>\n",
       "    </tr>\n",
       "    <tr>\n",
       "      <th>1e180bb56546440e7fa7738af0441c5c</th>\n",
       "      <th>055649</th>\n",
       "      <td>1</td>\n",
       "    </tr>\n",
       "    <tr>\n",
       "      <th>216e2ac1cb62a0e39ec8f779130f3255</th>\n",
       "      <th>055649</th>\n",
       "      <td>1</td>\n",
       "    </tr>\n",
       "    <tr>\n",
       "      <th>25b402190079b38b5c7087c7007f7238</th>\n",
       "      <th>7acab3</th>\n",
       "      <td>1</td>\n",
       "    </tr>\n",
       "    <tr>\n",
       "      <th>30e96e9a8d6036a799210b9a5a5232e3</th>\n",
       "      <th>055649</th>\n",
       "      <td>1</td>\n",
       "    </tr>\n",
       "    <tr>\n",
       "      <th>34144d1fac98512a2733b3683956cdb5</th>\n",
       "      <th>055649</th>\n",
       "      <td>1</td>\n",
       "    </tr>\n",
       "    <tr>\n",
       "      <th>37045bfc8dd54190fcbb01ab8aecab10</th>\n",
       "      <th>055649</th>\n",
       "      <td>1</td>\n",
       "    </tr>\n",
       "    <tr>\n",
       "      <th>3811693a78ffabbfc5bb0b4adb526104</th>\n",
       "      <th>7acab3</th>\n",
       "      <td>1</td>\n",
       "    </tr>\n",
       "    <tr>\n",
       "      <th>3b26072d43bed713e4f01ba2378daf7a</th>\n",
       "      <th>055649</th>\n",
       "      <td>1</td>\n",
       "    </tr>\n",
       "    <tr>\n",
       "      <th>40bf9554af692dc7682a70627747a0ef</th>\n",
       "      <th>055649</th>\n",
       "      <td>1</td>\n",
       "    </tr>\n",
       "    <tr>\n",
       "      <th>45def3125f5bca7f5047931d5a738aa8</th>\n",
       "      <th>7acab3</th>\n",
       "      <td>1</td>\n",
       "    </tr>\n",
       "    <tr>\n",
       "      <th>466bc59569344ceeaa8d25cd73a041ce</th>\n",
       "      <th>7acab3</th>\n",
       "      <td>1</td>\n",
       "    </tr>\n",
       "    <tr>\n",
       "      <th>488b40fb2bb5b52ae92f4afb5854cc48</th>\n",
       "      <th>055649</th>\n",
       "      <td>1</td>\n",
       "    </tr>\n",
       "    <tr>\n",
       "      <th>...</th>\n",
       "      <th>...</th>\n",
       "      <th>...</th>\n",
       "      <td>...</td>\n",
       "    </tr>\n",
       "    <tr>\n",
       "      <th rowspan=\"30\" valign=\"top\">ffe023042f06cb48603058b6245fc338</th>\n",
       "      <th>75ce7c4172a145839f58642dc952668a</th>\n",
       "      <th>c105a0</th>\n",
       "      <td>1</td>\n",
       "    </tr>\n",
       "    <tr>\n",
       "      <th>76699e4bcfbde761d45fc503c92ced50</th>\n",
       "      <th>c105a0</th>\n",
       "      <td>1</td>\n",
       "    </tr>\n",
       "    <tr>\n",
       "      <th>7823248eea1343f107b3aaa712614be4</th>\n",
       "      <th>c105a0</th>\n",
       "      <td>3</td>\n",
       "    </tr>\n",
       "    <tr>\n",
       "      <th>7a83fb37d4c12973be776212528cb31d</th>\n",
       "      <th>c105a0</th>\n",
       "      <td>5</td>\n",
       "    </tr>\n",
       "    <tr>\n",
       "      <th>7cd9c71fe0a56aa2c88d21f02fe2ccef</th>\n",
       "      <th>c105a0</th>\n",
       "      <td>1</td>\n",
       "    </tr>\n",
       "    <tr>\n",
       "      <th>7ea4fa751875391b73293c21c14aa432</th>\n",
       "      <th>055649</th>\n",
       "      <td>1</td>\n",
       "    </tr>\n",
       "    <tr>\n",
       "      <th>7fec86081b1d691268e4393cc8e9cee0</th>\n",
       "      <th>7acab3</th>\n",
       "      <td>2</td>\n",
       "    </tr>\n",
       "    <tr>\n",
       "      <th>8782a2c4039d65a9434c9ffbe77198e0</th>\n",
       "      <th>c105a0</th>\n",
       "      <td>1</td>\n",
       "    </tr>\n",
       "    <tr>\n",
       "      <th>8ce468a7cf0a985ef275aad76d85a8d6</th>\n",
       "      <th>c105a0</th>\n",
       "      <td>3</td>\n",
       "    </tr>\n",
       "    <tr>\n",
       "      <th>8e9ae304354117f5094c618a78f0df02</th>\n",
       "      <th>c105a0</th>\n",
       "      <td>1</td>\n",
       "    </tr>\n",
       "    <tr>\n",
       "      <th>98b4e58ea0d7c7a5d98ebb6f9edd234b</th>\n",
       "      <th>c105a0</th>\n",
       "      <td>2</td>\n",
       "    </tr>\n",
       "    <tr>\n",
       "      <th>9a3ee4eda7e837d924af9c7fb5b3aeff</th>\n",
       "      <th>c105a0</th>\n",
       "      <td>1</td>\n",
       "    </tr>\n",
       "    <tr>\n",
       "      <th>9a40017505bdc8522055268152de455e</th>\n",
       "      <th>c105a0</th>\n",
       "      <td>3</td>\n",
       "    </tr>\n",
       "    <tr>\n",
       "      <th>9e786ac444ec164122bad895d4cf07eb</th>\n",
       "      <th>055649</th>\n",
       "      <td>1</td>\n",
       "    </tr>\n",
       "    <tr>\n",
       "      <th>a19bd4ac97e19ad42f642b36e394858a</th>\n",
       "      <th>055649</th>\n",
       "      <td>2</td>\n",
       "    </tr>\n",
       "    <tr>\n",
       "      <th>ad894d213675d725e1a36eadc10bdf63</th>\n",
       "      <th>c105a0</th>\n",
       "      <td>3</td>\n",
       "    </tr>\n",
       "    <tr>\n",
       "      <th>ae1432e7cf8a352ad9d5b5ce3bc03545</th>\n",
       "      <th>c105a0</th>\n",
       "      <td>1</td>\n",
       "    </tr>\n",
       "    <tr>\n",
       "      <th>b0855c2102393cc7bfd42dd766a5617b</th>\n",
       "      <th>c105a0</th>\n",
       "      <td>1</td>\n",
       "    </tr>\n",
       "    <tr>\n",
       "      <th>c5706b1670d5352609232125dc27d422</th>\n",
       "      <th>c105a0</th>\n",
       "      <td>2</td>\n",
       "    </tr>\n",
       "    <tr>\n",
       "      <th>c578e6194f771df650df5e10cc845483</th>\n",
       "      <th>c105a0</th>\n",
       "      <td>1</td>\n",
       "    </tr>\n",
       "    <tr>\n",
       "      <th>c92bfb4ada83dcf364da907a9faa4451</th>\n",
       "      <th>c105a0</th>\n",
       "      <td>1</td>\n",
       "    </tr>\n",
       "    <tr>\n",
       "      <th>d1b6601175bc38706e3eda82f9791966</th>\n",
       "      <th>c105a0</th>\n",
       "      <td>1</td>\n",
       "    </tr>\n",
       "    <tr>\n",
       "      <th>d58c1116900ae4fbb24acbdf8b2defeb</th>\n",
       "      <th>055649</th>\n",
       "      <td>2</td>\n",
       "    </tr>\n",
       "    <tr>\n",
       "      <th>d71ec74530c4373b3936eb54306a298f</th>\n",
       "      <th>055649</th>\n",
       "      <td>1</td>\n",
       "    </tr>\n",
       "    <tr>\n",
       "      <th>ddc845b6d2b7d88259a77c72699089eb</th>\n",
       "      <th>c105a0</th>\n",
       "      <td>1</td>\n",
       "    </tr>\n",
       "    <tr>\n",
       "      <th>df47a06c7a81aca6134a476d080a6c08</th>\n",
       "      <th>055649</th>\n",
       "      <td>1</td>\n",
       "    </tr>\n",
       "    <tr>\n",
       "      <th>e723616c3233bc21dd2f56ee781d16f1</th>\n",
       "      <th>7acab3</th>\n",
       "      <td>2</td>\n",
       "    </tr>\n",
       "    <tr>\n",
       "      <th>eeba11f25d5e6ca06cdba74ca6465568</th>\n",
       "      <th>c105a0</th>\n",
       "      <td>2</td>\n",
       "    </tr>\n",
       "    <tr>\n",
       "      <th>fb6b2110cb0219a5f79be2edf55928cd</th>\n",
       "      <th>c105a0</th>\n",
       "      <td>1</td>\n",
       "    </tr>\n",
       "    <tr>\n",
       "      <th>fd313c868b5ed7ec67d036b03f63e236</th>\n",
       "      <th>c105a0</th>\n",
       "      <td>1</td>\n",
       "    </tr>\n",
       "  </tbody>\n",
       "</table>\n",
       "<p>207224 rows × 1 columns</p>\n",
       "</div>"
      ],
      "text/plain": [
       "                                                                             times\n",
       "FileID                           CustomerID                       ProductID       \n",
       "0087304d5bee451f0d82c7407b0fa7d1 282396145a3df4452761bacf8049f6db 3ea8c3         7\n",
       "                                 501782bb051c5368f641f5299e550f32 20f8a5         8\n",
       "                                 54a57555a85251b45a9de37ba95a4cf3 7acab3         2\n",
       "                                 662a1f7c7441bace48defd0f1947bc36 7acab3         2\n",
       "                                 71a15fcfe2741879c0d3a4588c011dae 7acab3         2\n",
       "                                 bb0b6c51b1fd781a7a4cd1b2365ba889 7acab3         2\n",
       "                                 d61e6c11ba5b56de990e512e86b51886 7acab3         2\n",
       "0087e85caf760ff171b1774bafcafcae 002a0a48cb30742c0a85c8661384edb9 055649         1\n",
       "                                 01d32fea310f8b1cd8a98dd57745918b 7acab3         1\n",
       "                                 02feea730f4de6baf2e0675835e94623 055649         1\n",
       "                                 0456e70e10362f10f21ab8629c0704f8 7acab3         1\n",
       "                                 0693bb9028788dd05e691d5b41903a2a 7acab3         1\n",
       "                                 1160ca9bd5b424af814971c1897c3dbc c76d58         1\n",
       "                                 12b17df2178e0bbd99fa144903fe0afb 7acab3         1\n",
       "                                 144ca08c86870967bde66396ba32669f 055649         1\n",
       "                                 1638281433537f34fb53eb6e0a5d6bb6 7acab3         1\n",
       "                                 1a248fe68eb19b599d3a03d2936e388e 7acab3         1\n",
       "                                 1ca40a65ec6f71efe2b4f840b859b4bf 055649         1\n",
       "                                 1e180bb56546440e7fa7738af0441c5c 055649         1\n",
       "                                 216e2ac1cb62a0e39ec8f779130f3255 055649         1\n",
       "                                 25b402190079b38b5c7087c7007f7238 7acab3         1\n",
       "                                 30e96e9a8d6036a799210b9a5a5232e3 055649         1\n",
       "                                 34144d1fac98512a2733b3683956cdb5 055649         1\n",
       "                                 37045bfc8dd54190fcbb01ab8aecab10 055649         1\n",
       "                                 3811693a78ffabbfc5bb0b4adb526104 7acab3         1\n",
       "                                 3b26072d43bed713e4f01ba2378daf7a 055649         1\n",
       "                                 40bf9554af692dc7682a70627747a0ef 055649         1\n",
       "                                 45def3125f5bca7f5047931d5a738aa8 7acab3         1\n",
       "                                 466bc59569344ceeaa8d25cd73a041ce 7acab3         1\n",
       "                                 488b40fb2bb5b52ae92f4afb5854cc48 055649         1\n",
       "...                                                                            ...\n",
       "ffe023042f06cb48603058b6245fc338 75ce7c4172a145839f58642dc952668a c105a0         1\n",
       "                                 76699e4bcfbde761d45fc503c92ced50 c105a0         1\n",
       "                                 7823248eea1343f107b3aaa712614be4 c105a0         3\n",
       "                                 7a83fb37d4c12973be776212528cb31d c105a0         5\n",
       "                                 7cd9c71fe0a56aa2c88d21f02fe2ccef c105a0         1\n",
       "                                 7ea4fa751875391b73293c21c14aa432 055649         1\n",
       "                                 7fec86081b1d691268e4393cc8e9cee0 7acab3         2\n",
       "                                 8782a2c4039d65a9434c9ffbe77198e0 c105a0         1\n",
       "                                 8ce468a7cf0a985ef275aad76d85a8d6 c105a0         3\n",
       "                                 8e9ae304354117f5094c618a78f0df02 c105a0         1\n",
       "                                 98b4e58ea0d7c7a5d98ebb6f9edd234b c105a0         2\n",
       "                                 9a3ee4eda7e837d924af9c7fb5b3aeff c105a0         1\n",
       "                                 9a40017505bdc8522055268152de455e c105a0         3\n",
       "                                 9e786ac444ec164122bad895d4cf07eb 055649         1\n",
       "                                 a19bd4ac97e19ad42f642b36e394858a 055649         2\n",
       "                                 ad894d213675d725e1a36eadc10bdf63 c105a0         3\n",
       "                                 ae1432e7cf8a352ad9d5b5ce3bc03545 c105a0         1\n",
       "                                 b0855c2102393cc7bfd42dd766a5617b c105a0         1\n",
       "                                 c5706b1670d5352609232125dc27d422 c105a0         2\n",
       "                                 c578e6194f771df650df5e10cc845483 c105a0         1\n",
       "                                 c92bfb4ada83dcf364da907a9faa4451 c105a0         1\n",
       "                                 d1b6601175bc38706e3eda82f9791966 c105a0         1\n",
       "                                 d58c1116900ae4fbb24acbdf8b2defeb 055649         2\n",
       "                                 d71ec74530c4373b3936eb54306a298f 055649         1\n",
       "                                 ddc845b6d2b7d88259a77c72699089eb c105a0         1\n",
       "                                 df47a06c7a81aca6134a476d080a6c08 055649         1\n",
       "                                 e723616c3233bc21dd2f56ee781d16f1 7acab3         2\n",
       "                                 eeba11f25d5e6ca06cdba74ca6465568 c105a0         2\n",
       "                                 fb6b2110cb0219a5f79be2edf55928cd c105a0         1\n",
       "                                 fd313c868b5ed7ec67d036b03f63e236 c105a0         1\n",
       "\n",
       "[207224 rows x 1 columns]"
      ]
     },
     "execution_count": 95,
     "metadata": {},
     "output_type": "execute_result"
    }
   ],
   "source": [
    "query_0301.groupby(['FileID','CustomerID','ProductID'])[['times']].sum()"
   ]
  },
  {
   "cell_type": "code",
   "execution_count": 92,
   "metadata": {},
   "outputs": [
    {
     "ename": "TypeError",
     "evalue": "only length-1 arrays can be converted to Python scalars",
     "output_type": "error",
     "traceback": [
      "\u001b[0;31m---------------------------------------------------------------------------\u001b[0m",
      "\u001b[0;31mTypeError\u001b[0m                                 Traceback (most recent call last)",
      "\u001b[0;32m<ipython-input-92-8ba09d0fd1f5>\u001b[0m in \u001b[0;36m<module>\u001b[0;34m()\u001b[0m\n\u001b[1;32m      3\u001b[0m print(\n\u001b[1;32m      4\u001b[0m     datetime.datetime.fromtimestamp(\n\u001b[0;32m----> 5\u001b[0;31m         \u001b[0mquery_0301\u001b[0m\u001b[0;34m[\u001b[0m\u001b[0;34m'QueryTs'\u001b[0m\u001b[0;34m]\u001b[0m\u001b[0;34m.\u001b[0m\u001b[0mvalues\u001b[0m\u001b[0;34m\u001b[0m\u001b[0m\n\u001b[0m\u001b[1;32m      6\u001b[0m     ).strftime('%Y-%m-%d %H:%M:%S'))\n",
      "\u001b[0;31mTypeError\u001b[0m: only length-1 arrays can be converted to Python scalars"
     ]
    }
   ],
   "source": [
    "#timestamp轉換\n",
    "import datetime\n",
    "print(\n",
    "    datetime.datetime.fromtimestamp(\n",
    "        query_0301['QueryTs'].values\n",
    "    ).strftime('%Y-%m-%d %H:%M:%S'))"
   ]
  },
  {
   "cell_type": "code",
   "execution_count": null,
   "metadata": {},
   "outputs": [],
   "source": [
    "query_0301['QueryTs'] = pd.to_datetime(query_0301['QueryTs'])"
   ]
  },
  {
   "cell_type": "code",
   "execution_count": 8,
   "metadata": {},
   "outputs": [
    {
     "data": {
      "text/plain": [
       "0.625"
      ]
     },
     "execution_count": 8,
     "metadata": {},
     "output_type": "execute_result"
    }
   ],
   "source": [
    "#AUC計算範例\n",
    "from sklearn import metrics\n",
    "y = np.array([1, 1, 2, 2])\n",
    "pred = np.array([0.9, 0.1, 0.7, 0.9])\n",
    "fpr, tpr, thresholds = metrics.roc_curve(y, pred, pos_label=2)\n",
    "metrics.auc(fpr, tpr)"
   ]
  }
 ],
 "metadata": {
  "kernelspec": {
   "display_name": "Python 3",
   "language": "python",
   "name": "python3"
  },
  "language_info": {
   "codemirror_mode": {
    "name": "ipython",
    "version": 3
   },
   "file_extension": ".py",
   "mimetype": "text/x-python",
   "name": "python",
   "nbconvert_exporter": "python",
   "pygments_lexer": "ipython3",
   "version": "3.6.3"
  }
 },
 "nbformat": 4,
 "nbformat_minor": 2
}
