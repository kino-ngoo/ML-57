{
 "cells": [
  {
   "cell_type": "code",
   "execution_count": 1,
   "metadata": {},
   "outputs": [],
   "source": [
    "import pandas as pd\n",
    "import numpy as np\n",
    "from sklearn import datasets, tree, linear_model\n",
    "import matplotlib.pyplot as plt\n",
    "import sklearn.ensemble as ek\n",
    "import seaborn as sns\n",
    "plt.rcParams['font.family']='SimHei' #顯示中文\n",
    "%matplotlib inline\n",
    "import warnings\n",
    "warnings.filterwarnings('ignore')"
   ]
  },
  {
   "cell_type": "code",
   "execution_count": 2,
   "metadata": {},
   "outputs": [],
   "source": [
    "# Load in the train datasets\n",
    "train = pd.read_csv('/data/examples/trend/data/training-set.csv', names=['FileID','label'], encoding = \"utf-8\", header=None)\n",
    "test = pd.read_csv('/data/examples/trend/data/testing-set.csv',names=['FileID','AUC'], encoding = \"utf-8\", header=None)"
   ]
  },
  {
   "cell_type": "code",
   "execution_count": 3,
   "metadata": {},
   "outputs": [
    {
     "data": {
      "text/plain": [
       "(52518, 2)"
      ]
     },
     "execution_count": 3,
     "metadata": {},
     "output_type": "execute_result"
    }
   ],
   "source": [
    "train.shape"
   ]
  },
  {
   "cell_type": "code",
   "execution_count": 3,
   "metadata": {},
   "outputs": [],
   "source": [
    "#query_log裡面被官方排除的 FileID\n",
    "train_exc = pd.read_csv('/data/examples/trend/data/exception/exception_train.txt', encoding = \"utf-8\", header=None)\n",
    "test_exc = pd.read_csv('/data/examples/trend/data/exception/exception_testing.txt', encoding = \"utf-8\", header=None)"
   ]
  },
  {
   "cell_type": "code",
   "execution_count": 5,
   "metadata": {},
   "outputs": [
    {
     "data": {
      "text/plain": [
       "(41,)"
      ]
     },
     "execution_count": 5,
     "metadata": {},
     "output_type": "execute_result"
    }
   ],
   "source": [
    "train_exc[0].shape"
   ]
  },
  {
   "cell_type": "code",
   "execution_count": 4,
   "metadata": {},
   "outputs": [],
   "source": [
    "for i in train_exc[0]:\n",
    "    train = train[train['FileID']!=i]"
   ]
  },
  {
   "cell_type": "code",
   "execution_count": 5,
   "metadata": {},
   "outputs": [
    {
     "data": {
      "text/plain": [
       "52518"
      ]
     },
     "execution_count": 5,
     "metadata": {},
     "output_type": "execute_result"
    }
   ],
   "source": [
    "len(np.setdiff1d(train['FileID'], train_exc[0]))"
   ]
  },
  {
   "cell_type": "code",
   "execution_count": 11,
   "metadata": {},
   "outputs": [],
   "source": [
    "# from sklearn.preprocessing import Imputer\n",
    "# imputer = Imputer(missing_values='NaN', axis=0, strategy='mean') \n",
    "# imputer.fit_transform(X[:,[1,3]])"
   ]
  },
  {
   "cell_type": "code",
   "execution_count": 12,
   "metadata": {},
   "outputs": [
    {
     "data": {
      "text/html": [
       "<div>\n",
       "<table border=\"1\" class=\"dataframe\">\n",
       "  <thead>\n",
       "    <tr style=\"text-align: right;\">\n",
       "      <th></th>\n",
       "      <th>FileID</th>\n",
       "      <th>label</th>\n",
       "    </tr>\n",
       "  </thead>\n",
       "  <tbody>\n",
       "    <tr>\n",
       "      <th>0</th>\n",
       "      <td>0000e2398b12121a85166fed5fe2a3da</td>\n",
       "      <td>0</td>\n",
       "    </tr>\n",
       "    <tr>\n",
       "      <th>1</th>\n",
       "      <td>0001fe8dce14ce099aa6ca8ea5026ea7</td>\n",
       "      <td>0</td>\n",
       "    </tr>\n",
       "    <tr>\n",
       "      <th>2</th>\n",
       "      <td>00027f50019000accc492e5684efc818</td>\n",
       "      <td>0</td>\n",
       "    </tr>\n",
       "    <tr>\n",
       "      <th>3</th>\n",
       "      <td>00028c9da3573ec50db74b44310ae507</td>\n",
       "      <td>0</td>\n",
       "    </tr>\n",
       "    <tr>\n",
       "      <th>4</th>\n",
       "      <td>0003dc8130969abe688cadf5f14ea19f</td>\n",
       "      <td>0</td>\n",
       "    </tr>\n",
       "  </tbody>\n",
       "</table>\n",
       "</div>"
      ],
      "text/plain": [
       "                             FileID  label\n",
       "0  0000e2398b12121a85166fed5fe2a3da      0\n",
       "1  0001fe8dce14ce099aa6ca8ea5026ea7      0\n",
       "2  00027f50019000accc492e5684efc818      0\n",
       "3  00028c9da3573ec50db74b44310ae507      0\n",
       "4  0003dc8130969abe688cadf5f14ea19f      0"
      ]
     },
     "execution_count": 12,
     "metadata": {},
     "output_type": "execute_result"
    }
   ],
   "source": [
    "# training set - label: 0:非惡意程式, 1:惡意程式\n",
    "# train.columns=['FileID','label']\n",
    "train.head()\n",
    "# train.count()"
   ]
  },
  {
   "cell_type": "code",
   "execution_count": 13,
   "metadata": {},
   "outputs": [
    {
     "data": {
      "text/plain": [
       "label\n",
       "0    46878\n",
       "1     5640\n",
       "dtype: int64"
      ]
     },
     "execution_count": 13,
     "metadata": {},
     "output_type": "execute_result"
    }
   ],
   "source": [
    "train.groupby(train['label']).size()"
   ]
  },
  {
   "cell_type": "code",
   "execution_count": 14,
   "metadata": {},
   "outputs": [
    {
     "data": {
      "text/plain": [
       "0    46878\n",
       "1     5640\n",
       "Name: label, dtype: int64"
      ]
     },
     "execution_count": 14,
     "metadata": {},
     "output_type": "execute_result"
    }
   ],
   "source": [
    "train['label'].value_counts()"
   ]
  },
  {
   "cell_type": "code",
   "execution_count": 17,
   "metadata": {},
   "outputs": [
    {
     "data": {
      "text/html": [
       "<div>\n",
       "<table border=\"1\" class=\"dataframe\">\n",
       "  <thead>\n",
       "    <tr style=\"text-align: right;\">\n",
       "      <th></th>\n",
       "      <th>FileID</th>\n",
       "      <th>AUC</th>\n",
       "    </tr>\n",
       "  </thead>\n",
       "  <tbody>\n",
       "    <tr>\n",
       "      <th>0</th>\n",
       "      <td>00008c73ee43c15b16c26b26398c1577</td>\n",
       "      <td>0.5</td>\n",
       "    </tr>\n",
       "    <tr>\n",
       "      <th>1</th>\n",
       "      <td>0002ded3a0b54f2ffdab0ca77a5ce2b6</td>\n",
       "      <td>0.5</td>\n",
       "    </tr>\n",
       "    <tr>\n",
       "      <th>2</th>\n",
       "      <td>00050a9df8e13f6ab5a3d3b3e2fc6a86</td>\n",
       "      <td>0.5</td>\n",
       "    </tr>\n",
       "    <tr>\n",
       "      <th>3</th>\n",
       "      <td>000b1aa62b95e448784b8b341de46c64</td>\n",
       "      <td>0.5</td>\n",
       "    </tr>\n",
       "    <tr>\n",
       "      <th>4</th>\n",
       "      <td>000d9f96b5eddf04a3b7a37cb95d0a00</td>\n",
       "      <td>0.5</td>\n",
       "    </tr>\n",
       "  </tbody>\n",
       "</table>\n",
       "</div>"
      ],
      "text/plain": [
       "                             FileID  AUC\n",
       "0  00008c73ee43c15b16c26b26398c1577  0.5\n",
       "1  0002ded3a0b54f2ffdab0ca77a5ce2b6  0.5\n",
       "2  00050a9df8e13f6ab5a3d3b3e2fc6a86  0.5\n",
       "3  000b1aa62b95e448784b8b341de46c64  0.5\n",
       "4  000d9f96b5eddf04a3b7a37cb95d0a00  0.5"
      ]
     },
     "execution_count": 17,
     "metadata": {},
     "output_type": "execute_result"
    }
   ],
   "source": [
    "# testing set - AUC: Area Under ROC Curve\n",
    "# test.columns=['FileID','AUC']\n",
    "test.head()\n",
    "# test.count()"
   ]
  },
  {
   "cell_type": "code",
   "execution_count": 18,
   "metadata": {},
   "outputs": [
    {
     "name": "stdout",
     "output_type": "stream",
     "text": [
      "True\n",
      "True\n",
      "True\n",
      "True\n",
      "True\n",
      "True\n",
      "True\n",
      "True\n",
      "True\n",
      "True\n",
      "True\n",
      "True\n",
      "True\n",
      "True\n",
      "True\n",
      "True\n",
      "True\n",
      "True\n",
      "True\n",
      "True\n",
      "True\n",
      "True\n",
      "True\n",
      "True\n",
      "True\n",
      "True\n",
      "True\n",
      "True\n",
      "True\n",
      "True\n",
      "True\n",
      "True\n",
      "True\n",
      "True\n",
      "True\n",
      "True\n",
      "True\n",
      "True\n",
      "True\n",
      "True\n",
      "True\n"
     ]
    }
   ],
   "source": [
    "# 確認排除的FileID在training set裡面找不到\n",
    "# for item in train_exc:\n",
    "#   print(train[train['FileID']==item])\n",
    "for item, row in train_exc.iterrows():\n",
    "    print(train[train['FileID']==row[0]].empty)"
   ]
  },
  {
   "cell_type": "code",
   "execution_count": 4,
   "metadata": {},
   "outputs": [],
   "source": [
    "#取0301當天的query log來查看\n",
    "query_0301 = pd.read_csv('/data/examples/trend/data/query_log/0301.csv', names=['FileID','CustomerID','QueryTs','ProductID'], encoding = \"utf-8\", header=None)\n",
    "# query_0301.columns=['FileID','CustomerID','QueryTs','ProductID']\n",
    "query_0301['times'] = 1"
   ]
  },
  {
   "cell_type": "code",
   "execution_count": 7,
   "metadata": {},
   "outputs": [
    {
     "data": {
      "text/html": [
       "<div>\n",
       "<table border=\"1\" class=\"dataframe\">\n",
       "  <thead>\n",
       "    <tr style=\"text-align: right;\">\n",
       "      <th></th>\n",
       "      <th>FileID</th>\n",
       "      <th>CustomerID</th>\n",
       "      <th>QueryTs</th>\n",
       "      <th>ProductID</th>\n",
       "      <th>times</th>\n",
       "    </tr>\n",
       "  </thead>\n",
       "  <tbody>\n",
       "    <tr>\n",
       "      <th>0</th>\n",
       "      <td>dfccd8e23f0b03ec4db7a9a745ad7399</td>\n",
       "      <td>64573086fcfee53e8fa6d8f1f44101bb</td>\n",
       "      <td>1488326402</td>\n",
       "      <td>c105a0</td>\n",
       "      <td>1</td>\n",
       "    </tr>\n",
       "    <tr>\n",
       "      <th>1</th>\n",
       "      <td>29962f9102502ee76bb3cddb8cf8c9ad</td>\n",
       "      <td>597df153a25e8e548cbe35f6e4da9cbb</td>\n",
       "      <td>1488326403</td>\n",
       "      <td>c105a0</td>\n",
       "      <td>1</td>\n",
       "    </tr>\n",
       "    <tr>\n",
       "      <th>2</th>\n",
       "      <td>fa3fa642378b9d98c0e2770611b92eb3</td>\n",
       "      <td>1db24b8cc0a7ce59634629e7f292520f</td>\n",
       "      <td>1488326405</td>\n",
       "      <td>c105a0</td>\n",
       "      <td>1</td>\n",
       "    </tr>\n",
       "    <tr>\n",
       "      <th>3</th>\n",
       "      <td>48f90ea1af2c04677c6890db392ca088</td>\n",
       "      <td>5ca6dd0b8863069ab1efe014de82cecf</td>\n",
       "      <td>1488326411</td>\n",
       "      <td>c76d58</td>\n",
       "      <td>1</td>\n",
       "    </tr>\n",
       "    <tr>\n",
       "      <th>4</th>\n",
       "      <td>d0ff310c25e3bd7ae919d34dc38fb0de</td>\n",
       "      <td>5ca6dd0b8863069ab1efe014de82cecf</td>\n",
       "      <td>1488326411</td>\n",
       "      <td>c76d58</td>\n",
       "      <td>1</td>\n",
       "    </tr>\n",
       "  </tbody>\n",
       "</table>\n",
       "</div>"
      ],
      "text/plain": [
       "                             FileID                        CustomerID  \\\n",
       "0  dfccd8e23f0b03ec4db7a9a745ad7399  64573086fcfee53e8fa6d8f1f44101bb   \n",
       "1  29962f9102502ee76bb3cddb8cf8c9ad  597df153a25e8e548cbe35f6e4da9cbb   \n",
       "2  fa3fa642378b9d98c0e2770611b92eb3  1db24b8cc0a7ce59634629e7f292520f   \n",
       "3  48f90ea1af2c04677c6890db392ca088  5ca6dd0b8863069ab1efe014de82cecf   \n",
       "4  d0ff310c25e3bd7ae919d34dc38fb0de  5ca6dd0b8863069ab1efe014de82cecf   \n",
       "\n",
       "      QueryTs ProductID  times  \n",
       "0  1488326402    c105a0      1  \n",
       "1  1488326403    c105a0      1  \n",
       "2  1488326405    c105a0      1  \n",
       "3  1488326411    c76d58      1  \n",
       "4  1488326411    c76d58      1  "
      ]
     },
     "execution_count": 7,
     "metadata": {},
     "output_type": "execute_result"
    }
   ],
   "source": [
    "query_0301.head()"
   ]
  },
  {
   "cell_type": "code",
   "execution_count": 8,
   "metadata": {},
   "outputs": [
    {
     "data": {
      "text/html": [
       "<div>\n",
       "<table border=\"1\" class=\"dataframe\">\n",
       "  <thead>\n",
       "    <tr style=\"text-align: right;\">\n",
       "      <th></th>\n",
       "      <th>QueryTs</th>\n",
       "      <th>times</th>\n",
       "    </tr>\n",
       "  </thead>\n",
       "  <tbody>\n",
       "    <tr>\n",
       "      <th>count</th>\n",
       "      <td>4.755690e+05</td>\n",
       "      <td>475569.0</td>\n",
       "    </tr>\n",
       "    <tr>\n",
       "      <th>mean</th>\n",
       "      <td>1.488366e+09</td>\n",
       "      <td>1.0</td>\n",
       "    </tr>\n",
       "    <tr>\n",
       "      <th>std</th>\n",
       "      <td>2.451022e+04</td>\n",
       "      <td>0.0</td>\n",
       "    </tr>\n",
       "    <tr>\n",
       "      <th>min</th>\n",
       "      <td>1.488326e+09</td>\n",
       "      <td>1.0</td>\n",
       "    </tr>\n",
       "    <tr>\n",
       "      <th>25%</th>\n",
       "      <td>1.488346e+09</td>\n",
       "      <td>1.0</td>\n",
       "    </tr>\n",
       "    <tr>\n",
       "      <th>50%</th>\n",
       "      <td>1.488365e+09</td>\n",
       "      <td>1.0</td>\n",
       "    </tr>\n",
       "    <tr>\n",
       "      <th>75%</th>\n",
       "      <td>1.488385e+09</td>\n",
       "      <td>1.0</td>\n",
       "    </tr>\n",
       "    <tr>\n",
       "      <th>max</th>\n",
       "      <td>1.488413e+09</td>\n",
       "      <td>1.0</td>\n",
       "    </tr>\n",
       "  </tbody>\n",
       "</table>\n",
       "</div>"
      ],
      "text/plain": [
       "            QueryTs     times\n",
       "count  4.755690e+05  475569.0\n",
       "mean   1.488366e+09       1.0\n",
       "std    2.451022e+04       0.0\n",
       "min    1.488326e+09       1.0\n",
       "25%    1.488346e+09       1.0\n",
       "50%    1.488365e+09       1.0\n",
       "75%    1.488385e+09       1.0\n",
       "max    1.488413e+09       1.0"
      ]
     },
     "execution_count": 8,
     "metadata": {},
     "output_type": "execute_result"
    }
   ],
   "source": [
    "query_0301.describe()"
   ]
  },
  {
   "cell_type": "code",
   "execution_count": 9,
   "metadata": {},
   "outputs": [
    {
     "name": "stdout",
     "output_type": "stream",
     "text": [
      "<class 'pandas.core.frame.DataFrame'>\n",
      "RangeIndex: 475569 entries, 0 to 475568\n",
      "Data columns (total 5 columns):\n",
      "FileID        475569 non-null object\n",
      "CustomerID    475569 non-null object\n",
      "QueryTs       475569 non-null int64\n",
      "ProductID     475569 non-null object\n",
      "times         475569 non-null int64\n",
      "dtypes: int64(2), object(3)\n",
      "memory usage: 18.1+ MB\n"
     ]
    }
   ],
   "source": [
    "# query_0301.info(memory_usage='deep')\n",
    "query_0301.info()"
   ]
  },
  {
   "cell_type": "code",
   "execution_count": 10,
   "metadata": {},
   "outputs": [
    {
     "data": {
      "text/plain": [
       "2445"
      ]
     },
     "execution_count": 10,
     "metadata": {},
     "output_type": "execute_result"
    }
   ],
   "source": [
    "query_0301['FileID'].nunique() #.value_counts()"
   ]
  },
  {
   "cell_type": "code",
   "execution_count": 11,
   "metadata": {},
   "outputs": [
    {
     "data": {
      "text/plain": [
       "108414"
      ]
     },
     "execution_count": 11,
     "metadata": {},
     "output_type": "execute_result"
    }
   ],
   "source": [
    "query_0301['CustomerID'].nunique()"
   ]
  },
  {
   "cell_type": "code",
   "execution_count": 25,
   "metadata": {},
   "outputs": [
    {
     "data": {
      "text/plain": [
       "85030"
      ]
     },
     "execution_count": 25,
     "metadata": {},
     "output_type": "execute_result"
    }
   ],
   "source": [
    "query_0301['QueryTs'].nunique()"
   ]
  },
  {
   "cell_type": "code",
   "execution_count": 26,
   "metadata": {},
   "outputs": [
    {
     "data": {
      "text/plain": [
       "14"
      ]
     },
     "execution_count": 26,
     "metadata": {},
     "output_type": "execute_result"
    }
   ],
   "source": [
    "query_0301['ProductID'].nunique()"
   ]
  },
  {
   "cell_type": "code",
   "execution_count": 27,
   "metadata": {},
   "outputs": [],
   "source": [
    "# query_0301.pivot_table(values='times',index=['FileID'],columns='ProductID',aggfunc='sum').head()"
   ]
  },
  {
   "cell_type": "code",
   "execution_count": 43,
   "metadata": {},
   "outputs": [
    {
     "name": "stdout",
     "output_type": "stream",
     "text": [
      "讀入第 0 個 /data/examples/trend/data/query_log/0523.csv data...\n",
      "讀入第 1 個 /data/examples/trend/data/query_log/0323.csv data...\n",
      "讀入第 2 個 /data/examples/trend/data/query_log/0427.csv data...\n",
      "讀入第 3 個 /data/examples/trend/data/query_log/0305.csv data...\n",
      "讀入第 4 個 /data/examples/trend/data/query_log/0512.csv data...\n",
      "讀入第 5 個 /data/examples/trend/data/query_log/0501.csv data...\n",
      "讀入第 6 個 /data/examples/trend/data/query_log/0404.csv data...\n",
      "讀入第 7 個 /data/examples/trend/data/query_log/0413.csv data...\n",
      "讀入第 8 個 /data/examples/trend/data/query_log/0416.csv data...\n",
      "讀入第 9 個 /data/examples/trend/data/query_log/0428.csv data...\n",
      "讀入第 10 個 /data/examples/trend/data/query_log/0526.csv data...\n",
      "讀入第 11 個 /data/examples/trend/data/query_log/0320.csv data...\n",
      "讀入第 12 個 /data/examples/trend/data/query_log/0528.csv data...\n",
      "讀入第 13 個 /data/examples/trend/data/query_log/0419.csv data...\n",
      "讀入第 14 個 /data/examples/trend/data/query_log/0522.csv data...\n",
      "讀入第 15 個 /data/examples/trend/data/query_log/0517.csv data...\n",
      "讀入第 16 個 /data/examples/trend/data/query_log/0405.csv data...\n",
      "讀入第 17 個 /data/examples/trend/data/query_log/0409.csv data...\n",
      "讀入第 18 個 /data/examples/trend/data/query_log/0530.csv data...\n",
      "讀入第 19 個 /data/examples/trend/data/query_log/0321.csv data...\n",
      "讀入第 20 個 /data/examples/trend/data/query_log/0301.csv data...\n",
      "讀入第 21 個 /data/examples/trend/data/query_log/0326.csv data...\n",
      "讀入第 22 個 /data/examples/trend/data/query_log/0325.csv data...\n",
      "讀入第 23 個 /data/examples/trend/data/query_log/0330.csv data...\n",
      "讀入第 24 個 /data/examples/trend/data/query_log/0318.csv data...\n",
      "讀入第 25 個 /data/examples/trend/data/query_log/0309.csv data...\n",
      "讀入第 26 個 /data/examples/trend/data/query_log/0527.csv data...\n",
      "讀入第 27 個 /data/examples/trend/data/query_log/0425.csv data...\n",
      "讀入第 28 個 /data/examples/trend/data/query_log/0421.csv data...\n",
      "讀入第 29 個 /data/examples/trend/data/query_log/0410.csv data...\n",
      "讀入第 30 個 /data/examples/trend/data/query_log/0429.csv data...\n",
      "讀入第 31 個 /data/examples/trend/data/query_log/0509.csv data...\n",
      "讀入第 32 個 /data/examples/trend/data/query_log/0418.csv data...\n",
      "讀入第 33 個 /data/examples/trend/data/query_log/0303.csv data...\n",
      "讀入第 34 個 /data/examples/trend/data/query_log/0314.csv data...\n",
      "讀入第 35 個 /data/examples/trend/data/query_log/0406.csv data...\n",
      "讀入第 36 個 /data/examples/trend/data/query_log/0312.csv data...\n",
      "讀入第 37 個 /data/examples/trend/data/query_log/0508.csv data...\n",
      "讀入第 38 個 /data/examples/trend/data/query_log/0331.csv data...\n",
      "讀入第 39 個 /data/examples/trend/data/query_log/0520.csv data...\n",
      "讀入第 40 個 /data/examples/trend/data/query_log/0322.csv data...\n",
      "讀入第 41 個 /data/examples/trend/data/query_log/0430.csv data...\n",
      "讀入第 42 個 /data/examples/trend/data/query_log/0402.csv data...\n",
      "讀入第 43 個 /data/examples/trend/data/query_log/0420.csv data...\n",
      "讀入第 44 個 /data/examples/trend/data/query_log/0502.csv data...\n",
      "讀入第 45 個 /data/examples/trend/data/query_log/0304.csv data...\n",
      "讀入第 46 個 /data/examples/trend/data/query_log/0507.csv data...\n",
      "讀入第 47 個 /data/examples/trend/data/query_log/0510.csv data...\n",
      "讀入第 48 個 /data/examples/trend/data/query_log/0531.csv data...\n",
      "讀入第 49 個 /data/examples/trend/data/query_log/0311.csv data...\n",
      "讀入第 50 個 /data/examples/trend/data/query_log/0408.csv data...\n",
      "讀入第 51 個 /data/examples/trend/data/query_log/0412.csv data...\n",
      "讀入第 52 個 /data/examples/trend/data/query_log/0515.csv data...\n",
      "讀入第 53 個 /data/examples/trend/data/query_log/0307.csv data...\n",
      "讀入第 54 個 /data/examples/trend/data/query_log/0329.csv data...\n",
      "讀入第 55 個 /data/examples/trend/data/query_log/0503.csv data...\n",
      "讀入第 56 個 /data/examples/trend/data/query_log/0407.csv data...\n",
      "讀入第 57 個 /data/examples/trend/data/query_log/0519.csv data...\n",
      "讀入第 58 個 /data/examples/trend/data/query_log/0328.csv data...\n",
      "讀入第 59 個 /data/examples/trend/data/query_log/0306.csv data...\n",
      "讀入第 60 個 /data/examples/trend/data/query_log/0324.csv data...\n",
      "讀入第 61 個 /data/examples/trend/data/query_log/0319.csv data...\n",
      "讀入第 62 個 /data/examples/trend/data/query_log/0401.csv data...\n",
      "讀入第 63 個 /data/examples/trend/data/query_log/0308.csv data...\n",
      "讀入第 64 個 /data/examples/trend/data/query_log/0302.csv data...\n",
      "讀入第 65 個 /data/examples/trend/data/query_log/0518.csv data...\n",
      "讀入第 66 個 /data/examples/trend/data/query_log/0403.csv data...\n",
      "讀入第 67 個 /data/examples/trend/data/query_log/0422.csv data...\n",
      "讀入第 68 個 /data/examples/trend/data/query_log/0414.csv data...\n",
      "讀入第 69 個 /data/examples/trend/data/query_log/0310.csv data...\n",
      "讀入第 70 個 /data/examples/trend/data/query_log/0504.csv data...\n",
      "讀入第 71 個 /data/examples/trend/data/query_log/0524.csv data...\n",
      "讀入第 72 個 /data/examples/trend/data/query_log/0516.csv data...\n",
      "讀入第 73 個 /data/examples/trend/data/query_log/0315.csv data...\n",
      "讀入第 74 個 /data/examples/trend/data/query_log/0521.csv data...\n",
      "讀入第 75 個 /data/examples/trend/data/query_log/0514.csv data...\n",
      "讀入第 76 個 /data/examples/trend/data/query_log/0316.csv data...\n",
      "讀入第 77 個 /data/examples/trend/data/query_log/0424.csv data...\n",
      "讀入第 78 個 /data/examples/trend/data/query_log/0411.csv data...\n",
      "讀入第 79 個 /data/examples/trend/data/query_log/0317.csv data...\n",
      "讀入第 80 個 /data/examples/trend/data/query_log/0511.csv data...\n",
      "讀入第 81 個 /data/examples/trend/data/query_log/0529.csv data...\n",
      "讀入第 82 個 /data/examples/trend/data/query_log/0423.csv data...\n",
      "讀入第 83 個 /data/examples/trend/data/query_log/0513.csv data...\n",
      "讀入第 84 個 /data/examples/trend/data/query_log/0505.csv data...\n",
      "讀入第 85 個 /data/examples/trend/data/query_log/0525.csv data...\n",
      "讀入第 86 個 /data/examples/trend/data/query_log/0417.csv data...\n",
      "讀入第 87 個 /data/examples/trend/data/query_log/0327.csv data...\n",
      "讀入第 88 個 /data/examples/trend/data/query_log/0415.csv data...\n",
      "讀入第 89 個 /data/examples/trend/data/query_log/0506.csv data...\n",
      "讀入第 90 個 /data/examples/trend/data/query_log/0313.csv data...\n",
      "讀入第 91 個 /data/examples/trend/data/query_log/0426.csv data...\n"
     ]
    }
   ],
   "source": [
    "import os\n",
    "root_data_path = '/data/examples/trend/data/'\n",
    "\n",
    "query_log_path = root_data_path + 'query_log'\n",
    "for i, file in enumerate(os.listdir(query_log_path)):\n",
    "    if file.endswith(\".csv\"):\n",
    "        ff = os.path.join(query_log_path, file)\n",
    "        print('讀入第 {} 個 {} data...'.format(i, ff))\n",
    "        df_temp = pd.read_csv(ff, header=None)\n",
    "        if i==0:\n",
    "            df_all_query_log = df_temp\n",
    "        else:\n",
    "            df_all_query_log = df_all_query_log.append(df_temp, ignore_index=True)"
   ]
  },
  {
   "cell_type": "markdown",
   "metadata": {},
   "source": [
    "import glob\n",
    "# import pandas as pd\n",
    "# import time\n",
    "from tqdm import tqdm_notebook as tqdm\n",
    "\n",
    "# start_time = time.time()\n",
    "\n",
    "path ='/data/examples/trend/data/query_log/' # use your path\n",
    "allFiles = glob.glob(path + \"/*.csv\")\n",
    "frame = pd.DataFrame()\n",
    "list_ = []\n",
    "for file_ in tqdm(allFiles):\n",
    "    df = pd.read_csv(file_,index_col=None, header=0) #, data_parse = ['QueryTs'])\n",
    "    list_.append(df)\n",
    "frame = pd.concat(list_)\n",
    "\n",
    "# print(time.time()-start_time)"
   ]
  },
  {
   "cell_type": "code",
   "execution_count": null,
   "metadata": {},
   "outputs": [],
   "source": [
    "frame = pd.concat(list_)"
   ]
  },
  {
   "cell_type": "code",
   "execution_count": 10,
   "metadata": {},
   "outputs": [
    {
     "data": {
      "text/plain": [
       "(83273110, 4)"
      ]
     },
     "execution_count": 10,
     "metadata": {},
     "output_type": "execute_result"
    }
   ],
   "source": [
    "# frame.to_csv('frame.csv',index=Fasle)\n",
    "df_all_query_log.shape"
   ]
  },
  {
   "cell_type": "code",
   "execution_count": 14,
   "metadata": {},
   "outputs": [
    {
     "data": {
      "text/html": [
       "<div>\n",
       "<table border=\"1\" class=\"dataframe\">\n",
       "  <thead>\n",
       "    <tr style=\"text-align: right;\">\n",
       "      <th></th>\n",
       "      <th>FileID</th>\n",
       "      <th>CustomerID</th>\n",
       "      <th>QueryTs</th>\n",
       "      <th>ProductID</th>\n",
       "      <th>times</th>\n",
       "    </tr>\n",
       "  </thead>\n",
       "  <tbody>\n",
       "    <tr>\n",
       "      <th>0</th>\n",
       "      <td>63676131ae4f15699db65bd7f9a2a18a</td>\n",
       "      <td>49075aad975fa57e805c62a8494a75e4</td>\n",
       "      <td>1495497600</td>\n",
       "      <td>c105a0</td>\n",
       "      <td>1</td>\n",
       "    </tr>\n",
       "    <tr>\n",
       "      <th>1</th>\n",
       "      <td>ba04807b9b65835482302fab98fc523f</td>\n",
       "      <td>da02366776ceaae99adeed9c7140307f</td>\n",
       "      <td>1495497600</td>\n",
       "      <td>c105a0</td>\n",
       "      <td>1</td>\n",
       "    </tr>\n",
       "    <tr>\n",
       "      <th>2</th>\n",
       "      <td>16ea975c524b69ca3f2561969fabed6b</td>\n",
       "      <td>437276bc51f1603b0c8b41119019d813</td>\n",
       "      <td>1495497604</td>\n",
       "      <td>c76d58</td>\n",
       "      <td>1</td>\n",
       "    </tr>\n",
       "    <tr>\n",
       "      <th>3</th>\n",
       "      <td>1941c3fe0c5c2d53ba94d0eab99f169c</td>\n",
       "      <td>a286ad2bfd4a05d98a3a393b21180aaf</td>\n",
       "      <td>1495497612</td>\n",
       "      <td>c105a0</td>\n",
       "      <td>1</td>\n",
       "    </tr>\n",
       "    <tr>\n",
       "      <th>4</th>\n",
       "      <td>1941c3fe0c5c2d53ba94d0eab99f169c</td>\n",
       "      <td>a286ad2bfd4a05d98a3a393b21180aaf</td>\n",
       "      <td>1495497615</td>\n",
       "      <td>c105a0</td>\n",
       "      <td>1</td>\n",
       "    </tr>\n",
       "  </tbody>\n",
       "</table>\n",
       "</div>"
      ],
      "text/plain": [
       "                             FileID                        CustomerID  \\\n",
       "0  63676131ae4f15699db65bd7f9a2a18a  49075aad975fa57e805c62a8494a75e4   \n",
       "1  ba04807b9b65835482302fab98fc523f  da02366776ceaae99adeed9c7140307f   \n",
       "2  16ea975c524b69ca3f2561969fabed6b  437276bc51f1603b0c8b41119019d813   \n",
       "3  1941c3fe0c5c2d53ba94d0eab99f169c  a286ad2bfd4a05d98a3a393b21180aaf   \n",
       "4  1941c3fe0c5c2d53ba94d0eab99f169c  a286ad2bfd4a05d98a3a393b21180aaf   \n",
       "\n",
       "      QueryTs ProductID  times  \n",
       "0  1495497600    c105a0      1  \n",
       "1  1495497600    c105a0      1  \n",
       "2  1495497604    c76d58      1  \n",
       "3  1495497612    c105a0      1  \n",
       "4  1495497615    c105a0      1  "
      ]
     },
     "execution_count": 14,
     "metadata": {},
     "output_type": "execute_result"
    }
   ],
   "source": [
    "df_all_query_log.columns=['FileID','CustomerID','QueryTs','ProductID']\n",
    "df_all_query_log['times'] = 1\n",
    "df_all_query_log.head()"
   ]
  },
  {
   "cell_type": "code",
   "execution_count": 15,
   "metadata": {},
   "outputs": [
    {
     "data": {
      "text/html": [
       "<div>\n",
       "<table border=\"1\" class=\"dataframe\">\n",
       "  <thead>\n",
       "    <tr style=\"text-align: right;\">\n",
       "      <th></th>\n",
       "      <th></th>\n",
       "      <th></th>\n",
       "      <th>times</th>\n",
       "    </tr>\n",
       "    <tr>\n",
       "      <th>FileID</th>\n",
       "      <th>CustomerID</th>\n",
       "      <th>ProductID</th>\n",
       "      <th></th>\n",
       "    </tr>\n",
       "  </thead>\n",
       "  <tbody>\n",
       "    <tr>\n",
       "      <th rowspan=\"30\" valign=\"top\">00008c73ee43c15b16c26b26398c1577</th>\n",
       "      <th>033e91e730e176cd2ac81dc48a8f5088</th>\n",
       "      <th>7acab3</th>\n",
       "      <td>3</td>\n",
       "    </tr>\n",
       "    <tr>\n",
       "      <th>06bea9f9c1d72c4d3151efa6bcd5ba83</th>\n",
       "      <th>e47f04</th>\n",
       "      <td>3</td>\n",
       "    </tr>\n",
       "    <tr>\n",
       "      <th>113597f904c023f44d1a01babb780f58</th>\n",
       "      <th>7acab3</th>\n",
       "      <td>1</td>\n",
       "    </tr>\n",
       "    <tr>\n",
       "      <th>12f5f66461e78a75266a1535178b0523</th>\n",
       "      <th>e47f04</th>\n",
       "      <td>3</td>\n",
       "    </tr>\n",
       "    <tr>\n",
       "      <th>1b3061efd83d14f3f8e5411cd9aceccf</th>\n",
       "      <th>e47f04</th>\n",
       "      <td>1</td>\n",
       "    </tr>\n",
       "    <tr>\n",
       "      <th>1dfe70c932c3d86bc6da193a68437590</th>\n",
       "      <th>e47f04</th>\n",
       "      <td>1</td>\n",
       "    </tr>\n",
       "    <tr>\n",
       "      <th>1f4d9de76b1579f5defba747152a3bd9</th>\n",
       "      <th>e47f04</th>\n",
       "      <td>2</td>\n",
       "    </tr>\n",
       "    <tr>\n",
       "      <th>2061e471056569886dc55d2deecf10ea</th>\n",
       "      <th>e47f04</th>\n",
       "      <td>1</td>\n",
       "    </tr>\n",
       "    <tr>\n",
       "      <th>20b84480b3e4d56c89cdb0f468fddb20</th>\n",
       "      <th>e47f04</th>\n",
       "      <td>1</td>\n",
       "    </tr>\n",
       "    <tr>\n",
       "      <th>2126efd5e40acd2fb45fc4d02e628850</th>\n",
       "      <th>885fab</th>\n",
       "      <td>1</td>\n",
       "    </tr>\n",
       "    <tr>\n",
       "      <th>282396145a3df4452761bacf8049f6db</th>\n",
       "      <th>3ea8c3</th>\n",
       "      <td>13</td>\n",
       "    </tr>\n",
       "    <tr>\n",
       "      <th>2ab294001cdde1b76d123e1fa5831903</th>\n",
       "      <th>e47f04</th>\n",
       "      <td>1</td>\n",
       "    </tr>\n",
       "    <tr>\n",
       "      <th>304092e066ce29a5284082f3ff115190</th>\n",
       "      <th>e47f04</th>\n",
       "      <td>1</td>\n",
       "    </tr>\n",
       "    <tr>\n",
       "      <th>3133ced7d933026d7eb157633e05b436</th>\n",
       "      <th>e47f04</th>\n",
       "      <td>2</td>\n",
       "    </tr>\n",
       "    <tr>\n",
       "      <th>331db4dc22cef3a9a700e325097118a8</th>\n",
       "      <th>e47f04</th>\n",
       "      <td>2</td>\n",
       "    </tr>\n",
       "    <tr>\n",
       "      <th>37ec11af83cdf13e8a0b2e01d3b6f841</th>\n",
       "      <th>885fab</th>\n",
       "      <td>1</td>\n",
       "    </tr>\n",
       "    <tr>\n",
       "      <th>3830333ce2395c82dbcb22fee373cef9</th>\n",
       "      <th>885fab</th>\n",
       "      <td>1</td>\n",
       "    </tr>\n",
       "    <tr>\n",
       "      <th>3a2a850e9a95a49cc87c3d97876dccb3</th>\n",
       "      <th>885fab</th>\n",
       "      <td>1</td>\n",
       "    </tr>\n",
       "    <tr>\n",
       "      <th>3ef6dbbaeb923a7ed445d2b50671d027</th>\n",
       "      <th>e47f04</th>\n",
       "      <td>1</td>\n",
       "    </tr>\n",
       "    <tr>\n",
       "      <th>40f968e1c5cbc8e9894adcb3f3933838</th>\n",
       "      <th>e47f04</th>\n",
       "      <td>1</td>\n",
       "    </tr>\n",
       "    <tr>\n",
       "      <th>4c85aad6670ce671e77f2236fd6bbe34</th>\n",
       "      <th>885fab</th>\n",
       "      <td>1</td>\n",
       "    </tr>\n",
       "    <tr>\n",
       "      <th>4d40357eae3e7510835535a0ea902e71</th>\n",
       "      <th>885fab</th>\n",
       "      <td>1</td>\n",
       "    </tr>\n",
       "    <tr>\n",
       "      <th>4f8de1d21657c0083522a9008549a302</th>\n",
       "      <th>e47f04</th>\n",
       "      <td>1</td>\n",
       "    </tr>\n",
       "    <tr>\n",
       "      <th>50fae1a026c4d44d22b73f0ce379fff1</th>\n",
       "      <th>885fab</th>\n",
       "      <td>1</td>\n",
       "    </tr>\n",
       "    <tr>\n",
       "      <th>523e24f8da3837d60d51d22a82e46fc4</th>\n",
       "      <th>e47f04</th>\n",
       "      <td>1</td>\n",
       "    </tr>\n",
       "    <tr>\n",
       "      <th>5853776019c1fe74eda5e02a3a1d16fc</th>\n",
       "      <th>7acab3</th>\n",
       "      <td>1</td>\n",
       "    </tr>\n",
       "    <tr>\n",
       "      <th>59f8879012dcbc85b6ea37e5141d1776</th>\n",
       "      <th>e47f04</th>\n",
       "      <td>1</td>\n",
       "    </tr>\n",
       "    <tr>\n",
       "      <th>5d56edfbcebd03ffd87f5afe7795716f</th>\n",
       "      <th>885fab</th>\n",
       "      <td>1</td>\n",
       "    </tr>\n",
       "    <tr>\n",
       "      <th>5fd5a58727a755d8736c7964b317b904</th>\n",
       "      <th>e47f04</th>\n",
       "      <td>1</td>\n",
       "    </tr>\n",
       "    <tr>\n",
       "      <th>6278bc5df086a4a86cf55ffbb7093f5f</th>\n",
       "      <th>e47f04</th>\n",
       "      <td>1</td>\n",
       "    </tr>\n",
       "    <tr>\n",
       "      <th>...</th>\n",
       "      <th>...</th>\n",
       "      <th>...</th>\n",
       "      <td>...</td>\n",
       "    </tr>\n",
       "    <tr>\n",
       "      <th rowspan=\"26\" valign=\"top\">fffee48f944ee3f34209d8e797f40aaa</th>\n",
       "      <th>ed7c9ad4de86329b0c8e1bc830519aee</th>\n",
       "      <th>c105a0</th>\n",
       "      <td>1</td>\n",
       "    </tr>\n",
       "    <tr>\n",
       "      <th>edbe40e42d7d798f6fd491e67e052f84</th>\n",
       "      <th>c105a0</th>\n",
       "      <td>1</td>\n",
       "    </tr>\n",
       "    <tr>\n",
       "      <th>ee32a550845e29a9468afc4ecaa7baa2</th>\n",
       "      <th>7acab3</th>\n",
       "      <td>1</td>\n",
       "    </tr>\n",
       "    <tr>\n",
       "      <th>ee65ac20997bcd0a80da4618dca52ae0</th>\n",
       "      <th>e47f04</th>\n",
       "      <td>1</td>\n",
       "    </tr>\n",
       "    <tr>\n",
       "      <th>ef9e77334781377471511e59975da084</th>\n",
       "      <th>c105a0</th>\n",
       "      <td>1</td>\n",
       "    </tr>\n",
       "    <tr>\n",
       "      <th>efd750191ce03946850cf14d081aa5b9</th>\n",
       "      <th>e47f04</th>\n",
       "      <td>1</td>\n",
       "    </tr>\n",
       "    <tr>\n",
       "      <th>f03334c7ebf0b10254530e75636b507a</th>\n",
       "      <th>885fab</th>\n",
       "      <td>1</td>\n",
       "    </tr>\n",
       "    <tr>\n",
       "      <th>f1b79c3b1ff14810c0da3c8b1c0137e6</th>\n",
       "      <th>634e6b</th>\n",
       "      <td>1</td>\n",
       "    </tr>\n",
       "    <tr>\n",
       "      <th>f3597f566e42f488498f965aa58239e0</th>\n",
       "      <th>634e6b</th>\n",
       "      <td>1</td>\n",
       "    </tr>\n",
       "    <tr>\n",
       "      <th>f3a2165f4982adcf3f48668279bd5ea1</th>\n",
       "      <th>c105a0</th>\n",
       "      <td>1</td>\n",
       "    </tr>\n",
       "    <tr>\n",
       "      <th>f49b8a440a36ad9bc345e98f44f3db6f</th>\n",
       "      <th>634e6b</th>\n",
       "      <td>1</td>\n",
       "    </tr>\n",
       "    <tr>\n",
       "      <th>f4bd6b5fb667254a84edbcd8168e04f5</th>\n",
       "      <th>c105a0</th>\n",
       "      <td>1</td>\n",
       "    </tr>\n",
       "    <tr>\n",
       "      <th>f4e9464be5f79f1371c2a3629bbe8865</th>\n",
       "      <th>e47f04</th>\n",
       "      <td>1</td>\n",
       "    </tr>\n",
       "    <tr>\n",
       "      <th>f637989f32a7a370ce753a96d7c4e247</th>\n",
       "      <th>e47f04</th>\n",
       "      <td>1</td>\n",
       "    </tr>\n",
       "    <tr>\n",
       "      <th>f6397c717a656705eba5f5aa6e255858</th>\n",
       "      <th>634e6b</th>\n",
       "      <td>1</td>\n",
       "    </tr>\n",
       "    <tr>\n",
       "      <th>f75f31f0e73aa067939118c4326c55a1</th>\n",
       "      <th>e47f04</th>\n",
       "      <td>1</td>\n",
       "    </tr>\n",
       "    <tr>\n",
       "      <th>f9744fe91f61a9999f2019ffe11c462b</th>\n",
       "      <th>e47f04</th>\n",
       "      <td>1</td>\n",
       "    </tr>\n",
       "    <tr>\n",
       "      <th>f9867fb93e3b066c268c22cefe387df1</th>\n",
       "      <th>885fab</th>\n",
       "      <td>1</td>\n",
       "    </tr>\n",
       "    <tr>\n",
       "      <th>f9998c92b07da9cbcff59ebd6076d7bc</th>\n",
       "      <th>c105a0</th>\n",
       "      <td>1</td>\n",
       "    </tr>\n",
       "    <tr>\n",
       "      <th>fa7f7a175c5e6f07a8ba4030654f55d3</th>\n",
       "      <th>885fab</th>\n",
       "      <td>1</td>\n",
       "    </tr>\n",
       "    <tr>\n",
       "      <th>fa852357ef341bb840b7cb8afa6fd6b6</th>\n",
       "      <th>55649</th>\n",
       "      <td>1</td>\n",
       "    </tr>\n",
       "    <tr>\n",
       "      <th>fdd8019979805ae501afea91cf97d500</th>\n",
       "      <th>c105a0</th>\n",
       "      <td>1</td>\n",
       "    </tr>\n",
       "    <tr>\n",
       "      <th>fe5fea073dd0df4c2047e17ed631e475</th>\n",
       "      <th>634e6b</th>\n",
       "      <td>1</td>\n",
       "    </tr>\n",
       "    <tr>\n",
       "      <th>fef2d8b94727a7779aa3542b233a8e39</th>\n",
       "      <th>e47f04</th>\n",
       "      <td>1</td>\n",
       "    </tr>\n",
       "    <tr>\n",
       "      <th>ff8f81a79cbcd84954400b1873d56362</th>\n",
       "      <th>885fab</th>\n",
       "      <td>1</td>\n",
       "    </tr>\n",
       "    <tr>\n",
       "      <th>fffcf33de997c5a77d1a9305a4f00ac6</th>\n",
       "      <th>e47f04</th>\n",
       "      <td>1</td>\n",
       "    </tr>\n",
       "    <tr>\n",
       "      <th rowspan=\"4\" valign=\"top\">ffff94db3a63e4fd7585ddc10a2ab044</th>\n",
       "      <th>282396145a3df4452761bacf8049f6db</th>\n",
       "      <th>3ea8c3</th>\n",
       "      <td>34</td>\n",
       "    </tr>\n",
       "    <tr>\n",
       "      <th>7080e3e8a9bc1c693e0228324c3a2989</th>\n",
       "      <th>7acab3</th>\n",
       "      <td>23</td>\n",
       "    </tr>\n",
       "    <tr>\n",
       "      <th>b1ad66c187479a9b0624d765f7e3152d</th>\n",
       "      <th>7acab3</th>\n",
       "      <td>12</td>\n",
       "    </tr>\n",
       "    <tr>\n",
       "      <th>c8777a8f28da19c5ebbf7d44fe91c9ed</th>\n",
       "      <th>7acab3</th>\n",
       "      <td>32</td>\n",
       "    </tr>\n",
       "  </tbody>\n",
       "</table>\n",
       "<p>62262269 rows × 1 columns</p>\n",
       "</div>"
      ],
      "text/plain": [
       "                                                                             times\n",
       "FileID                           CustomerID                       ProductID       \n",
       "00008c73ee43c15b16c26b26398c1577 033e91e730e176cd2ac81dc48a8f5088 7acab3         3\n",
       "                                 06bea9f9c1d72c4d3151efa6bcd5ba83 e47f04         3\n",
       "                                 113597f904c023f44d1a01babb780f58 7acab3         1\n",
       "                                 12f5f66461e78a75266a1535178b0523 e47f04         3\n",
       "                                 1b3061efd83d14f3f8e5411cd9aceccf e47f04         1\n",
       "                                 1dfe70c932c3d86bc6da193a68437590 e47f04         1\n",
       "                                 1f4d9de76b1579f5defba747152a3bd9 e47f04         2\n",
       "                                 2061e471056569886dc55d2deecf10ea e47f04         1\n",
       "                                 20b84480b3e4d56c89cdb0f468fddb20 e47f04         1\n",
       "                                 2126efd5e40acd2fb45fc4d02e628850 885fab         1\n",
       "                                 282396145a3df4452761bacf8049f6db 3ea8c3        13\n",
       "                                 2ab294001cdde1b76d123e1fa5831903 e47f04         1\n",
       "                                 304092e066ce29a5284082f3ff115190 e47f04         1\n",
       "                                 3133ced7d933026d7eb157633e05b436 e47f04         2\n",
       "                                 331db4dc22cef3a9a700e325097118a8 e47f04         2\n",
       "                                 37ec11af83cdf13e8a0b2e01d3b6f841 885fab         1\n",
       "                                 3830333ce2395c82dbcb22fee373cef9 885fab         1\n",
       "                                 3a2a850e9a95a49cc87c3d97876dccb3 885fab         1\n",
       "                                 3ef6dbbaeb923a7ed445d2b50671d027 e47f04         1\n",
       "                                 40f968e1c5cbc8e9894adcb3f3933838 e47f04         1\n",
       "                                 4c85aad6670ce671e77f2236fd6bbe34 885fab         1\n",
       "                                 4d40357eae3e7510835535a0ea902e71 885fab         1\n",
       "                                 4f8de1d21657c0083522a9008549a302 e47f04         1\n",
       "                                 50fae1a026c4d44d22b73f0ce379fff1 885fab         1\n",
       "                                 523e24f8da3837d60d51d22a82e46fc4 e47f04         1\n",
       "                                 5853776019c1fe74eda5e02a3a1d16fc 7acab3         1\n",
       "                                 59f8879012dcbc85b6ea37e5141d1776 e47f04         1\n",
       "                                 5d56edfbcebd03ffd87f5afe7795716f 885fab         1\n",
       "                                 5fd5a58727a755d8736c7964b317b904 e47f04         1\n",
       "                                 6278bc5df086a4a86cf55ffbb7093f5f e47f04         1\n",
       "...                                                                            ...\n",
       "fffee48f944ee3f34209d8e797f40aaa ed7c9ad4de86329b0c8e1bc830519aee c105a0         1\n",
       "                                 edbe40e42d7d798f6fd491e67e052f84 c105a0         1\n",
       "                                 ee32a550845e29a9468afc4ecaa7baa2 7acab3         1\n",
       "                                 ee65ac20997bcd0a80da4618dca52ae0 e47f04         1\n",
       "                                 ef9e77334781377471511e59975da084 c105a0         1\n",
       "                                 efd750191ce03946850cf14d081aa5b9 e47f04         1\n",
       "                                 f03334c7ebf0b10254530e75636b507a 885fab         1\n",
       "                                 f1b79c3b1ff14810c0da3c8b1c0137e6 634e6b         1\n",
       "                                 f3597f566e42f488498f965aa58239e0 634e6b         1\n",
       "                                 f3a2165f4982adcf3f48668279bd5ea1 c105a0         1\n",
       "                                 f49b8a440a36ad9bc345e98f44f3db6f 634e6b         1\n",
       "                                 f4bd6b5fb667254a84edbcd8168e04f5 c105a0         1\n",
       "                                 f4e9464be5f79f1371c2a3629bbe8865 e47f04         1\n",
       "                                 f637989f32a7a370ce753a96d7c4e247 e47f04         1\n",
       "                                 f6397c717a656705eba5f5aa6e255858 634e6b         1\n",
       "                                 f75f31f0e73aa067939118c4326c55a1 e47f04         1\n",
       "                                 f9744fe91f61a9999f2019ffe11c462b e47f04         1\n",
       "                                 f9867fb93e3b066c268c22cefe387df1 885fab         1\n",
       "                                 f9998c92b07da9cbcff59ebd6076d7bc c105a0         1\n",
       "                                 fa7f7a175c5e6f07a8ba4030654f55d3 885fab         1\n",
       "                                 fa852357ef341bb840b7cb8afa6fd6b6 55649          1\n",
       "                                 fdd8019979805ae501afea91cf97d500 c105a0         1\n",
       "                                 fe5fea073dd0df4c2047e17ed631e475 634e6b         1\n",
       "                                 fef2d8b94727a7779aa3542b233a8e39 e47f04         1\n",
       "                                 ff8f81a79cbcd84954400b1873d56362 885fab         1\n",
       "                                 fffcf33de997c5a77d1a9305a4f00ac6 e47f04         1\n",
       "ffff94db3a63e4fd7585ddc10a2ab044 282396145a3df4452761bacf8049f6db 3ea8c3        34\n",
       "                                 7080e3e8a9bc1c693e0228324c3a2989 7acab3        23\n",
       "                                 b1ad66c187479a9b0624d765f7e3152d 7acab3        12\n",
       "                                 c8777a8f28da19c5ebbf7d44fe91c9ed 7acab3        32\n",
       "\n",
       "[62262269 rows x 1 columns]"
      ]
     },
     "execution_count": 15,
     "metadata": {},
     "output_type": "execute_result"
    }
   ],
   "source": [
    "df_all_query_log.groupby(['FileID','CustomerID','ProductID'])[['times']].sum()"
   ]
  },
  {
   "cell_type": "code",
   "execution_count": 30,
   "metadata": {},
   "outputs": [
    {
     "data": {
      "text/html": [
       "<div>\n",
       "<table border=\"1\" class=\"dataframe\">\n",
       "  <thead>\n",
       "    <tr style=\"text-align: right;\">\n",
       "      <th></th>\n",
       "      <th>FileID</th>\n",
       "      <th>CustomerID</th>\n",
       "      <th>QueryTs</th>\n",
       "      <th>ProductID</th>\n",
       "      <th>times</th>\n",
       "    </tr>\n",
       "  </thead>\n",
       "  <tbody>\n",
       "    <tr>\n",
       "      <th>0</th>\n",
       "      <td>dfccd8e23f0b03ec4db7a9a745ad7399</td>\n",
       "      <td>64573086fcfee53e8fa6d8f1f44101bb</td>\n",
       "      <td>1970-01-01 00:00:00.000000001</td>\n",
       "      <td>c105a0</td>\n",
       "      <td>1</td>\n",
       "    </tr>\n",
       "    <tr>\n",
       "      <th>1</th>\n",
       "      <td>29962f9102502ee76bb3cddb8cf8c9ad</td>\n",
       "      <td>597df153a25e8e548cbe35f6e4da9cbb</td>\n",
       "      <td>1970-01-01 00:00:00.000000001</td>\n",
       "      <td>c105a0</td>\n",
       "      <td>1</td>\n",
       "    </tr>\n",
       "    <tr>\n",
       "      <th>2</th>\n",
       "      <td>fa3fa642378b9d98c0e2770611b92eb3</td>\n",
       "      <td>1db24b8cc0a7ce59634629e7f292520f</td>\n",
       "      <td>1970-01-01 00:00:00.000000001</td>\n",
       "      <td>c105a0</td>\n",
       "      <td>1</td>\n",
       "    </tr>\n",
       "    <tr>\n",
       "      <th>3</th>\n",
       "      <td>48f90ea1af2c04677c6890db392ca088</td>\n",
       "      <td>5ca6dd0b8863069ab1efe014de82cecf</td>\n",
       "      <td>1970-01-01 00:00:00.000000001</td>\n",
       "      <td>c76d58</td>\n",
       "      <td>1</td>\n",
       "    </tr>\n",
       "    <tr>\n",
       "      <th>4</th>\n",
       "      <td>d0ff310c25e3bd7ae919d34dc38fb0de</td>\n",
       "      <td>5ca6dd0b8863069ab1efe014de82cecf</td>\n",
       "      <td>1970-01-01 00:00:00.000000001</td>\n",
       "      <td>c76d58</td>\n",
       "      <td>1</td>\n",
       "    </tr>\n",
       "  </tbody>\n",
       "</table>\n",
       "</div>"
      ],
      "text/plain": [
       "                             FileID                        CustomerID  \\\n",
       "0  dfccd8e23f0b03ec4db7a9a745ad7399  64573086fcfee53e8fa6d8f1f44101bb   \n",
       "1  29962f9102502ee76bb3cddb8cf8c9ad  597df153a25e8e548cbe35f6e4da9cbb   \n",
       "2  fa3fa642378b9d98c0e2770611b92eb3  1db24b8cc0a7ce59634629e7f292520f   \n",
       "3  48f90ea1af2c04677c6890db392ca088  5ca6dd0b8863069ab1efe014de82cecf   \n",
       "4  d0ff310c25e3bd7ae919d34dc38fb0de  5ca6dd0b8863069ab1efe014de82cecf   \n",
       "\n",
       "                        QueryTs ProductID  times  \n",
       "0 1970-01-01 00:00:00.000000001    c105a0      1  \n",
       "1 1970-01-01 00:00:00.000000001    c105a0      1  \n",
       "2 1970-01-01 00:00:00.000000001    c105a0      1  \n",
       "3 1970-01-01 00:00:00.000000001    c76d58      1  \n",
       "4 1970-01-01 00:00:00.000000001    c76d58      1  "
      ]
     },
     "execution_count": 30,
     "metadata": {},
     "output_type": "execute_result"
    }
   ],
   "source": [
    "# timestamp轉換\n",
    "query_0301['QueryTs'] = pd.to_datetime(query_0301['QueryTs'])\n",
    "# query_0301['QueryTs'] = pd.Index(query_0301['QueryTs']).dayofyear\n",
    "query_0301.head()"
   ]
  },
  {
   "cell_type": "code",
   "execution_count": 31,
   "metadata": {},
   "outputs": [
    {
     "data": {
      "text/html": [
       "<div>\n",
       "<table border=\"1\" class=\"dataframe\">\n",
       "  <thead>\n",
       "    <tr style=\"text-align: right;\">\n",
       "      <th></th>\n",
       "      <th>FileID</th>\n",
       "      <th>CustomerID</th>\n",
       "      <th>QueryTs</th>\n",
       "      <th>ProductID</th>\n",
       "      <th>times</th>\n",
       "    </tr>\n",
       "  </thead>\n",
       "  <tbody>\n",
       "    <tr>\n",
       "      <th>0</th>\n",
       "      <td>63676131ae4f15699db65bd7f9a2a18a</td>\n",
       "      <td>49075aad975fa57e805c62a8494a75e4</td>\n",
       "      <td>1970-01-01 00:00:01.495497600</td>\n",
       "      <td>c105a0</td>\n",
       "      <td>1</td>\n",
       "    </tr>\n",
       "    <tr>\n",
       "      <th>1</th>\n",
       "      <td>ba04807b9b65835482302fab98fc523f</td>\n",
       "      <td>da02366776ceaae99adeed9c7140307f</td>\n",
       "      <td>1970-01-01 00:00:01.495497600</td>\n",
       "      <td>c105a0</td>\n",
       "      <td>1</td>\n",
       "    </tr>\n",
       "    <tr>\n",
       "      <th>2</th>\n",
       "      <td>16ea975c524b69ca3f2561969fabed6b</td>\n",
       "      <td>437276bc51f1603b0c8b41119019d813</td>\n",
       "      <td>1970-01-01 00:00:01.495497604</td>\n",
       "      <td>c76d58</td>\n",
       "      <td>1</td>\n",
       "    </tr>\n",
       "    <tr>\n",
       "      <th>3</th>\n",
       "      <td>1941c3fe0c5c2d53ba94d0eab99f169c</td>\n",
       "      <td>a286ad2bfd4a05d98a3a393b21180aaf</td>\n",
       "      <td>1970-01-01 00:00:01.495497612</td>\n",
       "      <td>c105a0</td>\n",
       "      <td>1</td>\n",
       "    </tr>\n",
       "    <tr>\n",
       "      <th>4</th>\n",
       "      <td>1941c3fe0c5c2d53ba94d0eab99f169c</td>\n",
       "      <td>a286ad2bfd4a05d98a3a393b21180aaf</td>\n",
       "      <td>1970-01-01 00:00:01.495497615</td>\n",
       "      <td>c105a0</td>\n",
       "      <td>1</td>\n",
       "    </tr>\n",
       "  </tbody>\n",
       "</table>\n",
       "</div>"
      ],
      "text/plain": [
       "                             FileID                        CustomerID  \\\n",
       "0  63676131ae4f15699db65bd7f9a2a18a  49075aad975fa57e805c62a8494a75e4   \n",
       "1  ba04807b9b65835482302fab98fc523f  da02366776ceaae99adeed9c7140307f   \n",
       "2  16ea975c524b69ca3f2561969fabed6b  437276bc51f1603b0c8b41119019d813   \n",
       "3  1941c3fe0c5c2d53ba94d0eab99f169c  a286ad2bfd4a05d98a3a393b21180aaf   \n",
       "4  1941c3fe0c5c2d53ba94d0eab99f169c  a286ad2bfd4a05d98a3a393b21180aaf   \n",
       "\n",
       "                        QueryTs ProductID  times  \n",
       "0 1970-01-01 00:00:01.495497600    c105a0      1  \n",
       "1 1970-01-01 00:00:01.495497600    c105a0      1  \n",
       "2 1970-01-01 00:00:01.495497604    c76d58      1  \n",
       "3 1970-01-01 00:00:01.495497612    c105a0      1  \n",
       "4 1970-01-01 00:00:01.495497615    c105a0      1  "
      ]
     },
     "execution_count": 31,
     "metadata": {},
     "output_type": "execute_result"
    }
   ],
   "source": [
    "df_all_query_log['QueryTs'] = pd.to_datetime(df_all_query_log['QueryTs'])\n",
    "# df_all_query_log['QueryTs'] = pd.Index(df_all_query_log['QueryTs']).dayofyear\n",
    "df_all_query_log.head()"
   ]
  },
  {
   "cell_type": "code",
   "execution_count": 34,
   "metadata": {},
   "outputs": [],
   "source": [
    "X = df_all_query_log.drop(['FileID'], axis=1).values\n",
    "y = train['label'].values"
   ]
  },
  {
   "cell_type": "code",
   "execution_count": 37,
   "metadata": {},
   "outputs": [
    {
     "ename": "ValueError",
     "evalue": "could not convert string to float: '8541a0'",
     "output_type": "error",
     "traceback": [
      "\u001b[0;31m---------------------------------------------------------------------------\u001b[0m",
      "\u001b[0;31mValueError\u001b[0m                                Traceback (most recent call last)",
      "\u001b[0;32m<ipython-input-37-4d2084e0edcc>\u001b[0m in \u001b[0;36m<module>\u001b[0;34m()\u001b[0m\n\u001b[0;32m----> 1\u001b[0;31m \u001b[0mextratrees\u001b[0m \u001b[0;34m=\u001b[0m \u001b[0mek\u001b[0m\u001b[0;34m.\u001b[0m\u001b[0mExtraTreesClassifier\u001b[0m\u001b[0;34m(\u001b[0m\u001b[0;34m)\u001b[0m\u001b[0;34m.\u001b[0m\u001b[0mfit\u001b[0m\u001b[0;34m(\u001b[0m\u001b[0mX\u001b[0m\u001b[0;34m,\u001b[0m\u001b[0my\u001b[0m\u001b[0;34m)\u001b[0m\u001b[0;34m\u001b[0m\u001b[0m\n\u001b[0m\u001b[1;32m      2\u001b[0m \u001b[0mmodel\u001b[0m \u001b[0;34m=\u001b[0m \u001b[0mSelectFromModel\u001b[0m\u001b[0;34m(\u001b[0m\u001b[0mextratrees\u001b[0m\u001b[0;34m,\u001b[0m \u001b[0mprefit\u001b[0m\u001b[0;34m=\u001b[0m\u001b[0;32mTrue\u001b[0m\u001b[0;34m)\u001b[0m\u001b[0;34m\u001b[0m\u001b[0m\n\u001b[1;32m      3\u001b[0m \u001b[0mX_new\u001b[0m \u001b[0;34m=\u001b[0m \u001b[0mmodel\u001b[0m\u001b[0;34m.\u001b[0m\u001b[0mtransform\u001b[0m\u001b[0;34m(\u001b[0m\u001b[0mX\u001b[0m\u001b[0;34m)\u001b[0m\u001b[0;34m\u001b[0m\u001b[0m\n\u001b[1;32m      4\u001b[0m \u001b[0mnbfeatures\u001b[0m \u001b[0;34m=\u001b[0m \u001b[0mX_new\u001b[0m\u001b[0;34m.\u001b[0m\u001b[0mshape\u001b[0m\u001b[0;34m[\u001b[0m\u001b[0;36m1\u001b[0m\u001b[0;34m]\u001b[0m\u001b[0;34m\u001b[0m\u001b[0m\n",
      "\u001b[0;32m/opt/conda/lib/python3.6/site-packages/sklearn/ensemble/forest.py\u001b[0m in \u001b[0;36mfit\u001b[0;34m(self, X, y, sample_weight)\u001b[0m\n\u001b[1;32m    245\u001b[0m         \"\"\"\n\u001b[1;32m    246\u001b[0m         \u001b[0;31m# Validate or convert input data\u001b[0m\u001b[0;34m\u001b[0m\u001b[0;34m\u001b[0m\u001b[0m\n\u001b[0;32m--> 247\u001b[0;31m         \u001b[0mX\u001b[0m \u001b[0;34m=\u001b[0m \u001b[0mcheck_array\u001b[0m\u001b[0;34m(\u001b[0m\u001b[0mX\u001b[0m\u001b[0;34m,\u001b[0m \u001b[0maccept_sparse\u001b[0m\u001b[0;34m=\u001b[0m\u001b[0;34m\"csc\"\u001b[0m\u001b[0;34m,\u001b[0m \u001b[0mdtype\u001b[0m\u001b[0;34m=\u001b[0m\u001b[0mDTYPE\u001b[0m\u001b[0;34m)\u001b[0m\u001b[0;34m\u001b[0m\u001b[0m\n\u001b[0m\u001b[1;32m    248\u001b[0m         \u001b[0my\u001b[0m \u001b[0;34m=\u001b[0m \u001b[0mcheck_array\u001b[0m\u001b[0;34m(\u001b[0m\u001b[0my\u001b[0m\u001b[0;34m,\u001b[0m \u001b[0maccept_sparse\u001b[0m\u001b[0;34m=\u001b[0m\u001b[0;34m'csc'\u001b[0m\u001b[0;34m,\u001b[0m \u001b[0mensure_2d\u001b[0m\u001b[0;34m=\u001b[0m\u001b[0;32mFalse\u001b[0m\u001b[0;34m,\u001b[0m \u001b[0mdtype\u001b[0m\u001b[0;34m=\u001b[0m\u001b[0;32mNone\u001b[0m\u001b[0;34m)\u001b[0m\u001b[0;34m\u001b[0m\u001b[0m\n\u001b[1;32m    249\u001b[0m         \u001b[0;32mif\u001b[0m \u001b[0msample_weight\u001b[0m \u001b[0;32mis\u001b[0m \u001b[0;32mnot\u001b[0m \u001b[0;32mNone\u001b[0m\u001b[0;34m:\u001b[0m\u001b[0;34m\u001b[0m\u001b[0m\n",
      "\u001b[0;32m/opt/conda/lib/python3.6/site-packages/sklearn/utils/validation.py\u001b[0m in \u001b[0;36mcheck_array\u001b[0;34m(array, accept_sparse, dtype, order, copy, force_all_finite, ensure_2d, allow_nd, ensure_min_samples, ensure_min_features, warn_on_dtype, estimator)\u001b[0m\n\u001b[1;32m    431\u001b[0m                                       force_all_finite)\n\u001b[1;32m    432\u001b[0m     \u001b[0;32melse\u001b[0m\u001b[0;34m:\u001b[0m\u001b[0;34m\u001b[0m\u001b[0m\n\u001b[0;32m--> 433\u001b[0;31m         \u001b[0marray\u001b[0m \u001b[0;34m=\u001b[0m \u001b[0mnp\u001b[0m\u001b[0;34m.\u001b[0m\u001b[0marray\u001b[0m\u001b[0;34m(\u001b[0m\u001b[0marray\u001b[0m\u001b[0;34m,\u001b[0m \u001b[0mdtype\u001b[0m\u001b[0;34m=\u001b[0m\u001b[0mdtype\u001b[0m\u001b[0;34m,\u001b[0m \u001b[0morder\u001b[0m\u001b[0;34m=\u001b[0m\u001b[0morder\u001b[0m\u001b[0;34m,\u001b[0m \u001b[0mcopy\u001b[0m\u001b[0;34m=\u001b[0m\u001b[0mcopy\u001b[0m\u001b[0;34m)\u001b[0m\u001b[0;34m\u001b[0m\u001b[0m\n\u001b[0m\u001b[1;32m    434\u001b[0m \u001b[0;34m\u001b[0m\u001b[0m\n\u001b[1;32m    435\u001b[0m         \u001b[0;32mif\u001b[0m \u001b[0mensure_2d\u001b[0m\u001b[0;34m:\u001b[0m\u001b[0;34m\u001b[0m\u001b[0m\n",
      "\u001b[0;31mValueError\u001b[0m: could not convert string to float: '8541a0'"
     ]
    }
   ],
   "source": [
    "extratrees = ek.ExtraTreesClassifier().fit(X,y)\n",
    "model = SelectFromModel(extratrees, prefit=True)\n",
    "X_new = model.transform(X)\n",
    "nbfeatures = X_new.shape[1]"
   ]
  },
  {
   "cell_type": "code",
   "execution_count": null,
   "metadata": {},
   "outputs": [],
   "source": [
    "X = df_all_query_log.drop(['FileID']).values\n",
    "y = train['label'].values\n",
    "\n",
    "model = { \"DecisionTree\":tree.DecisionTreeClassifier(max_depth=10),\n",
    "         \"RandomForest\":ek.RandomForestClassifier(n_estimators=50),\n",
    "         \"Adaboost\":ek.AdaBoostClassifier(n_estimators=50),\n",
    "         \"GradientBoosting\":ek.GradientBoostingClassifier(n_estimators=50),\n",
    "         # \"GNB\":GaussianNB(),\n",
    "         \"LinearRegression\":LinearRegression()   \n",
    "}"
   ]
  },
  {
   "cell_type": "code",
   "execution_count": 8,
   "metadata": {},
   "outputs": [
    {
     "data": {
      "text/plain": [
       "0.625"
      ]
     },
     "execution_count": 8,
     "metadata": {},
     "output_type": "execute_result"
    }
   ],
   "source": [
    "#AUC計算範例\n",
    "from sklearn import metrics\n",
    "y = np.array([1, 1, 2, 2])\n",
    "pred = np.array([0.9, 0.1, 0.7, 0.9])\n",
    "fpr, tpr, thresholds = metrics.roc_curve(y, pred, pos_label=2)\n",
    "metrics.auc(fpr, tpr)"
   ]
  }
 ],
 "metadata": {
  "kernelspec": {
   "display_name": "Python 3",
   "language": "python",
   "name": "python3"
  },
  "language_info": {
   "codemirror_mode": {
    "name": "ipython",
    "version": 3
   },
   "file_extension": ".py",
   "mimetype": "text/x-python",
   "name": "python",
   "nbconvert_exporter": "python",
   "pygments_lexer": "ipython3",
   "version": "3.6.3"
  }
 },
 "nbformat": 4,
 "nbformat_minor": 2
}
