{
 "cells": [
  {
   "cell_type": "code",
   "execution_count": 1,
   "metadata": {},
   "outputs": [],
   "source": [
    "### 3.指標性product的使用人數、單筆檔案在product中占比"
   ]
  },
  {
   "cell_type": "code",
   "execution_count": 1,
   "metadata": {
    "collapsed": true
   },
   "outputs": [],
   "source": [
    "'''Basic package'''\n",
    "import os\n",
    "\n",
    "os.environ[\"CUDA_VISIBLE_DEVICES\"] = \"0\"\n",
    "\n",
    "import numpy as np\n",
    "import pandas as pd\n",
    "import tqdm\n",
    "import time\n",
    "tqdm.monitor_interval = 0\n",
    "\n"
   ]
  },
  {
   "cell_type": "code",
   "execution_count": 2,
   "metadata": {
    "collapsed": true
   },
   "outputs": [],
   "source": [
    "data_dir='/data/examples/trend/data/query_log/'\n",
    "dir_list = os.listdir(data_dir)"
   ]
  },
  {
   "cell_type": "markdown",
   "metadata": {},
   "source": [
    "## 全資料分析"
   ]
  },
  {
   "cell_type": "code",
   "execution_count": 3,
   "metadata": {},
   "outputs": [
    {
     "data": {
      "application/vnd.jupyter.widget-view+json": {
       "model_id": "e19380ce3d3640acb2608dfdada22037",
       "version_major": 2,
       "version_minor": 0
      },
      "text/html": [
       "<p>Failed to display Jupyter Widget of type <code>HBox</code>.</p>\n",
       "<p>\n",
       "  If you're reading this message in the Jupyter Notebook or JupyterLab Notebook, it may mean\n",
       "  that the widgets JavaScript is still loading. If this message persists, it\n",
       "  likely means that the widgets JavaScript library is either not installed or\n",
       "  not enabled. See the <a href=\"https://ipywidgets.readthedocs.io/en/stable/user_install.html\">Jupyter\n",
       "  Widgets Documentation</a> for setup instructions.\n",
       "</p>\n",
       "<p>\n",
       "  If you're reading this message in another frontend (for example, a static\n",
       "  rendering on GitHub or <a href=\"https://nbviewer.jupyter.org/\">NBViewer</a>),\n",
       "  it may mean that your frontend doesn't currently support widgets.\n",
       "</p>\n"
      ],
      "text/plain": [
       "HBox(children=(IntProgress(value=0, description='full_data', max=92), HTML(value='')))"
      ]
     },
     "metadata": {},
     "output_type": "display_data"
    },
    {
     "name": "stdout",
     "output_type": "stream",
     "text": [
      "\n"
     ]
    }
   ],
   "source": [
    "#load all data\n",
    "full_data = pd.DataFrame()\n",
    "full_data_bar = tqdm.tqdm_notebook(np.arange(len(dir_list)), desc=\"full_data\")\n",
    "for i in full_data_bar:\n",
    "    new_data = pd.read_csv(os.path.join(data_dir,dir_list[i]),\n",
    "                                           names=('FileID', 'CustomerID', 'QueryTS', 'ProductID'),\n",
    "                                           header=None,dtype='object,object,int64,object')\n",
    "    full_data=pd.concat([full_data,new_data])"
   ]
  },
  {
   "cell_type": "code",
   "execution_count": 4,
   "metadata": {},
   "outputs": [
    {
     "data": {
      "application/vnd.jupyter.widget-view+json": {
       "model_id": "62559c8ec2bb4c569b7fbc2e43f728fd",
       "version_major": 2,
       "version_minor": 0
      },
      "text/html": [
       "<p>Failed to display Jupyter Widget of type <code>HBox</code>.</p>\n",
       "<p>\n",
       "  If you're reading this message in the Jupyter Notebook or JupyterLab Notebook, it may mean\n",
       "  that the widgets JavaScript is still loading. If this message persists, it\n",
       "  likely means that the widgets JavaScript library is either not installed or\n",
       "  not enabled. See the <a href=\"https://ipywidgets.readthedocs.io/en/stable/user_install.html\">Jupyter\n",
       "  Widgets Documentation</a> for setup instructions.\n",
       "</p>\n",
       "<p>\n",
       "  If you're reading this message in another frontend (for example, a static\n",
       "  rendering on GitHub or <a href=\"https://nbviewer.jupyter.org/\">NBViewer</a>),\n",
       "  it may mean that your frontend doesn't currently support widgets.\n",
       "</p>\n"
      ],
      "text/plain": [
       "HBox(children=(IntProgress(value=0, description='time_calc', max=83273110), HTML(value='')))"
      ]
     },
     "metadata": {},
     "output_type": "display_data"
    },
    {
     "name": "stdout",
     "output_type": "stream",
     "text": [
      "\n"
     ]
    }
   ],
   "source": [
    "query_list=full_data.as_matrix(['QueryTS'])\n",
    "query_list=query_list[:,0]\n",
    "date=[]\n",
    "hour=[]\n",
    "week=[]\n",
    "full_loop_bar = tqdm.tqdm_notebook(np.arange(len(query_list)), desc=\"time_calc\")\n",
    "for i in full_loop_bar:\n",
    "    date.append(time.strftime('%Y-%m-%d', time.localtime(query_list[i])))\n",
    "    hour.append(time.strftime('%H', time.localtime(query_list[i])))\n",
    "    week.append(time.strftime('%a', time.localtime(query_list[i])))\n",
    "\n",
    "full_data['date']=date\n",
    "full_data['hour']=hour\n",
    "full_data['week']=week"
   ]
  },
  {
   "cell_type": "code",
   "execution_count": 5,
   "metadata": {},
   "outputs": [],
   "source": [
    "#get full data的樞紐分析（每個productID的累計）\n",
    "full_data['times']=[1] * full_data.shape[0]\n",
    "pivot_table_prod = full_data.pivot_table(values='times',index=['FileID'],columns=['ProductID'],aggfunc='sum')\n",
    "pivot_table_prod=pivot_table_prod.fillna(0)\n",
    "pivot_table_prod.to_csv('pivot_table_prod.csv')"
   ]
  },
  {
   "cell_type": "code",
   "execution_count": 6,
   "metadata": {},
   "outputs": [],
   "source": [
    "#get full data的樞紐分析（每個week的累計）\n",
    "full_data['times']=[1] * full_data.shape[0]\n",
    "pivot_table_week = full_data.pivot_table(values='times',index=['FileID'],columns=['week'],aggfunc='sum')\n",
    "pivot_table_week=pivot_table_week.fillna(0)\n",
    "pivot_table_week.to_csv('pivot_table_week.csv')"
   ]
  },
  {
   "cell_type": "code",
   "execution_count": 7,
   "metadata": {},
   "outputs": [],
   "source": [
    "#get full data的樞紐分析（每個hour的累計）\n",
    "full_data['times']=[1] * full_data.shape[0]\n",
    "pivot_table_hour = full_data.pivot_table(values='times',index=['FileID'],columns=['hour'],aggfunc='sum')\n",
    "pivot_table_hour=pivot_table_hour.fillna(0)\n",
    "pivot_table_hour.to_csv('pivot_table_hour.csv')"
   ]
  },
  {
   "cell_type": "code",
   "execution_count": 8,
   "metadata": {},
   "outputs": [],
   "source": [
    "#get full data的樞紐分析（每個date的累計）\n",
    "full_data['times']=[1] * full_data.shape[0]\n",
    "pivot_table_date = full_data.pivot_table(values='times',index=['FileID'],columns=['date'],aggfunc='sum')\n",
    "pivot_table_date=pivot_table_date.fillna(0)\n",
    "pivot_table_date.to_csv('pivot_table_date.csv')"
   ]
  },
  {
   "cell_type": "code",
   "execution_count": 9,
   "metadata": {},
   "outputs": [],
   "source": [
    "pivot_table_prod.to_csv('pivot_table_prod.csv')\n",
    "pivot_table_week.to_csv('pivot_table_week.csv')\n",
    "pivot_table_hour.to_csv('pivot_table_hour.csv')\n",
    "pivot_table_date.to_csv('pivot_table_date.csv')"
   ]
  },
  {
   "cell_type": "code",
   "execution_count": null,
   "metadata": {},
   "outputs": [],
   "source": []
  }
 ],
 "metadata": {
  "kernelspec": {
   "display_name": "Python 3",
   "language": "python",
   "name": "python3"
  },
  "language_info": {
   "codemirror_mode": {
    "name": "ipython",
    "version": 3
   },
   "file_extension": ".py",
   "mimetype": "text/x-python",
   "name": "python",
   "nbconvert_exporter": "python",
   "pygments_lexer": "ipython3",
   "version": "3.6.3"
  }
 },
 "nbformat": 4,
 "nbformat_minor": 2
}
