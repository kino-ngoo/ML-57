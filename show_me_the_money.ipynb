{
 "cells": [
  {
   "cell_type": "code",
   "execution_count": 1,
   "metadata": {},
   "outputs": [],
   "source": [
    "'''basic packages'''\n",
    "import os\n",
    "import pandas as pd\n",
    "import numpy as np\n",
    "from sklearn import datasets, tree, linear_model\n",
    "import sklearn.ensemble as ek\n",
    "import seaborn as sns\n",
    "import queue\n",
    "import cv2          #影像處理\n",
    "import scipy.misc   #影像處理\n",
    "from tqdm import tqdm_notebook as tqdm #進度條\n",
    "import matplotlib.pyplot as plt\n",
    "plt.rcParams['font.family']='SimHei' #顯示中文\n",
    "import matplotlib.lines as mlines\n",
    "%matplotlib inline\n",
    "import warnings\n",
    "# warnings.filterwarnings('ignore')\n",
    "warnings.filterwarnings(\"ignore\", category=DeprecationWarning)\n",
    "\n",
    "from mpl_toolkits.mplot3d import Axes3D\n",
    "import seaborn as sns"
   ]
  },
  {
   "cell_type": "code",
   "execution_count": 2,
   "metadata": {},
   "outputs": [],
   "source": [
    "# Load in the train datasets\n",
    "train = pd.read_csv('/data/examples/may_the_4_be_with_u/show_me_the_money/train.csv',\n",
    "#                     names=['id','step','type','amount','nameOrig','oldbalanceOrg','newbalanceOrig','nameDest','oldbalanceDest','newbalanceDest','Fraud'],\n",
    "                    encoding = \"utf-8\")\n",
    "# train = train.rename(columns={'oldbalanceOrg':'oldBalanceOrig', 'newbalanceOrig':'newBalanceOrig', \\\n",
    "#                         'oldbalanceDest':'oldBalanceDest', 'newbalanceDest':'newBalanceDest', 'Fraud':'isFraud'})\n",
    "\n",
    "test = pd.read_csv('/data/examples/may_the_4_be_with_u/show_me_the_money/test.csv',\n",
    "#                    names=['id','step','type','amount','nameOrig','oldbalanceOrg','newbalanceOrig','nameDest','oldbalanceDest','newbalanceDest'],\n",
    "                   encoding = \"utf-8\")\n",
    "# test = test.rename(columns={'oldbalanceOrg':'oldBalanceOrig', 'newbalanceOrig':'newBalanceOrig', \\\n",
    "#                         'oldbalanceDest':'oldBalanceDest', 'newbalanceDest':'newBalanceDest', 'Fraud':'isFraud'})"
   ]
  },
  {
   "cell_type": "code",
   "execution_count": 3,
   "metadata": {},
   "outputs": [
    {
     "data": {
      "text/plain": [
       "False"
      ]
     },
     "execution_count": 3,
     "metadata": {},
     "output_type": "execute_result"
    }
   ],
   "source": [
    "train.isnull().values.any()"
   ]
  },
  {
   "cell_type": "code",
   "execution_count": 4,
   "metadata": {},
   "outputs": [
    {
     "data": {
      "text/html": [
       "<div>\n",
       "<table border=\"1\" class=\"dataframe\">\n",
       "  <thead>\n",
       "    <tr style=\"text-align: right;\">\n",
       "      <th></th>\n",
       "      <th>id</th>\n",
       "      <th>step</th>\n",
       "      <th>type</th>\n",
       "      <th>amount</th>\n",
       "      <th>nameOrig</th>\n",
       "      <th>oldbalanceOrg</th>\n",
       "      <th>newbalanceOrig</th>\n",
       "      <th>nameDest</th>\n",
       "      <th>oldbalanceDest</th>\n",
       "      <th>newbalanceDest</th>\n",
       "      <th>Fraud</th>\n",
       "    </tr>\n",
       "  </thead>\n",
       "  <tbody>\n",
       "    <tr>\n",
       "      <th>0</th>\n",
       "      <td>0</td>\n",
       "      <td>323</td>\n",
       "      <td>PAYMENT</td>\n",
       "      <td>9092.69</td>\n",
       "      <td>C749189758</td>\n",
       "      <td>0.0</td>\n",
       "      <td>0.00</td>\n",
       "      <td>M1939669337</td>\n",
       "      <td>0.00</td>\n",
       "      <td>0.00</td>\n",
       "      <td>0.0</td>\n",
       "    </tr>\n",
       "    <tr>\n",
       "      <th>1</th>\n",
       "      <td>1</td>\n",
       "      <td>164</td>\n",
       "      <td>CASH_IN</td>\n",
       "      <td>23468.75</td>\n",
       "      <td>C525009948</td>\n",
       "      <td>0.0</td>\n",
       "      <td>23468.75</td>\n",
       "      <td>C65353523</td>\n",
       "      <td>77300.17</td>\n",
       "      <td>53831.42</td>\n",
       "      <td>0.0</td>\n",
       "    </tr>\n",
       "    <tr>\n",
       "      <th>2</th>\n",
       "      <td>2</td>\n",
       "      <td>228</td>\n",
       "      <td>CASH_OUT</td>\n",
       "      <td>39688.11</td>\n",
       "      <td>C1311063915</td>\n",
       "      <td>0.0</td>\n",
       "      <td>0.00</td>\n",
       "      <td>C1581032686</td>\n",
       "      <td>168913.26</td>\n",
       "      <td>208601.37</td>\n",
       "      <td>0.0</td>\n",
       "    </tr>\n",
       "    <tr>\n",
       "      <th>3</th>\n",
       "      <td>3</td>\n",
       "      <td>229</td>\n",
       "      <td>CASH_OUT</td>\n",
       "      <td>179016.96</td>\n",
       "      <td>C700594269</td>\n",
       "      <td>103485.0</td>\n",
       "      <td>0.00</td>\n",
       "      <td>C90149178</td>\n",
       "      <td>2483034.47</td>\n",
       "      <td>2662051.42</td>\n",
       "      <td>0.0</td>\n",
       "    </tr>\n",
       "    <tr>\n",
       "      <th>4</th>\n",
       "      <td>4</td>\n",
       "      <td>709</td>\n",
       "      <td>CASH_OUT</td>\n",
       "      <td>77155.99</td>\n",
       "      <td>C646560157</td>\n",
       "      <td>143307.0</td>\n",
       "      <td>66151.01</td>\n",
       "      <td>C671337546</td>\n",
       "      <td>21213865.83</td>\n",
       "      <td>21291021.82</td>\n",
       "      <td>0.0</td>\n",
       "    </tr>\n",
       "  </tbody>\n",
       "</table>\n",
       "</div>"
      ],
      "text/plain": [
       "   id  step      type     amount     nameOrig  oldbalanceOrg  newbalanceOrig  \\\n",
       "0   0   323   PAYMENT    9092.69   C749189758            0.0            0.00   \n",
       "1   1   164   CASH_IN   23468.75   C525009948            0.0        23468.75   \n",
       "2   2   228  CASH_OUT   39688.11  C1311063915            0.0            0.00   \n",
       "3   3   229  CASH_OUT  179016.96   C700594269       103485.0            0.00   \n",
       "4   4   709  CASH_OUT   77155.99   C646560157       143307.0        66151.01   \n",
       "\n",
       "      nameDest  oldbalanceDest  newbalanceDest  Fraud  \n",
       "0  M1939669337            0.00            0.00    0.0  \n",
       "1    C65353523        77300.17        53831.42    0.0  \n",
       "2  C1581032686       168913.26       208601.37    0.0  \n",
       "3    C90149178      2483034.47      2662051.42    0.0  \n",
       "4   C671337546     21213865.83     21291021.82    0.0  "
      ]
     },
     "execution_count": 4,
     "metadata": {},
     "output_type": "execute_result"
    }
   ],
   "source": [
    "train.head()"
   ]
  },
  {
   "cell_type": "code",
   "execution_count": 5,
   "metadata": {},
   "outputs": [
    {
     "name": "stdout",
     "output_type": "stream",
     "text": [
      "<class 'pandas.core.frame.DataFrame'>\n",
      "RangeIndex: 3817572 entries, 0 to 3817571\n",
      "Data columns (total 11 columns):\n",
      "id                int64\n",
      "step              int64\n",
      "type              object\n",
      "amount            float64\n",
      "nameOrig          object\n",
      "oldbalanceOrg     float64\n",
      "newbalanceOrig    float64\n",
      "nameDest          object\n",
      "oldbalanceDest    float64\n",
      "newbalanceDest    float64\n",
      "Fraud             float64\n",
      "dtypes: float64(6), int64(2), object(3)\n",
      "memory usage: 320.4+ MB\n"
     ]
    }
   ],
   "source": [
    "train.info()"
   ]
  },
  {
   "cell_type": "code",
   "execution_count": 6,
   "metadata": {},
   "outputs": [
    {
     "data": {
      "text/plain": [
       "(2545047, 10)"
      ]
     },
     "execution_count": 6,
     "metadata": {},
     "output_type": "execute_result"
    }
   ],
   "source": [
    "test.shape"
   ]
  },
  {
   "cell_type": "code",
   "execution_count": 7,
   "metadata": {},
   "outputs": [
    {
     "data": {
      "text/plain": [
       "False"
      ]
     },
     "execution_count": 7,
     "metadata": {},
     "output_type": "execute_result"
    }
   ],
   "source": [
    "test.isnull().values.any()"
   ]
  },
  {
   "cell_type": "code",
   "execution_count": 8,
   "metadata": {},
   "outputs": [
    {
     "data": {
      "text/html": [
       "<div>\n",
       "<table border=\"1\" class=\"dataframe\">\n",
       "  <thead>\n",
       "    <tr style=\"text-align: right;\">\n",
       "      <th></th>\n",
       "      <th>id</th>\n",
       "      <th>step</th>\n",
       "      <th>type</th>\n",
       "      <th>amount</th>\n",
       "      <th>nameOrig</th>\n",
       "      <th>oldbalanceOrg</th>\n",
       "      <th>newbalanceOrig</th>\n",
       "      <th>nameDest</th>\n",
       "      <th>oldbalanceDest</th>\n",
       "      <th>newbalanceDest</th>\n",
       "    </tr>\n",
       "  </thead>\n",
       "  <tbody>\n",
       "    <tr>\n",
       "      <th>0</th>\n",
       "      <td>1</td>\n",
       "      <td>329</td>\n",
       "      <td>PAYMENT</td>\n",
       "      <td>41909.68</td>\n",
       "      <td>C1965438439</td>\n",
       "      <td>18391.00</td>\n",
       "      <td>0.00</td>\n",
       "      <td>M296912999</td>\n",
       "      <td>0.00</td>\n",
       "      <td>0.00</td>\n",
       "    </tr>\n",
       "    <tr>\n",
       "      <th>1</th>\n",
       "      <td>2</td>\n",
       "      <td>205</td>\n",
       "      <td>CASH_IN</td>\n",
       "      <td>57645.11</td>\n",
       "      <td>C2061644565</td>\n",
       "      <td>3162376.19</td>\n",
       "      <td>3220021.31</td>\n",
       "      <td>C2046839454</td>\n",
       "      <td>701205.57</td>\n",
       "      <td>643617.16</td>\n",
       "    </tr>\n",
       "    <tr>\n",
       "      <th>2</th>\n",
       "      <td>3</td>\n",
       "      <td>299</td>\n",
       "      <td>PAYMENT</td>\n",
       "      <td>41911.35</td>\n",
       "      <td>C630506216</td>\n",
       "      <td>9218.00</td>\n",
       "      <td>0.00</td>\n",
       "      <td>M1895361660</td>\n",
       "      <td>0.00</td>\n",
       "      <td>0.00</td>\n",
       "    </tr>\n",
       "    <tr>\n",
       "      <th>3</th>\n",
       "      <td>4</td>\n",
       "      <td>165</td>\n",
       "      <td>PAYMENT</td>\n",
       "      <td>10297.71</td>\n",
       "      <td>C1059151844</td>\n",
       "      <td>29739.00</td>\n",
       "      <td>19441.29</td>\n",
       "      <td>M830221248</td>\n",
       "      <td>0.00</td>\n",
       "      <td>0.00</td>\n",
       "    </tr>\n",
       "    <tr>\n",
       "      <th>4</th>\n",
       "      <td>5</td>\n",
       "      <td>346</td>\n",
       "      <td>TRANSFER</td>\n",
       "      <td>143577.58</td>\n",
       "      <td>C1707397780</td>\n",
       "      <td>115.00</td>\n",
       "      <td>0.00</td>\n",
       "      <td>C1234376661</td>\n",
       "      <td>1184548.85</td>\n",
       "      <td>1328126.42</td>\n",
       "    </tr>\n",
       "  </tbody>\n",
       "</table>\n",
       "</div>"
      ],
      "text/plain": [
       "   id  step      type     amount     nameOrig  oldbalanceOrg  newbalanceOrig  \\\n",
       "0   1   329   PAYMENT   41909.68  C1965438439       18391.00            0.00   \n",
       "1   2   205   CASH_IN   57645.11  C2061644565     3162376.19      3220021.31   \n",
       "2   3   299   PAYMENT   41911.35   C630506216        9218.00            0.00   \n",
       "3   4   165   PAYMENT   10297.71  C1059151844       29739.00        19441.29   \n",
       "4   5   346  TRANSFER  143577.58  C1707397780         115.00            0.00   \n",
       "\n",
       "      nameDest  oldbalanceDest  newbalanceDest  \n",
       "0   M296912999            0.00            0.00  \n",
       "1  C2046839454       701205.57       643617.16  \n",
       "2  M1895361660            0.00            0.00  \n",
       "3   M830221248            0.00            0.00  \n",
       "4  C1234376661      1184548.85      1328126.42  "
      ]
     },
     "execution_count": 8,
     "metadata": {},
     "output_type": "execute_result"
    }
   ],
   "source": [
    "test.head()"
   ]
  },
  {
   "cell_type": "markdown",
   "metadata": {},
   "source": [
    "### 匯出\n",
    "train.to_csv('show_me_the_money_train.csv',index=False)\n",
    "\n",
    "test.to_csv('show_me_the_money_test.csv',index=False)"
   ]
  },
  {
   "cell_type": "code",
   "execution_count": 9,
   "metadata": {},
   "outputs": [],
   "source": [
    "X = train.drop(['id', 'type', 'nameOrig', 'nameDest'], axis = 1)"
   ]
  },
  {
   "cell_type": "code",
   "execution_count": 10,
   "metadata": {},
   "outputs": [],
   "source": [
    "X_test = test.drop(['id', 'type', 'nameOrig', 'nameDest'], axis = 1)"
   ]
  },
  {
   "cell_type": "code",
   "execution_count": 11,
   "metadata": {},
   "outputs": [
    {
     "data": {
      "text/html": [
       "<div>\n",
       "<table border=\"1\" class=\"dataframe\">\n",
       "  <thead>\n",
       "    <tr style=\"text-align: right;\">\n",
       "      <th></th>\n",
       "      <th>step</th>\n",
       "      <th>amount</th>\n",
       "      <th>oldbalanceOrg</th>\n",
       "      <th>newbalanceOrig</th>\n",
       "      <th>oldbalanceDest</th>\n",
       "      <th>newbalanceDest</th>\n",
       "    </tr>\n",
       "  </thead>\n",
       "  <tbody>\n",
       "    <tr>\n",
       "      <th>0</th>\n",
       "      <td>329</td>\n",
       "      <td>41909.68</td>\n",
       "      <td>18391.00</td>\n",
       "      <td>0.00</td>\n",
       "      <td>0.00</td>\n",
       "      <td>0.00</td>\n",
       "    </tr>\n",
       "    <tr>\n",
       "      <th>1</th>\n",
       "      <td>205</td>\n",
       "      <td>57645.11</td>\n",
       "      <td>3162376.19</td>\n",
       "      <td>3220021.31</td>\n",
       "      <td>701205.57</td>\n",
       "      <td>643617.16</td>\n",
       "    </tr>\n",
       "    <tr>\n",
       "      <th>2</th>\n",
       "      <td>299</td>\n",
       "      <td>41911.35</td>\n",
       "      <td>9218.00</td>\n",
       "      <td>0.00</td>\n",
       "      <td>0.00</td>\n",
       "      <td>0.00</td>\n",
       "    </tr>\n",
       "    <tr>\n",
       "      <th>3</th>\n",
       "      <td>165</td>\n",
       "      <td>10297.71</td>\n",
       "      <td>29739.00</td>\n",
       "      <td>19441.29</td>\n",
       "      <td>0.00</td>\n",
       "      <td>0.00</td>\n",
       "    </tr>\n",
       "    <tr>\n",
       "      <th>4</th>\n",
       "      <td>346</td>\n",
       "      <td>143577.58</td>\n",
       "      <td>115.00</td>\n",
       "      <td>0.00</td>\n",
       "      <td>1184548.85</td>\n",
       "      <td>1328126.42</td>\n",
       "    </tr>\n",
       "  </tbody>\n",
       "</table>\n",
       "</div>"
      ],
      "text/plain": [
       "   step     amount  oldbalanceOrg  newbalanceOrig  oldbalanceDest  \\\n",
       "0   329   41909.68       18391.00            0.00            0.00   \n",
       "1   205   57645.11     3162376.19      3220021.31       701205.57   \n",
       "2   299   41911.35        9218.00            0.00            0.00   \n",
       "3   165   10297.71       29739.00        19441.29            0.00   \n",
       "4   346  143577.58         115.00            0.00      1184548.85   \n",
       "\n",
       "   newbalanceDest  \n",
       "0            0.00  \n",
       "1       643617.16  \n",
       "2            0.00  \n",
       "3            0.00  \n",
       "4      1328126.42  "
      ]
     },
     "execution_count": 11,
     "metadata": {},
     "output_type": "execute_result"
    }
   ],
   "source": [
    "X_test.head()"
   ]
  },
  {
   "cell_type": "markdown",
   "metadata": {},
   "source": [
    "[^1]: [Predicting Fraud in Financial Payment Services | Kaggle](https://www.kaggle.com/arjunjoshua/predicting-fraud-in-financial-payment-services)"
   ]
  },
  {
   "cell_type": "code",
   "execution_count": 12,
   "metadata": {},
   "outputs": [
    {
     "data": {
      "text/html": [
       "<div>\n",
       "<table border=\"1\" class=\"dataframe\">\n",
       "  <thead>\n",
       "    <tr style=\"text-align: right;\">\n",
       "      <th></th>\n",
       "      <th>step</th>\n",
       "      <th>amount</th>\n",
       "      <th>oldbalanceOrg</th>\n",
       "      <th>newbalanceOrig</th>\n",
       "      <th>oldbalanceDest</th>\n",
       "      <th>newbalanceDest</th>\n",
       "      <th>Fraud</th>\n",
       "    </tr>\n",
       "  </thead>\n",
       "  <tbody>\n",
       "    <tr>\n",
       "      <th>0</th>\n",
       "      <td>323</td>\n",
       "      <td>9092.69</td>\n",
       "      <td>0.0</td>\n",
       "      <td>0.00</td>\n",
       "      <td>0.00</td>\n",
       "      <td>0.00</td>\n",
       "      <td>0.0</td>\n",
       "    </tr>\n",
       "    <tr>\n",
       "      <th>1</th>\n",
       "      <td>164</td>\n",
       "      <td>23468.75</td>\n",
       "      <td>0.0</td>\n",
       "      <td>23468.75</td>\n",
       "      <td>77300.17</td>\n",
       "      <td>53831.42</td>\n",
       "      <td>0.0</td>\n",
       "    </tr>\n",
       "    <tr>\n",
       "      <th>2</th>\n",
       "      <td>228</td>\n",
       "      <td>39688.11</td>\n",
       "      <td>0.0</td>\n",
       "      <td>0.00</td>\n",
       "      <td>168913.26</td>\n",
       "      <td>208601.37</td>\n",
       "      <td>0.0</td>\n",
       "    </tr>\n",
       "    <tr>\n",
       "      <th>3</th>\n",
       "      <td>229</td>\n",
       "      <td>179016.96</td>\n",
       "      <td>103485.0</td>\n",
       "      <td>0.00</td>\n",
       "      <td>2483034.47</td>\n",
       "      <td>2662051.42</td>\n",
       "      <td>0.0</td>\n",
       "    </tr>\n",
       "    <tr>\n",
       "      <th>4</th>\n",
       "      <td>709</td>\n",
       "      <td>77155.99</td>\n",
       "      <td>143307.0</td>\n",
       "      <td>66151.01</td>\n",
       "      <td>21213865.83</td>\n",
       "      <td>21291021.82</td>\n",
       "      <td>0.0</td>\n",
       "    </tr>\n",
       "  </tbody>\n",
       "</table>\n",
       "</div>"
      ],
      "text/plain": [
       "   step     amount  oldbalanceOrg  newbalanceOrig  oldbalanceDest  \\\n",
       "0   323    9092.69            0.0            0.00            0.00   \n",
       "1   164   23468.75            0.0        23468.75        77300.17   \n",
       "2   228   39688.11            0.0            0.00       168913.26   \n",
       "3   229  179016.96       103485.0            0.00      2483034.47   \n",
       "4   709   77155.99       143307.0        66151.01     21213865.83   \n",
       "\n",
       "   newbalanceDest  Fraud  \n",
       "0            0.00    0.0  \n",
       "1        53831.42    0.0  \n",
       "2       208601.37    0.0  \n",
       "3      2662051.42    0.0  \n",
       "4     21291021.82    0.0  "
      ]
     },
     "execution_count": 12,
     "metadata": {},
     "output_type": "execute_result"
    }
   ],
   "source": [
    "X.head()"
   ]
  },
  {
   "cell_type": "code",
   "execution_count": 13,
   "metadata": {},
   "outputs": [
    {
     "data": {
      "text/html": [
       "<div>\n",
       "<table border=\"1\" class=\"dataframe\">\n",
       "  <thead>\n",
       "    <tr style=\"text-align: right;\">\n",
       "      <th></th>\n",
       "      <th>step</th>\n",
       "      <th>amount</th>\n",
       "      <th>oldbalanceOrg</th>\n",
       "      <th>newbalanceOrig</th>\n",
       "      <th>oldbalanceDest</th>\n",
       "      <th>newbalanceDest</th>\n",
       "    </tr>\n",
       "  </thead>\n",
       "  <tbody>\n",
       "    <tr>\n",
       "      <th>0</th>\n",
       "      <td>329</td>\n",
       "      <td>41909.68</td>\n",
       "      <td>18391.00</td>\n",
       "      <td>0.00</td>\n",
       "      <td>0.00</td>\n",
       "      <td>0.00</td>\n",
       "    </tr>\n",
       "    <tr>\n",
       "      <th>1</th>\n",
       "      <td>205</td>\n",
       "      <td>57645.11</td>\n",
       "      <td>3162376.19</td>\n",
       "      <td>3220021.31</td>\n",
       "      <td>701205.57</td>\n",
       "      <td>643617.16</td>\n",
       "    </tr>\n",
       "    <tr>\n",
       "      <th>2</th>\n",
       "      <td>299</td>\n",
       "      <td>41911.35</td>\n",
       "      <td>9218.00</td>\n",
       "      <td>0.00</td>\n",
       "      <td>0.00</td>\n",
       "      <td>0.00</td>\n",
       "    </tr>\n",
       "    <tr>\n",
       "      <th>3</th>\n",
       "      <td>165</td>\n",
       "      <td>10297.71</td>\n",
       "      <td>29739.00</td>\n",
       "      <td>19441.29</td>\n",
       "      <td>0.00</td>\n",
       "      <td>0.00</td>\n",
       "    </tr>\n",
       "    <tr>\n",
       "      <th>4</th>\n",
       "      <td>346</td>\n",
       "      <td>143577.58</td>\n",
       "      <td>115.00</td>\n",
       "      <td>0.00</td>\n",
       "      <td>1184548.85</td>\n",
       "      <td>1328126.42</td>\n",
       "    </tr>\n",
       "  </tbody>\n",
       "</table>\n",
       "</div>"
      ],
      "text/plain": [
       "   step     amount  oldbalanceOrg  newbalanceOrig  oldbalanceDest  \\\n",
       "0   329   41909.68       18391.00            0.00            0.00   \n",
       "1   205   57645.11     3162376.19      3220021.31       701205.57   \n",
       "2   299   41911.35        9218.00            0.00            0.00   \n",
       "3   165   10297.71       29739.00        19441.29            0.00   \n",
       "4   346  143577.58         115.00            0.00      1184548.85   \n",
       "\n",
       "   newbalanceDest  \n",
       "0            0.00  \n",
       "1       643617.16  \n",
       "2            0.00  \n",
       "3            0.00  \n",
       "4      1328126.42  "
      ]
     },
     "execution_count": 13,
     "metadata": {},
     "output_type": "execute_result"
    }
   ],
   "source": [
    "X_test.head()"
   ]
  },
  {
   "cell_type": "code",
   "execution_count": 14,
   "metadata": {},
   "outputs": [
    {
     "data": {
      "text/plain": [
       "(3817572,)"
      ]
     },
     "execution_count": 14,
     "metadata": {},
     "output_type": "execute_result"
    }
   ],
   "source": [
    "Y = X['Fraud']\n",
    "X = X.drop(['Fraud'], axis=1)\n",
    "Y.shape"
   ]
  },
  {
   "cell_type": "code",
   "execution_count": null,
   "metadata": {},
   "outputs": [],
   "source": [
    "from sklearn.model_selection import train_test_split, learning_curve\n",
    "from sklearn.metrics import average_precision_score\n",
    "from xgboost.sklearn import XGBClassifier\n",
    "from xgboost import plot_importance, to_graphviz"
   ]
  },
  {
   "cell_type": "code",
   "execution_count": null,
   "metadata": {},
   "outputs": [],
   "source": [
    "randomState = 5\n",
    "np.random.seed(randomState)\n",
    "\n",
    "X_train, X_valid, y_train, y_valid = train_test_split(X, Y, test_size = 0.2, \\\n",
    "                                                random_state = randomState)"
   ]
  },
  {
   "cell_type": "code",
   "execution_count": null,
   "metadata": {},
   "outputs": [],
   "source": [
    "import xgboost\n",
    "\n",
    "eval_set =  [(X_valid, y_valid)]\n",
    "# parameters={'learning_rate':[0.05,0.1,0.2]}\n",
    "model = xgboost.XGBClassifier()\n",
    "# best_model = sklearn.model_selection.GridSearchCV(model, parameters,cv=2)\n",
    "# best_model.fit(x_train, y_train,early_stopping_rounds=10, eval_metric=\"auc\",\n",
    "#           eval_set=eval_set, verbose=False)\n",
    "model.fit(X_train, y_train,early_stopping_rounds=10, eval_metric=\"auc\",eval_set=eval_set, verbose=True)"
   ]
  },
  {
   "cell_type": "code",
   "execution_count": null,
   "metadata": {},
   "outputs": [],
   "source": [
    "import sklearn\n",
    "\n",
    "#validation\n",
    "y_pred = model.predict_proba(X_test)\n",
    "# y_pred = best_model.predict_proba(x_test)\n",
    "#y_pred會有兩欄（加起來總共100%），不知道為什麼這裡要取第二欄\n",
    "y_pred = y_pred[:,1]\n",
    "# fpr, tpr, thresholds = sklearn.metrics.roc_curve(y_valid, y_pred)\n",
    "# sklearn.metrics.auc(fpr,tpr)"
   ]
  },
  {
   "cell_type": "code",
   "execution_count": null,
   "metadata": {},
   "outputs": [],
   "source": [
    "y_pred.shape"
   ]
  },
  {
   "cell_type": "markdown",
   "metadata": {},
   "source": [
    "```\n",
    "submission = pd.DataFrame()\n",
    "\n",
    "submission['id'] = test_id\n",
    "\n",
    "submission['Fraud'] = 您的預測結果\n",
    "\n",
    "submission.to_csv('您的檔名.csv',index=False)```"
   ]
  },
  {
   "cell_type": "code",
   "execution_count": null,
   "metadata": {},
   "outputs": [],
   "source": [
    "test.head()"
   ]
  },
  {
   "cell_type": "code",
   "execution_count": null,
   "metadata": {},
   "outputs": [],
   "source": [
    "#predict\n",
    "submission = pd.DataFrame()\n",
    "submission['id'] = test.id - 1\n",
    "submission['Fraud'] = y_pred\n",
    "# submission.columns=['id','Fraud']\n",
    "submission.to_csv(\"submission.csv\", index=False)\n",
    "submission.head()"
   ]
  }
 ],
 "metadata": {
  "kernelspec": {
   "display_name": "Python 3",
   "language": "python",
   "name": "python3"
  },
  "language_info": {
   "codemirror_mode": {
    "name": "ipython",
    "version": 3
   },
   "file_extension": ".py",
   "mimetype": "text/x-python",
   "name": "python",
   "nbconvert_exporter": "python",
   "pygments_lexer": "ipython3",
   "version": "3.6.3"
  }
 },
 "nbformat": 4,
 "nbformat_minor": 2
}
