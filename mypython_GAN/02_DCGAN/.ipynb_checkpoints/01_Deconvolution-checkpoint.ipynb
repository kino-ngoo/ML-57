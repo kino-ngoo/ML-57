{
 "cells": [
  {
   "cell_type": "markdown",
   "metadata": {},
   "source": [
    " # Deconvolution (Transposed Convolution)\n",
    " ### DCGAN 的生成器，會使用到逆卷積操作來放大 noise vector (z)，生成影像。\n",
    "<img src=\"../notebook_material/dcgan_gen.png\" alt=\"Drawing\" align=\"left\"/>"
   ]
  },
  {
   "cell_type": "markdown",
   "metadata": {},
   "source": [
    "## 如何實現?"
   ]
  },
  {
   "cell_type": "markdown",
   "metadata": {},
   "source": [
    "<img src=\"../notebook_material/no_padding_no_strides_transposed.gif\" alt=\"Drawing\" align=\"left\" style=\"width: 150px;\"/>\n",
    "<br>\n",
    "<b align=\"center\"> 以 No zero padding, unit strides, transposed 做示範</b>"
   ]
  },
  {
   "cell_type": "code",
   "execution_count": 1,
   "metadata": {},
   "outputs": [
    {
     "name": "stderr",
     "output_type": "stream",
     "text": [
      "/usr/local/lib/python3.5/dist-packages/h5py/__init__.py:36: FutureWarning: Conversion of the second argument of issubdtype from `float` to `np.floating` is deprecated. In future, it will be treated as `np.float64 == np.dtype(float).type`.\n",
      "  from ._conv import register_converters as _register_converters\n"
     ]
    }
   ],
   "source": [
    "import os\n",
    "os.environ['CUDA_VISIBLE_DEVICES'] = '0'\n",
    "import numpy as np\n",
    "import tensorflow as tf"
   ]
  },
  {
   "cell_type": "code",
   "execution_count": 2,
   "metadata": {},
   "outputs": [
    {
     "name": "stdout",
     "output_type": "stream",
     "text": [
      "input_data shape:  (1, 2, 2, 1)\n",
      "filter_weights shape: (3, 3, 1, 1)\n"
     ]
    }
   ],
   "source": [
    "input_data=np.array([\n",
    "               [[1,4],\n",
    "                [7,2]]\n",
    "            ])\n",
    "input_data = input_data.reshape(-1, input_data.shape[1], input_data.shape[2], input_data.shape[0])\n",
    "\n",
    "\n",
    "filter_weights=np.array([ \n",
    "              [[[ 1, 0, 1],\n",
    "                [-1, 1, 0],\n",
    "                [ 0,-1, 0]]] \n",
    "           ])\n",
    "filter_weights = filter_weights.reshape(filter_weights.shape[2], filter_weights.shape[3], filter_weights.shape[1], -1)\n",
    "\n",
    "# input shape=[batch_size, height, width, channel]\n",
    "print('input_data shape: ', input_data.shape)\n",
    "\n",
    "# filter shape=[filter_height, filter_width, in_channel, out_channel]\n",
    "print('filter_weights shape:', filter_weights.shape)"
   ]
  },
  {
   "cell_type": "markdown",
   "metadata": {},
   "source": [
    "### 1. 手刻"
   ]
  },
  {
   "cell_type": "code",
   "execution_count": 3,
   "metadata": {},
   "outputs": [],
   "source": [
    "# unit stride\n",
    "def conv(input, Filter):\n",
    "    input = tf.constant(input, tf.float32)\n",
    "    Filter = tf.constant(Filter, tf.float32)\n",
    "    return tf.nn.conv2d(input, Filter, strides=(1,1,1,1), padding='VALID')\n",
    "\n",
    "# adding 2x2 zeros border around input\n",
    "def zero_padding(input):\n",
    "    # 請輸入程式碼\n",
    "    \n",
    "    return output"
   ]
  },
  {
   "cell_type": "code",
   "execution_count": 4,
   "metadata": {},
   "outputs": [],
   "source": [
    "#handcraft transposed convolution\n",
    "init=tf.global_variables_initializer()\n",
    "sess=tf.Session()\n",
    "sess.run(init)\n",
    "\n",
    "padding_input = zero_padding(input_data)\n",
    "deconv_hand = sess.run(conv(padding_input, filter_weights))\n"
   ]
  },
  {
   "cell_type": "code",
   "execution_count": 5,
   "metadata": {},
   "outputs": [
    {
     "name": "stdout",
     "output_type": "stream",
     "text": [
      "Shape before deconvolution: (1, 2, 2, 1)\n",
      "Shape after deconvolution:  (1, 4, 4, 1)\n"
     ]
    }
   ],
   "source": [
    "print('Shape before deconvolution:', input_data.shape)\n",
    "print('Shape after deconvolution: ', deconv_hand.shape)"
   ]
  },
  {
   "cell_type": "markdown",
   "metadata": {},
   "source": [
    "### 2. Tensorflow 內建 conv2d_transpose "
   ]
  },
  {
   "cell_type": "code",
   "execution_count": 6,
   "metadata": {},
   "outputs": [],
   "source": [
    "def tf_conv2d_transpose(input,Filter):\n",
    "    #input_shape=[batch_size,height,width,channel]\n",
    "    input = tf.constant(input, tf.float32)\n",
    "    input_shape = input.get_shape().as_list()\n",
    "    \n",
    "    #filter_shape=[height,width,out_c,in_c]\n",
    "    Filter = np.swapaxes(Filter, 2,3)\n",
    "    Filter = tf.constant(Filter, tf.float32)\n",
    "    filter_shape=Filter.get_shape().as_list() \n",
    "    \n",
    "    output_shape=[input_shape[0], input_shape[1]*2 , input_shape[2]*2 , filter_shape[2]]\n",
    "\n",
    "    deconv=tf.nn.conv2d_transpose(input,Filter,output_shape=output_shape,\n",
    "        strides=[1, 1, 1, 1], padding='VALID')\n",
    "    return deconv\n"
   ]
  },
  {
   "cell_type": "code",
   "execution_count": 7,
   "metadata": {},
   "outputs": [
    {
     "name": "stdout",
     "output_type": "stream",
     "text": [
      "Shape before deconvolution: (1, 2, 2, 1)\n",
      "Shape after deconvolution:  (1, 4, 4, 1)\n"
     ]
    }
   ],
   "source": [
    "#tesndorflow transposed convolution layer\n",
    "tf.reset_default_graph()\n",
    "init=tf.global_variables_initializer()\n",
    "sess=tf.Session()\n",
    "sess.run(init)\n",
    "\n",
    "filter_weights = np.rot90(filter_weights, k=2, axes=(0,1)) # tf_conv2d_transpose 中， filter 會被逆旋轉 180 度\n",
    "                                                           # 所以先對 height, width 方向順旋轉 180 度\n",
    "                                                           # 出來的結果才會跟前面一樣\n",
    "deconv_tf = sess.run(tf_conv2d_transpose(input_data, filter_weights)) \n",
    "print('Shape before deconvolution:', input_data.shape)\n",
    "print('Shape after deconvolution: ', deconv_tf.shape)"
   ]
  },
  {
   "cell_type": "markdown",
   "metadata": {},
   "source": [
    "### 兩種方法結果是否相同"
   ]
  },
  {
   "cell_type": "code",
   "execution_count": 8,
   "metadata": {},
   "outputs": [
    {
     "name": "stdout",
     "output_type": "stream",
     "text": [
      "True\n"
     ]
    }
   ],
   "source": [
    "print(np.equal(deconv_tf, deconv_hand).all())"
   ]
  }
 ],
 "metadata": {
  "kernelspec": {
   "display_name": "Python 3",
   "language": "python",
   "name": "python3"
  },
  "language_info": {
   "codemirror_mode": {
    "name": "ipython",
    "version": 3
   },
   "file_extension": ".py",
   "mimetype": "text/x-python",
   "name": "python",
   "nbconvert_exporter": "python",
   "pygments_lexer": "ipython3",
   "version": "3.5.2"
  }
 },
 "nbformat": 4,
 "nbformat_minor": 2
}
