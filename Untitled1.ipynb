{
 "cells": [
  {
   "cell_type": "code",
   "execution_count": 84,
   "metadata": {},
   "outputs": [
    {
     "name": "stdout",
     "output_type": "stream",
     "text": [
      "env: KERAS_BACKEND=tensorflow\n"
     ]
    }
   ],
   "source": [
    "%env KERAS_BACKEND=tensorflow"
   ]
  },
  {
   "cell_type": "code",
   "execution_count": 85,
   "metadata": {
    "collapsed": true
   },
   "outputs": [],
   "source": [
    "%matplotlib inline\n",
    "\n",
    "import numpy as np\n",
    "import matplotlib.pyplot as mlp\n",
    "import pandas as pd"
   ]
  },
  {
   "cell_type": "code",
   "execution_count": 86,
   "metadata": {},
   "outputs": [],
   "source": [
    "from keras.datasets import imdb"
   ]
  },
  {
   "cell_type": "code",
   "execution_count": 128,
   "metadata": {},
   "outputs": [],
   "source": [
    "(x_train, y_train), (x_test, y_test) = imdb.load_data(num_words=10000)"
   ]
  },
  {
   "cell_type": "code",
   "execution_count": 88,
   "metadata": {},
   "outputs": [
    {
     "data": {
      "text/plain": [
       "25000"
      ]
     },
     "execution_count": 88,
     "metadata": {},
     "output_type": "execute_result"
    }
   ],
   "source": [
    "len(x_train)"
   ]
  },
  {
   "cell_type": "code",
   "execution_count": 89,
   "metadata": {},
   "outputs": [
    {
     "data": {
      "text/plain": [
       "25000"
      ]
     },
     "execution_count": 89,
     "metadata": {},
     "output_type": "execute_result"
    }
   ],
   "source": [
    "len(x_test)"
   ]
  },
  {
   "cell_type": "code",
   "execution_count": 90,
   "metadata": {},
   "outputs": [
    {
     "data": {
      "text/plain": [
       "[1,\n",
       " 61,\n",
       " 795,\n",
       " 203,\n",
       " 30,\n",
       " 6,\n",
       " 227,\n",
       " 7,\n",
       " 6,\n",
       " 1361,\n",
       " 18,\n",
       " 51,\n",
       " 45,\n",
       " 290,\n",
       " 570,\n",
       " 150,\n",
       " 48,\n",
       " 25,\n",
       " 459,\n",
       " 195,\n",
       " 10,\n",
       " 10,\n",
       " 1907,\n",
       " 1698,\n",
       " 144,\n",
       " 28,\n",
       " 77,\n",
       " 3670,\n",
       " 6,\n",
       " 2300,\n",
       " 1523,\n",
       " 1338,\n",
       " 18,\n",
       " 154,\n",
       " 698,\n",
       " 372,\n",
       " 8,\n",
       " 79,\n",
       " 312,\n",
       " 23,\n",
       " 268,\n",
       " 14,\n",
       " 22,\n",
       " 9,\n",
       " 995,\n",
       " 4,\n",
       " 8171,\n",
       " 228,\n",
       " 9,\n",
       " 35,\n",
       " 8236,\n",
       " 17,\n",
       " 26,\n",
       " 4,\n",
       " 578,\n",
       " 5323,\n",
       " 3729,\n",
       " 15,\n",
       " 2,\n",
       " 1719,\n",
       " 56,\n",
       " 8,\n",
       " 931,\n",
       " 23,\n",
       " 4,\n",
       " 1321,\n",
       " 1103,\n",
       " 11,\n",
       " 4,\n",
       " 1749,\n",
       " 18,\n",
       " 463,\n",
       " 449,\n",
       " 13,\n",
       " 79,\n",
       " 12,\n",
       " 14,\n",
       " 9,\n",
       " 691,\n",
       " 6,\n",
       " 8338,\n",
       " 5,\n",
       " 7524,\n",
       " 20,\n",
       " 93,\n",
       " 3084,\n",
       " 34,\n",
       " 94,\n",
       " 2,\n",
       " 631,\n",
       " 956,\n",
       " 5,\n",
       " 4905,\n",
       " 2,\n",
       " 3981,\n",
       " 671,\n",
       " 8,\n",
       " 2,\n",
       " 1426,\n",
       " 23,\n",
       " 35,\n",
       " 311,\n",
       " 772,\n",
       " 41,\n",
       " 544,\n",
       " 584,\n",
       " 13,\n",
       " 100,\n",
       " 1227,\n",
       " 842,\n",
       " 4,\n",
       " 1588,\n",
       " 120,\n",
       " 33,\n",
       " 312,\n",
       " 211,\n",
       " 3413,\n",
       " 5611,\n",
       " 68,\n",
       " 2,\n",
       " 120,\n",
       " 4,\n",
       " 4197,\n",
       " 2,\n",
       " 15,\n",
       " 2,\n",
       " 14,\n",
       " 431,\n",
       " 249,\n",
       " 136,\n",
       " 776,\n",
       " 4905,\n",
       " 1027,\n",
       " 8,\n",
       " 2,\n",
       " 41,\n",
       " 2,\n",
       " 2,\n",
       " 23,\n",
       " 4,\n",
       " 890,\n",
       " 7,\n",
       " 1316,\n",
       " 11,\n",
       " 6,\n",
       " 2,\n",
       " 428,\n",
       " 2727,\n",
       " 1735,\n",
       " 24,\n",
       " 163,\n",
       " 24,\n",
       " 204,\n",
       " 24,\n",
       " 221,\n",
       " 24,\n",
       " 6,\n",
       " 52,\n",
       " 20,\n",
       " 4,\n",
       " 693,\n",
       " 241,\n",
       " 675,\n",
       " 9,\n",
       " 4,\n",
       " 959,\n",
       " 7,\n",
       " 2,\n",
       " 120,\n",
       " 9719,\n",
       " 92,\n",
       " 437,\n",
       " 129,\n",
       " 58]"
      ]
     },
     "execution_count": 90,
     "metadata": {},
     "output_type": "execute_result"
    }
   ],
   "source": [
    "x_train[87]"
   ]
  },
  {
   "cell_type": "code",
   "execution_count": 127,
   "metadata": {},
   "outputs": [
    {
     "name": "stdout",
     "output_type": "stream",
     "text": [
      "100, 100, 100, 100, 100, 100, 100, 100, 100, 100, "
     ]
    }
   ],
   "source": [
    "for i in range(10):\n",
    "    print(len(x_train[i]), end=\", \")"
   ]
  },
  {
   "cell_type": "code",
   "execution_count": 111,
   "metadata": {
    "collapsed": true
   },
   "outputs": [],
   "source": [
    "from keras.preprocessing import sequence"
   ]
  },
  {
   "cell_type": "code",
   "execution_count": 129,
   "metadata": {
    "collapsed": true
   },
   "outputs": [],
   "source": [
    "x_train = sequence.pad_sequences(x_train, maxlen=250)\n",
    "x_test = sequence.pad_sequences(x_test, maxlen=250)"
   ]
  },
  {
   "cell_type": "code",
   "execution_count": 113,
   "metadata": {},
   "outputs": [
    {
     "name": "stdout",
     "output_type": "stream",
     "text": [
      "100, 100, 100, 100, 100, 100, 100, 100, 100, 100, "
     ]
    }
   ],
   "source": [
    "for i in range(10):\n",
    "    print(len(x_train[i]), end=\", \")"
   ]
  },
  {
   "cell_type": "code",
   "execution_count": 114,
   "metadata": {},
   "outputs": [
    {
     "data": {
      "text/plain": [
       "(25000, 100)"
      ]
     },
     "execution_count": 114,
     "metadata": {},
     "output_type": "execute_result"
    }
   ],
   "source": [
    "x_train.shape"
   ]
  },
  {
   "cell_type": "code",
   "execution_count": 115,
   "metadata": {},
   "outputs": [
    {
     "data": {
      "text/plain": [
       "array([  79,   12,   14,    9,  691,    6, 8338,    5, 7524,   20,   93,\n",
       "       3084,   34,   94,    2,  631,  956,    5, 4905,    2, 3981,  671,\n",
       "          8,    2, 1426,   23,   35,  311,  772,   41,  544,  584,   13,\n",
       "        100, 1227,  842,    4, 1588,  120,   33,  312,  211, 3413, 5611,\n",
       "         68,    2,  120,    4, 4197,    2,   15,    2,   14,  431,  249,\n",
       "        136,  776, 4905, 1027,    8,    2,   41,    2,    2,   23,    4,\n",
       "        890,    7, 1316,   11,    6,    2,  428, 2727, 1735,   24,  163,\n",
       "         24,  204,   24,  221,   24,    6,   52,   20,    4,  693,  241,\n",
       "        675,    9,    4,  959,    7,    2,  120, 9719,   92,  437,  129,\n",
       "         58], dtype=int32)"
      ]
     },
     "execution_count": 115,
     "metadata": {},
     "output_type": "execute_result"
    }
   ],
   "source": [
    "x_train[87]"
   ]
  },
  {
   "cell_type": "code",
   "execution_count": 116,
   "metadata": {
    "collapsed": true
   },
   "outputs": [],
   "source": [
    "from keras.models import Sequential\n",
    "from keras.layers import Dense, Embedding, LSTM"
   ]
  },
  {
   "cell_type": "code",
   "execution_count": 117,
   "metadata": {
    "collapsed": true
   },
   "outputs": [],
   "source": [
    "model = Sequential()"
   ]
  },
  {
   "cell_type": "code",
   "execution_count": 118,
   "metadata": {
    "collapsed": true
   },
   "outputs": [],
   "source": [
    "model.add(Embedding(10000, 128))"
   ]
  },
  {
   "cell_type": "code",
   "execution_count": 119,
   "metadata": {},
   "outputs": [],
   "source": [
    "model.add(LSTM(150))"
   ]
  },
  {
   "cell_type": "code",
   "execution_count": 120,
   "metadata": {
    "collapsed": true
   },
   "outputs": [],
   "source": [
    "model.add(Dense(1, activation='sigmoid'))"
   ]
  },
  {
   "cell_type": "code",
   "execution_count": 121,
   "metadata": {
    "collapsed": true
   },
   "outputs": [],
   "source": [
    "model.compile(loss='binary_crossentropy',\n",
    "              optimizer='adam',\n",
    "              metrics=['accuracy'])"
   ]
  },
  {
   "cell_type": "code",
   "execution_count": 122,
   "metadata": {},
   "outputs": [
    {
     "name": "stdout",
     "output_type": "stream",
     "text": [
      "_________________________________________________________________\n",
      "Layer (type)                 Output Shape              Param #   \n",
      "=================================================================\n",
      "embedding_6 (Embedding)      (None, None, 128)         1280000   \n",
      "_________________________________________________________________\n",
      "lstm_8 (LSTM)                (None, 150)               167400    \n",
      "_________________________________________________________________\n",
      "dense_7 (Dense)              (None, 1)                 151       \n",
      "=================================================================\n",
      "Total params: 1,447,551\n",
      "Trainable params: 1,447,551\n",
      "Non-trainable params: 0\n",
      "_________________________________________________________________\n"
     ]
    }
   ],
   "source": [
    "model.summary()"
   ]
  },
  {
   "cell_type": "code",
   "execution_count": 75,
   "metadata": {},
   "outputs": [],
   "source": [
    "from keras.utils import plot_model\n",
    "plot_model(model, show_shapes=True, to_file='rnn.png')"
   ]
  },
  {
   "cell_type": "markdown",
   "metadata": {},
   "source": [
    "![My first RNN](rnn.png)"
   ]
  },
  {
   "cell_type": "code",
   "execution_count": 130,
   "metadata": {},
   "outputs": [
    {
     "name": "stdout",
     "output_type": "stream",
     "text": [
      "Epoch 1/2\n",
      "25000/25000 [==============================] - 322s 13ms/step - loss: 0.1943 - acc: 0.9270\n",
      "Epoch 2/2\n",
      "25000/25000 [==============================] - 309s 12ms/step - loss: 0.1844 - acc: 0.9269\n"
     ]
    },
    {
     "data": {
      "text/plain": [
       "<keras.callbacks.History at 0x182d525ac8>"
      ]
     },
     "execution_count": 130,
     "metadata": {},
     "output_type": "execute_result"
    }
   ],
   "source": [
    "model.fit(x_train, y_train,\n",
    "          batch_size=32,\n",
    "          epochs=2)"
   ]
  },
  {
   "cell_type": "code",
   "execution_count": 131,
   "metadata": {},
   "outputs": [
    {
     "name": "stdout",
     "output_type": "stream",
     "text": [
      "25000/25000 [==============================] - 73s 3ms/step\n"
     ]
    }
   ],
   "source": [
    "score = model.evaluate(x_test, y_test)"
   ]
  },
  {
   "cell_type": "code",
   "execution_count": 132,
   "metadata": {},
   "outputs": [
    {
     "name": "stdout",
     "output_type": "stream",
     "text": [
      "loss: 0.446965081828\n",
      "acc: 0.84144\n"
     ]
    }
   ],
   "source": [
    "print(\"loss:\", score[0])\n",
    "print(\"acc:\", score[1])"
   ]
  },
  {
   "cell_type": "code",
   "execution_count": null,
   "metadata": {
    "collapsed": true
   },
   "outputs": [],
   "source": []
  }
 ],
 "metadata": {
  "kernelspec": {
   "display_name": "Python 3",
   "language": "python",
   "name": "python3"
  },
  "language_info": {
   "codemirror_mode": {
    "name": "ipython",
    "version": 3
   },
   "file_extension": ".py",
   "mimetype": "text/x-python",
   "name": "python",
   "nbconvert_exporter": "python",
   "pygments_lexer": "ipython3",
   "version": "3.6.3"
  }
 },
 "nbformat": 4,
 "nbformat_minor": 2
}
