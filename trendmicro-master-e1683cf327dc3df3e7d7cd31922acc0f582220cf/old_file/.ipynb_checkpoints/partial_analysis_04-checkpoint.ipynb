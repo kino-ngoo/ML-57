{
 "cells": [
  {
   "cell_type": "markdown",
   "metadata": {},
   "source": [
    "# 找productID總數"
   ]
  },
  {
   "cell_type": "code",
   "execution_count": 2,
   "metadata": {
    "collapsed": true
   },
   "outputs": [],
   "source": [
    "'''Basic package'''\n",
    "import os\n",
    "\n",
    "os.environ[\"CUDA_VISIBLE_DEVICES\"] = \"0\"\n",
    "\n",
    "import queue\n",
    "import cv2          #影像處理\n",
    "import scipy.misc   #影像處理\n",
    "import numpy as np\n",
    "import pandas as pd\n",
    "from tqdm import tqdm_notebook as tqdm #進度條\n",
    "tqdm.monitor_interval = 0\n",
    "import matplotlib.pyplot as plt #繪圖\n",
    "import datetime\n",
    "\n",
    "\n",
    "\n",
    "\n",
    "'''Tensorflow package'''\n",
    "import tensorflow as tf\n",
    "import tensorflow.contrib.slim as slim\n",
    "import tensorflow.contrib.slim.nets as slimNet\n",
    "\n",
    "\n",
    "'''Data augmentation package'''\n",
    "from imgaug import augmenters as iaa\n",
    "import imgaug as ia\n",
    "\n",
    "# os.getcwd()"
   ]
  },
  {
   "cell_type": "code",
   "execution_count": 3,
   "metadata": {
    "collapsed": true
   },
   "outputs": [],
   "source": [
    "all_prod_list=[]\n",
    "file_stat = pd.DataFrame(columns=['FileID','file_freq', 'user_count','user_freq','prod_count','prod_freq','no_diff_count'])\n",
    "label =pd.read_csv('/data/examples/trend/data/training-set.csv',\n",
    "                   names =('FileID','label'),\n",
    "                   header=None,\n",
    "                   dtype='object,int64')\n",
    "dir_list = os.listdir('/data/examples/trend/data/query_log/')"
   ]
  },
  {
   "cell_type": "code",
   "execution_count": 4,
   "metadata": {},
   "outputs": [],
   "source": [
    "dir_list.sort()"
   ]
  },
  {
   "cell_type": "code",
   "execution_count": 5,
   "metadata": {},
   "outputs": [],
   "source": [
    "dir_list_03=[]\n",
    "dir_list_04=[]\n",
    "dir_list_05=[]\n",
    "\n",
    "for i in np.arange(len(dir_list)):\n",
    "    if dir_list[i].startswith('03'):\n",
    "        dir_list_03.append(dir_list[i])\n",
    "    elif dir_list[i].startswith('04'):\n",
    "        dir_list_04.append(dir_list[i])\n",
    "    elif dir_list[i].startswith('05'):\n",
    "        dir_list_05.append(dir_list[i])"
   ]
  },
  {
   "cell_type": "code",
   "execution_count": 6,
   "metadata": {},
   "outputs": [],
   "source": [
    "dir_list_04= [\n",
    " '0414.csv',\n",
    " '0415.csv',\n",
    " '0416.csv',\n",
    " '0417.csv',\n",
    " '0418.csv',\n",
    " '0419.csv',\n",
    " '0420.csv',\n",
    " '0421.csv',\n",
    " '0422.csv',\n",
    " '0423.csv',\n",
    " '0424.csv',\n",
    " '0425.csv',\n",
    " '0426.csv',\n",
    " '0427.csv',\n",
    " '0428.csv',\n",
    " '0429.csv',\n",
    " '0430.csv']"
   ]
  },
  {
   "cell_type": "code",
   "execution_count": null,
   "metadata": {},
   "outputs": [
    {
     "data": {
      "application/vnd.jupyter.widget-view+json": {
       "model_id": "f140639adf394b3cbe1cf4bc14876490",
       "version_major": 2,
       "version_minor": 0
      },
      "text/html": [
       "<p>Failed to display Jupyter Widget of type <code>HBox</code>.</p>\n",
       "<p>\n",
       "  If you're reading this message in the Jupyter Notebook or JupyterLab Notebook, it may mean\n",
       "  that the widgets JavaScript is still loading. If this message persists, it\n",
       "  likely means that the widgets JavaScript library is either not installed or\n",
       "  not enabled. See the <a href=\"https://ipywidgets.readthedocs.io/en/stable/user_install.html\">Jupyter\n",
       "  Widgets Documentation</a> for setup instructions.\n",
       "</p>\n",
       "<p>\n",
       "  If you're reading this message in another frontend (for example, a static\n",
       "  rendering on GitHub or <a href=\"https://nbviewer.jupyter.org/\">NBViewer</a>),\n",
       "  it may mean that your frontend doesn't currently support widgets.\n",
       "</p>\n"
      ],
      "text/plain": [
       "HBox(children=(IntProgress(value=0, description='file', max=17), HTML(value='')))"
      ]
     },
     "metadata": {},
     "output_type": "display_data"
    },
    {
     "data": {
      "application/vnd.jupyter.widget-view+json": {
       "model_id": "06a9692d6d0b4ffb835b315aad32109a",
       "version_major": 2,
       "version_minor": 0
      },
      "text/html": [
       "<p>Failed to display Jupyter Widget of type <code>HBox</code>.</p>\n",
       "<p>\n",
       "  If you're reading this message in the Jupyter Notebook or JupyterLab Notebook, it may mean\n",
       "  that the widgets JavaScript is still loading. If this message persists, it\n",
       "  likely means that the widgets JavaScript library is either not installed or\n",
       "  not enabled. See the <a href=\"https://ipywidgets.readthedocs.io/en/stable/user_install.html\">Jupyter\n",
       "  Widgets Documentation</a> for setup instructions.\n",
       "</p>\n",
       "<p>\n",
       "  If you're reading this message in another frontend (for example, a static\n",
       "  rendering on GitHub or <a href=\"https://nbviewer.jupyter.org/\">NBViewer</a>),\n",
       "  it may mean that your frontend doesn't currently support widgets.\n",
       "</p>\n"
      ],
      "text/plain": [
       "HBox(children=(IntProgress(value=0, description='id', max=6765), HTML(value='')))"
      ]
     },
     "metadata": {},
     "output_type": "display_data"
    }
   ],
   "source": [
    "for i in tqdm(np.arange(len(dir_list_04)), desc=\"file\"):\n",
    "    test1 = pd.read_csv('/data/examples/trend/data/query_log/%s' % dir_list_04[i],\n",
    "                        names=('FileID', 'CustomerID', 'QueryTS', 'ProductID'),\n",
    "                        header=None,\n",
    "                        dtype='object,object,int64,object')\n",
    "#     test1['times']=[1] * test1.shape[0]\n",
    "    file_list = test1.FileID.unique().tolist()\n",
    "#     for j in np.arange(len(file_list)):\n",
    "    for j in tqdm(np.arange(len(file_list)),desc='id',leave=False):\n",
    "        test2 = test1.loc[test1['FileID'] == file_list[j]]\n",
    "#         print(file_list[j])\n",
    "        #count fileID frequency\n",
    "        file_freq = test2.shape[0]\n",
    "        #number of customerID access this FileID\n",
    "        user_count = len(test2.CustomerID.unique())\n",
    "        #average frequency of user access\n",
    "        user_freq = test2.shape[0]/user_count\n",
    "        #number of productID access this FileID\n",
    "        prod_count = len(test2.ProductID.unique())\n",
    "        #average frequency of product access\n",
    "        prod_freq = test2.shape[0]/prod_count\n",
    "        #list of product\n",
    "        prod_list = test2.ProductID.unique().tolist()\n",
    "        #frequency for every product\n",
    "#         prod_occur = test2.groupby(by=['ProductID'])['ProductID'].count().to_dict()\n",
    "        #not time diff count\n",
    "        temp =test2.groupby(['CustomerID','QueryTS']).size().to_frame()\n",
    "        temp = temp.iloc[:,0].tolist()\n",
    "        no_diff_count=0\n",
    "        for k in np.arange(len(temp)):\n",
    "            if temp[k]>1:\n",
    "                no_diff_count =no_diff_count+1\n",
    "        #append to dataframe\n",
    "        append = pd.DataFrame([[file_list[j],file_freq,user_count,user_freq,prod_count,prod_freq,no_diff_count]],columns=file_stat.columns)\n",
    "        file_stat = file_stat.append(append)\n",
    "    file_stat.index = np.arange(file_stat.shape[0])\n",
    "    file_stat.to_csv('file_stat_%s'%dir_list_04[i])\n",
    "    file_stat=file_stat.iloc[0:0]"
   ]
  },
  {
   "cell_type": "code",
   "execution_count": null,
   "metadata": {},
   "outputs": [],
   "source": []
  }
 ],
 "metadata": {
  "kernelspec": {
   "display_name": "Python 3",
   "language": "python",
   "name": "python3"
  },
  "language_info": {
   "codemirror_mode": {
    "name": "ipython",
    "version": 3
   },
   "file_extension": ".py",
   "mimetype": "text/x-python",
   "name": "python",
   "nbconvert_exporter": "python",
   "pygments_lexer": "ipython3",
   "version": "3.6.3"
  }
 },
 "nbformat": 4,
 "nbformat_minor": 2
}
