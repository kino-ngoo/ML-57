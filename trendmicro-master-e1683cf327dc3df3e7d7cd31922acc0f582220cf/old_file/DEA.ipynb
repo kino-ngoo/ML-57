{
 "cells": [
  {
   "cell_type": "code",
   "execution_count": 1,
   "metadata": {},
   "outputs": [],
   "source": [
    "'''Basic package'''\n",
    "import os\n",
    "# 告訴系統要第幾張卡被看到。 Ex. 硬體總共有8張顯卡，以下設定只讓系統看到第1張顯卡\n",
    "# 若沒設定，則 Tensorflow 在運行時，預設會把所有卡都佔用\n",
    "# 要看裝置內顯卡數量及目前狀態的話，請在終端機內輸入 \"nvidia-smi\"\n",
    "# 若你的裝置只有一張顯卡可以使用，可以忽略此設定\n",
    "os.environ[\"CUDA_VISIBLE_DEVICES\"] = \"0\"\n",
    "import queue\n",
    "import cv2          #影像處理\n",
    "import scipy.misc   #影像處理\n",
    "import numpy as np\n",
    "import pandas as pd\n",
    "from tqdm import tqdm_notebook as tqdm #進度條\n",
    "import matplotlib.pyplot as plt #繪圖\n",
    "import sklearn\n",
    "\n",
    "# 自定義 library\n",
    "from generator import data_generators\n",
    "from callbacks import *\n",
    "\n",
    "\n",
    "'''Tensorflow package'''\n",
    "import tensorflow as tf\n",
    "import tensorflow.contrib.slim as slim\n",
    "import tensorflow.contrib.slim.nets as slimNet\n",
    "\n",
    "\n",
    "'''Data augmentation package'''\n",
    "from imgaug import augmenters as iaa\n",
    "import imgaug as ia\n"
   ]
  },
  {
   "cell_type": "code",
   "execution_count": 51,
   "metadata": {},
   "outputs": [],
   "source": [
    "data_dir = '/data/examples/trend/data/'\n",
    "main_data_dir ='query_log'\n",
    "training_dir = 'training-set.csv'"
   ]
  },
  {
   "cell_type": "code",
   "execution_count": 14,
   "metadata": {},
   "outputs": [],
   "source": [
    "data_file_name = os.listdir(os.path.join(data_dir,main_data_dir))"
   ]
  },
  {
   "cell_type": "code",
   "execution_count": 56,
   "metadata": {},
   "outputs": [],
   "source": [
    "label = pd.read_csv(os.path.join(data_dir,training_dir),\n",
    "                    names=('FileID','label'),\n",
    "                    header=None)"
   ]
  },
  {
   "cell_type": "code",
   "execution_count": 49,
   "metadata": {},
   "outputs": [
    {
     "name": "stdout",
     "output_type": "stream",
     "text": [
      "file_0 done\n",
      "file_1 done\n",
      "file_2 done\n",
      "file_3 done\n",
      "file_4 done\n",
      "file_5 done\n",
      "file_6 done\n",
      "file_7 done\n",
      "file_8 done\n",
      "file_9 done\n"
     ]
    }
   ],
   "source": [
    "# for i in np.arange(len(os.listdir(os.path.join(data_dir,main_data_dir)))):\n",
    "for i in np.arange(10):\n",
    "    globals()['file_%s' % i] = pd.read_csv(os.path.join(data_dir,main_data_dir,data_file_name[i]),\n",
    "                                           names=('FileID', 'CustomerID', 'QueryTS', 'ProductID'),\n",
    "                                           header=None,dtype='object,object,int64,object')\n",
    "    print('file_%s done' % i)"
   ]
  },
  {
   "cell_type": "code",
   "execution_count": 62,
   "metadata": {},
   "outputs": [
    {
     "name": "stdout",
     "output_type": "stream",
     "text": [
      "file_0 done\n",
      "file_1 done\n",
      "file_2 done\n",
      "file_3 done\n",
      "file_4 done\n",
      "file_5 done\n",
      "file_6 done\n",
      "file_7 done\n",
      "file_8 done\n",
      "file_9 done\n",
      "file_10 done\n",
      "file_11 done\n",
      "file_12 done\n",
      "file_13 done\n",
      "file_14 done\n",
      "file_15 done\n",
      "file_16 done\n",
      "file_17 done\n",
      "file_18 done\n",
      "file_19 done\n",
      "file_20 done\n",
      "file_21 done\n",
      "file_22 done\n",
      "file_23 done\n",
      "file_24 done\n",
      "file_25 done\n",
      "file_26 done\n",
      "file_27 done\n",
      "file_28 done\n",
      "file_29 done\n",
      "file_30 done\n",
      "file_31 done\n",
      "file_32 done\n",
      "file_33 done\n",
      "file_34 done\n",
      "file_35 done\n",
      "file_36 done\n",
      "file_37 done\n",
      "file_38 done\n",
      "file_39 done\n",
      "file_40 done\n",
      "file_41 done\n",
      "file_42 done\n",
      "file_43 done\n",
      "file_44 done\n",
      "file_45 done\n",
      "file_46 done\n",
      "file_47 done\n",
      "file_48 done\n",
      "file_49 done\n",
      "file_50 done\n",
      "file_51 done\n",
      "file_52 done\n",
      "file_53 done\n",
      "file_54 done\n",
      "file_55 done\n",
      "file_56 done\n",
      "file_57 done\n",
      "file_58 done\n",
      "file_59 done\n",
      "file_60 done\n",
      "file_61 done\n",
      "file_62 done\n",
      "file_63 done\n",
      "file_64 done\n",
      "file_65 done\n",
      "file_66 done\n",
      "file_67 done\n",
      "file_68 done\n",
      "file_69 done\n",
      "file_70 done\n",
      "file_71 done\n",
      "file_72 done\n",
      "file_73 done\n",
      "file_74 done\n",
      "file_75 done\n",
      "file_76 done\n",
      "file_77 done\n",
      "file_78 done\n",
      "file_79 done\n",
      "file_80 done\n",
      "file_81 done\n",
      "file_82 done\n",
      "file_83 done\n",
      "file_84 done\n",
      "file_85 done\n",
      "file_86 done\n",
      "file_87 done\n",
      "file_88 done\n",
      "file_89 done\n",
      "file_90 done\n",
      "file_91 done\n"
     ]
    }
   ],
   "source": [
    "full_data = pd.DataFrame()\n",
    "for i in np.arange(len(os.listdir(os.path.join(data_dir,main_data_dir)))):\n",
    "# for i in np.arange(2):\n",
    "    new_data = pd.read_csv(os.path.join(data_dir,main_data_dir,data_file_name[i]),\n",
    "                                           names=('FileID', 'CustomerID', 'QueryTS', 'ProductID'),\n",
    "                                           header=None,dtype='object,object,int64,object')\n",
    "    full_data=pd.concat([full_data,new_data])\n",
    "    print('file_%s done' % i)"
   ]
  },
  {
   "cell_type": "code",
   "execution_count": 61,
   "metadata": {},
   "outputs": [
    {
     "data": {
      "text/plain": [
       "(4202302, 4)"
      ]
     },
     "execution_count": 61,
     "metadata": {},
     "output_type": "execute_result"
    }
   ],
   "source": [
    "full_data.shape"
   ]
  },
  {
   "cell_type": "code",
   "execution_count": null,
   "metadata": {},
   "outputs": [],
   "source": [
    "full_data.to_csv('all_data.csv')"
   ]
  },
  {
   "cell_type": "code",
   "execution_count": 57,
   "metadata": {},
   "outputs": [
    {
     "data": {
      "text/html": [
       "<div>\n",
       "<table border=\"1\" class=\"dataframe\">\n",
       "  <thead>\n",
       "    <tr style=\"text-align: right;\">\n",
       "      <th></th>\n",
       "      <th>FileID</th>\n",
       "      <th>label</th>\n",
       "    </tr>\n",
       "  </thead>\n",
       "  <tbody>\n",
       "    <tr>\n",
       "      <th>0</th>\n",
       "      <td>0000e2398b12121a85166fed5fe2a3da</td>\n",
       "      <td>0</td>\n",
       "    </tr>\n",
       "    <tr>\n",
       "      <th>1</th>\n",
       "      <td>0001fe8dce14ce099aa6ca8ea5026ea7</td>\n",
       "      <td>0</td>\n",
       "    </tr>\n",
       "    <tr>\n",
       "      <th>2</th>\n",
       "      <td>00027f50019000accc492e5684efc818</td>\n",
       "      <td>0</td>\n",
       "    </tr>\n",
       "    <tr>\n",
       "      <th>3</th>\n",
       "      <td>00028c9da3573ec50db74b44310ae507</td>\n",
       "      <td>0</td>\n",
       "    </tr>\n",
       "    <tr>\n",
       "      <th>4</th>\n",
       "      <td>0003dc8130969abe688cadf5f14ea19f</td>\n",
       "      <td>0</td>\n",
       "    </tr>\n",
       "    <tr>\n",
       "      <th>5</th>\n",
       "      <td>000462baadff8a02f7f6fef84d242eed</td>\n",
       "      <td>0</td>\n",
       "    </tr>\n",
       "    <tr>\n",
       "      <th>6</th>\n",
       "      <td>0005e4c0263f52453438ddd0d55aef82</td>\n",
       "      <td>1</td>\n",
       "    </tr>\n",
       "    <tr>\n",
       "      <th>7</th>\n",
       "      <td>0006ac9aadbdbf2fed5e62b4e463daa1</td>\n",
       "      <td>0</td>\n",
       "    </tr>\n",
       "    <tr>\n",
       "      <th>8</th>\n",
       "      <td>0006d16543c1c4866dfa59fbbf7eedab</td>\n",
       "      <td>0</td>\n",
       "    </tr>\n",
       "    <tr>\n",
       "      <th>9</th>\n",
       "      <td>0007819a84e047a78fbbd620557104ad</td>\n",
       "      <td>0</td>\n",
       "    </tr>\n",
       "  </tbody>\n",
       "</table>\n",
       "</div>"
      ],
      "text/plain": [
       "                             FileID  label\n",
       "0  0000e2398b12121a85166fed5fe2a3da      0\n",
       "1  0001fe8dce14ce099aa6ca8ea5026ea7      0\n",
       "2  00027f50019000accc492e5684efc818      0\n",
       "3  00028c9da3573ec50db74b44310ae507      0\n",
       "4  0003dc8130969abe688cadf5f14ea19f      0\n",
       "5  000462baadff8a02f7f6fef84d242eed      0\n",
       "6  0005e4c0263f52453438ddd0d55aef82      1\n",
       "7  0006ac9aadbdbf2fed5e62b4e463daa1      0\n",
       "8  0006d16543c1c4866dfa59fbbf7eedab      0\n",
       "9  0007819a84e047a78fbbd620557104ad      0"
      ]
     },
     "execution_count": 57,
     "metadata": {},
     "output_type": "execute_result"
    }
   ],
   "source": [
    "label[:10]"
   ]
  },
  {
   "cell_type": "code",
   "execution_count": null,
   "metadata": {},
   "outputs": [],
   "source": []
  }
 ],
 "metadata": {
  "kernelspec": {
   "display_name": "Python 3",
   "language": "python",
   "name": "python3"
  },
  "language_info": {
   "codemirror_mode": {
    "name": "ipython",
    "version": 3
   },
   "file_extension": ".py",
   "mimetype": "text/x-python",
   "name": "python",
   "nbconvert_exporter": "python",
   "pygments_lexer": "ipython3",
   "version": "3.6.3"
  }
 },
 "nbformat": 4,
 "nbformat_minor": 2
}
