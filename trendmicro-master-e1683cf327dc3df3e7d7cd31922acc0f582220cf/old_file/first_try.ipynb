{
 "cells": [
  {
   "cell_type": "markdown",
   "metadata": {},
   "source": [
    "# 找productID總數"
   ]
  },
  {
   "cell_type": "code",
   "execution_count": 1,
   "metadata": {
    "collapsed": true
   },
   "outputs": [],
   "source": [
    "'''Basic package'''\n",
    "import os\n",
    "\n",
    "os.environ[\"CUDA_VISIBLE_DEVICES\"] = \"0\"\n",
    "\n",
    "import queue\n",
    "import cv2          #影像處理\n",
    "import scipy.misc   #影像處理\n",
    "import numpy as np\n",
    "import pandas as pd\n",
    "from tqdm import tqdm_notebook as tqdm #進度條\n",
    "import matplotlib.pyplot as plt #繪圖\n",
    "import datetime\n",
    "\n",
    "\n",
    "\n",
    "\n",
    "'''Tensorflow package'''\n",
    "import tensorflow as tf\n",
    "import tensorflow.contrib.slim as slim\n",
    "import tensorflow.contrib.slim.nets as slimNet\n",
    "\n",
    "\n",
    "'''Data augmentation package'''\n",
    "from imgaug import augmenters as iaa\n",
    "import imgaug as ia\n",
    "\n",
    "# os.getcwd()"
   ]
  },
  {
   "cell_type": "code",
   "execution_count": 4,
   "metadata": {
    "collapsed": true
   },
   "outputs": [],
   "source": [
    "all_prod_list=[]\n",
    "file_stat = pd.DataFrame(columns=['FileID','file_freq', 'user_count','user_freq','prod_count','prod_freq','no_diff_count'])\n",
    "label =pd.read_csv('/data/examples/trend/data/training-set.csv',\n",
    "                   names =('FileID','label'),\n",
    "                   header=None,\n",
    "                   dtype='object,int64')\n",
    "dir_list = os.listdir('/data/examples/trend/data/query_log/')"
   ]
  },
  {
   "cell_type": "code",
   "execution_count": 280,
   "metadata": {},
   "outputs": [
    {
     "data": {
      "application/vnd.jupyter.widget-view+json": {
       "model_id": "9b348f7379e243ee9b0a282c76bb9d37",
       "version_major": 2,
       "version_minor": 0
      },
      "text/plain": [
       "A Jupyter Widget"
      ]
     },
     "metadata": {},
     "output_type": "display_data"
    },
    {
     "data": {
      "application/vnd.jupyter.widget-view+json": {
       "model_id": "0baf90e2bf2c4b04a9338585967ded97",
       "version_major": 2,
       "version_minor": 0
      },
      "text/plain": [
       "A Jupyter Widget"
      ]
     },
     "metadata": {},
     "output_type": "display_data"
    },
    {
     "name": "stdout",
     "output_type": "stream",
     "text": [
      "\n"
     ]
    }
   ],
   "source": [
    "# first_bar = tqdm(np.arange(len(dir_list)), desc=\"file\")\n",
    "first_bar = tqdm(np.arange(1), desc=\"file\")\n",
    "\n",
    "\n",
    "# second_bar = tqdm(np.arange(len(file_list)),desc='id')\n",
    "second_bar = tqdm(np.arange(100),desc='id')\n",
    "\n",
    "\n",
    "for i in first_bar:\n",
    "    test1 = pd.read_csv('/Users/harryhowiefish/Downloads/trend_micro/query_log/%s' % dir_list[i],\n",
    "                        names=('FileID', 'CustomerID', 'QueryTS', 'ProductID'),\n",
    "                        header=None,\n",
    "                        dtype='object,object,int64,object')\n",
    "#     test1['times']=[1] * test1.shape[0]\n",
    "    file_list = test1.FileID.unique().tolist()\n",
    "#     for j in np.arange(len(file_list)):\n",
    "    for j in second_bar:\n",
    "        test2 = test1.loc[test1['FileID'] == file_list[j]]\n",
    "#         print(file_list[j])\n",
    "        #count fileID frequency\n",
    "        file_freq = test2.shape[0]\n",
    "        #number of customerID access this FileID\n",
    "        user_count = len(test2.CustomerID.unique())\n",
    "        #average frequency of user access\n",
    "        user_freq = test2.shape[0]/user_count\n",
    "        #number of productID access this FileID\n",
    "        prod_count = len(test2.ProductID.unique())\n",
    "        #average frequency of product access\n",
    "        prod_freq = test2.shape[0]/prod_count\n",
    "        #list of product\n",
    "        prod_list = test2.ProductID.unique().tolist()\n",
    "        #frequency for every product\n",
    "#         prod_occur = test2.groupby(by=['ProductID'])['ProductID'].count().to_dict()\n",
    "        #not time diff count\n",
    "        temp =test2.groupby(['CustomerID','QueryTS']).size().to_frame()\n",
    "        temp = temp.iloc[:,0].tolist()\n",
    "        no_diff_count=0\n",
    "        for i in np.arange(len(temp)):\n",
    "            if temp[i]>1:\n",
    "                no_diff_count =no_diff_count+1\n",
    "        #append to dataframe\n",
    "        append = pd.DataFrame([[file_list[j],file_freq,user_count,user_freq,prod_count,prod_freq,no_diff_count]],columns=file_stat.columns)\n",
    "        file_stat = file_stat.append(append)\n",
    "        #get full product list\n",
    "        for i in np.arange(len(prod_list)):\n",
    "            if prod_list[i] not in all_prod_list:\n",
    "                all_prod_list.append(prod_list[i])\n",
    "        "
   ]
  },
  {
   "cell_type": "code",
   "execution_count": 286,
   "metadata": {},
   "outputs": [],
   "source": [
    "test1['times']=[1] * test1.shape[0]\n",
    "pivot_table = test1.pivot_table(values='times',index=['FileID'],columns='ProductID',aggfunc='sum')\n",
    "pivot_table=pivot_table.fillna(0)\n",
    "pivot_table['FileID']=pivot_table.index\n",
    "pivot_table.index=[0] * pivot_table.shape[0]"
   ]
  },
  {
   "cell_type": "code",
   "execution_count": 287,
   "metadata": {},
   "outputs": [
    {
     "data": {
      "text/plain": [
       "((100, 7), (5736, 15))"
      ]
     },
     "execution_count": 287,
     "metadata": {},
     "output_type": "execute_result"
    }
   ],
   "source": [
    "file_stat.shape,pivot_table.shape"
   ]
  },
  {
   "cell_type": "code",
   "execution_count": 295,
   "metadata": {
    "collapsed": true
   },
   "outputs": [],
   "source": [
    "merge = pd.merge(pd.merge(file_stat,pivot_table,how='outer',on='FileID'),pd.merge(file_stat,label,how='outer',on='FileID'))"
   ]
  },
  {
   "cell_type": "code",
   "execution_count": 296,
   "metadata": {},
   "outputs": [
    {
     "data": {
      "text/html": [
       "<div>\n",
       "<style>\n",
       "    .dataframe thead tr:only-child th {\n",
       "        text-align: right;\n",
       "    }\n",
       "\n",
       "    .dataframe thead th {\n",
       "        text-align: left;\n",
       "    }\n",
       "\n",
       "    .dataframe tbody tr th {\n",
       "        vertical-align: top;\n",
       "    }\n",
       "</style>\n",
       "<table border=\"1\" class=\"dataframe\">\n",
       "  <thead>\n",
       "    <tr style=\"text-align: right;\">\n",
       "      <th></th>\n",
       "      <th>FileID</th>\n",
       "      <th>file_freq</th>\n",
       "      <th>user_count</th>\n",
       "      <th>user_freq</th>\n",
       "      <th>prod_count</th>\n",
       "      <th>prod_freq</th>\n",
       "      <th>no_diff_count</th>\n",
       "      <th>055649</th>\n",
       "      <th>20f8a5</th>\n",
       "      <th>262880</th>\n",
       "      <th>...</th>\n",
       "      <th>533133</th>\n",
       "      <th>634e6b</th>\n",
       "      <th>7acab3</th>\n",
       "      <th>8541a0</th>\n",
       "      <th>885fab</th>\n",
       "      <th>c105a0</th>\n",
       "      <th>c76d58</th>\n",
       "      <th>d465fc</th>\n",
       "      <th>e47f04</th>\n",
       "      <th>label</th>\n",
       "    </tr>\n",
       "  </thead>\n",
       "  <tbody>\n",
       "    <tr>\n",
       "      <th>0</th>\n",
       "      <td>2a345a41faf3c2c5e46b47a530b9cf0d</td>\n",
       "      <td>2928</td>\n",
       "      <td>2928</td>\n",
       "      <td>1.000000</td>\n",
       "      <td>3</td>\n",
       "      <td>976.00</td>\n",
       "      <td>0</td>\n",
       "      <td>780.0</td>\n",
       "      <td>0.0</td>\n",
       "      <td>0.0</td>\n",
       "      <td>...</td>\n",
       "      <td>0.0</td>\n",
       "      <td>0.0</td>\n",
       "      <td>2031.0</td>\n",
       "      <td>0.0</td>\n",
       "      <td>0.0</td>\n",
       "      <td>0.0</td>\n",
       "      <td>117.0</td>\n",
       "      <td>0.0</td>\n",
       "      <td>0.0</td>\n",
       "      <td>0</td>\n",
       "    </tr>\n",
       "    <tr>\n",
       "      <th>1</th>\n",
       "      <td>7db3d294d577a539f330c87728ae31a8</td>\n",
       "      <td>1867</td>\n",
       "      <td>1</td>\n",
       "      <td>1867.000000</td>\n",
       "      <td>1</td>\n",
       "      <td>1867.00</td>\n",
       "      <td>619</td>\n",
       "      <td>0.0</td>\n",
       "      <td>0.0</td>\n",
       "      <td>0.0</td>\n",
       "      <td>...</td>\n",
       "      <td>0.0</td>\n",
       "      <td>0.0</td>\n",
       "      <td>0.0</td>\n",
       "      <td>0.0</td>\n",
       "      <td>0.0</td>\n",
       "      <td>1867.0</td>\n",
       "      <td>0.0</td>\n",
       "      <td>0.0</td>\n",
       "      <td>0.0</td>\n",
       "      <td>1</td>\n",
       "    </tr>\n",
       "    <tr>\n",
       "      <th>2</th>\n",
       "      <td>a55adb9fd39959d15309293e71f86786</td>\n",
       "      <td>3776</td>\n",
       "      <td>3776</td>\n",
       "      <td>1.000000</td>\n",
       "      <td>4</td>\n",
       "      <td>944.00</td>\n",
       "      <td>0</td>\n",
       "      <td>1118.0</td>\n",
       "      <td>0.0</td>\n",
       "      <td>0.0</td>\n",
       "      <td>...</td>\n",
       "      <td>0.0</td>\n",
       "      <td>1.0</td>\n",
       "      <td>2518.0</td>\n",
       "      <td>0.0</td>\n",
       "      <td>0.0</td>\n",
       "      <td>0.0</td>\n",
       "      <td>139.0</td>\n",
       "      <td>0.0</td>\n",
       "      <td>0.0</td>\n",
       "      <td>0</td>\n",
       "    </tr>\n",
       "    <tr>\n",
       "      <th>3</th>\n",
       "      <td>b391960068d0792c965e21c752129123</td>\n",
       "      <td>1160</td>\n",
       "      <td>1</td>\n",
       "      <td>1160.000000</td>\n",
       "      <td>1</td>\n",
       "      <td>1160.00</td>\n",
       "      <td>387</td>\n",
       "      <td>0.0</td>\n",
       "      <td>0.0</td>\n",
       "      <td>0.0</td>\n",
       "      <td>...</td>\n",
       "      <td>0.0</td>\n",
       "      <td>0.0</td>\n",
       "      <td>0.0</td>\n",
       "      <td>0.0</td>\n",
       "      <td>0.0</td>\n",
       "      <td>1160.0</td>\n",
       "      <td>0.0</td>\n",
       "      <td>0.0</td>\n",
       "      <td>0.0</td>\n",
       "      <td>1</td>\n",
       "    </tr>\n",
       "    <tr>\n",
       "      <th>4</th>\n",
       "      <td>14c213875e1ecb10be5d5e859ce03150</td>\n",
       "      <td>854</td>\n",
       "      <td>797</td>\n",
       "      <td>1.071518</td>\n",
       "      <td>8</td>\n",
       "      <td>106.75</td>\n",
       "      <td>51</td>\n",
       "      <td>206.0</td>\n",
       "      <td>0.0</td>\n",
       "      <td>0.0</td>\n",
       "      <td>...</td>\n",
       "      <td>0.0</td>\n",
       "      <td>7.0</td>\n",
       "      <td>604.0</td>\n",
       "      <td>0.0</td>\n",
       "      <td>0.0</td>\n",
       "      <td>8.0</td>\n",
       "      <td>21.0</td>\n",
       "      <td>6.0</td>\n",
       "      <td>1.0</td>\n",
       "      <td>0</td>\n",
       "    </tr>\n",
       "  </tbody>\n",
       "</table>\n",
       "<p>5 rows × 22 columns</p>\n",
       "</div>"
      ],
      "text/plain": [
       "                             FileID file_freq user_count    user_freq  \\\n",
       "0  2a345a41faf3c2c5e46b47a530b9cf0d      2928       2928     1.000000   \n",
       "1  7db3d294d577a539f330c87728ae31a8      1867          1  1867.000000   \n",
       "2  a55adb9fd39959d15309293e71f86786      3776       3776     1.000000   \n",
       "3  b391960068d0792c965e21c752129123      1160          1  1160.000000   \n",
       "4  14c213875e1ecb10be5d5e859ce03150       854        797     1.071518   \n",
       "\n",
       "  prod_count  prod_freq no_diff_count  055649  20f8a5  262880  ...    533133  \\\n",
       "0          3     976.00             0   780.0     0.0     0.0  ...       0.0   \n",
       "1          1    1867.00           619     0.0     0.0     0.0  ...       0.0   \n",
       "2          4     944.00             0  1118.0     0.0     0.0  ...       0.0   \n",
       "3          1    1160.00           387     0.0     0.0     0.0  ...       0.0   \n",
       "4          8     106.75            51   206.0     0.0     0.0  ...       0.0   \n",
       "\n",
       "   634e6b  7acab3  8541a0  885fab  c105a0  c76d58  d465fc  e47f04  label  \n",
       "0     0.0  2031.0     0.0     0.0     0.0   117.0     0.0     0.0      0  \n",
       "1     0.0     0.0     0.0     0.0  1867.0     0.0     0.0     0.0      1  \n",
       "2     1.0  2518.0     0.0     0.0     0.0   139.0     0.0     0.0      0  \n",
       "3     0.0     0.0     0.0     0.0  1160.0     0.0     0.0     0.0      1  \n",
       "4     7.0   604.0     0.0     0.0     8.0    21.0     6.0     1.0      0  \n",
       "\n",
       "[5 rows x 22 columns]"
      ]
     },
     "execution_count": 296,
     "metadata": {},
     "output_type": "execute_result"
    }
   ],
   "source": [
    "merge.head()"
   ]
  },
  {
   "cell_type": "code",
   "execution_count": null,
   "metadata": {
    "collapsed": true
   },
   "outputs": [],
   "source": []
  }
 ],
 "metadata": {
  "kernelspec": {
   "display_name": "Python 3",
   "language": "python",
   "name": "python3"
  },
  "language_info": {
   "codemirror_mode": {
    "name": "ipython",
    "version": 3
   },
   "file_extension": ".py",
   "mimetype": "text/x-python",
   "name": "python",
   "nbconvert_exporter": "python",
   "pygments_lexer": "ipython3",
   "version": "3.6.3"
  }
 },
 "nbformat": 4,
 "nbformat_minor": 2
}
