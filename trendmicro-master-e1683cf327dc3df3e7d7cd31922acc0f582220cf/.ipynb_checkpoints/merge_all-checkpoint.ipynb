{
 "cells": [
  {
   "cell_type": "code",
   "execution_count": 1,
   "metadata": {},
   "outputs": [],
   "source": [
    "'''Basic package'''\n",
    "import os\n",
    "\n",
    "os.environ[\"CUDA_VISIBLE_DEVICES\"] = \"0\"\n",
    "\n",
    "import numpy as np\n",
    "import pandas as pd\n",
    "from tqdm import tqdm_notebook as tqdm #進度條\n",
    "import time\n",
    "np.set_printoptions(formatter={'float_kind':'{:f}'.format})\n",
    "\n"
   ]
  },
  {
   "cell_type": "code",
   "execution_count": 2,
   "metadata": {},
   "outputs": [
    {
     "data": {
      "application/vnd.jupyter.widget-view+json": {
       "model_id": "387bac27f5c549419a67b7bc8163df21",
       "version_major": 2,
       "version_minor": 0
      },
      "text/html": [
       "<p>Failed to display Jupyter Widget of type <code>HBox</code>.</p>\n",
       "<p>\n",
       "  If you're reading this message in the Jupyter Notebook or JupyterLab Notebook, it may mean\n",
       "  that the widgets JavaScript is still loading. If this message persists, it\n",
       "  likely means that the widgets JavaScript library is either not installed or\n",
       "  not enabled. See the <a href=\"https://ipywidgets.readthedocs.io/en/stable/user_install.html\">Jupyter\n",
       "  Widgets Documentation</a> for setup instructions.\n",
       "</p>\n",
       "<p>\n",
       "  If you're reading this message in another frontend (for example, a static\n",
       "  rendering on GitHub or <a href=\"https://nbviewer.jupyter.org/\">NBViewer</a>),\n",
       "  it may mean that your frontend doesn't currently support widgets.\n",
       "</p>\n"
      ],
      "text/plain": [
       "HBox(children=(IntProgress(value=0, description='full_data', max=31), HTML(value='')))"
      ]
     },
     "metadata": {},
     "output_type": "display_data"
    },
    {
     "name": "stdout",
     "output_type": "stream",
     "text": [
      "\n",
      "folder_03 done\n"
     ]
    },
    {
     "data": {
      "application/vnd.jupyter.widget-view+json": {
       "model_id": "a0d68f2854974dfe9a1e71f39042aa6f",
       "version_major": 2,
       "version_minor": 0
      },
      "text/html": [
       "<p>Failed to display Jupyter Widget of type <code>HBox</code>.</p>\n",
       "<p>\n",
       "  If you're reading this message in the Jupyter Notebook or JupyterLab Notebook, it may mean\n",
       "  that the widgets JavaScript is still loading. If this message persists, it\n",
       "  likely means that the widgets JavaScript library is either not installed or\n",
       "  not enabled. See the <a href=\"https://ipywidgets.readthedocs.io/en/stable/user_install.html\">Jupyter\n",
       "  Widgets Documentation</a> for setup instructions.\n",
       "</p>\n",
       "<p>\n",
       "  If you're reading this message in another frontend (for example, a static\n",
       "  rendering on GitHub or <a href=\"https://nbviewer.jupyter.org/\">NBViewer</a>),\n",
       "  it may mean that your frontend doesn't currently support widgets.\n",
       "</p>\n"
      ],
      "text/plain": [
       "HBox(children=(IntProgress(value=0, description='full_data', max=30), HTML(value='')))"
      ]
     },
     "metadata": {},
     "output_type": "display_data"
    },
    {
     "name": "stdout",
     "output_type": "stream",
     "text": [
      "\n",
      "folder_04 done\n"
     ]
    },
    {
     "data": {
      "application/vnd.jupyter.widget-view+json": {
       "model_id": "de504c7200e34c81b737a301147cd022",
       "version_major": 2,
       "version_minor": 0
      },
      "text/html": [
       "<p>Failed to display Jupyter Widget of type <code>HBox</code>.</p>\n",
       "<p>\n",
       "  If you're reading this message in the Jupyter Notebook or JupyterLab Notebook, it may mean\n",
       "  that the widgets JavaScript is still loading. If this message persists, it\n",
       "  likely means that the widgets JavaScript library is either not installed or\n",
       "  not enabled. See the <a href=\"https://ipywidgets.readthedocs.io/en/stable/user_install.html\">Jupyter\n",
       "  Widgets Documentation</a> for setup instructions.\n",
       "</p>\n",
       "<p>\n",
       "  If you're reading this message in another frontend (for example, a static\n",
       "  rendering on GitHub or <a href=\"https://nbviewer.jupyter.org/\">NBViewer</a>),\n",
       "  it may mean that your frontend doesn't currently support widgets.\n",
       "</p>\n"
      ],
      "text/plain": [
       "HBox(children=(IntProgress(value=0, description='full_data', max=31), HTML(value='')))"
      ]
     },
     "metadata": {},
     "output_type": "display_data"
    },
    {
     "name": "stdout",
     "output_type": "stream",
     "text": [
      "\n",
      "folder_05 done\n"
     ]
    }
   ],
   "source": [
    "#準備資料夾路徑\n",
    "month=['03','04','05']\n",
    "#load all data\n",
    "full_data = pd.DataFrame()\n",
    "#loop 3個資料夾\n",
    "for i in np.arange(len(month)):\n",
    "    dir_list=[]\n",
    "    #抓裡面的資料清單，因為其中會有一個'.ipynb_checkpoints'檔，所以只選csv結尾的\n",
    "    for file in os.listdir(\"file_stat_%s/\" %month[i]):\n",
    "        if file.endswith(\".csv\"):\n",
    "            dir_list.append(file)\n",
    "    #只是檢查用可以省略\n",
    "    dir_list.sort()\n",
    "    #抓取每個清單裡的檔案，加到同一個df下面\n",
    "    for j in tqdm(np.arange(len(dir_list)), desc=\"full_data\"):\n",
    "        new_data = pd.read_csv(os.path.join(\"file_stat_%s/\" %month[i],dir_list[j]))\n",
    "        new_data = new_data.drop(new_data.columns[0], axis=1)\n",
    "        full_data=pd.concat([full_data,new_data])\n",
    "    print('folder_%s done' % month[i])"
   ]
  },
  {
   "cell_type": "code",
   "execution_count": 3,
   "metadata": {},
   "outputs": [],
   "source": [
    "#因為要做sum加總，所以先將所有頻率移除，晚點再用計算的補回來，增加day_count的feature\n",
    "full_data['day_count']=[1]*full_data.shape[0]\n",
    "full_data=full_data.groupby(by='FileID').sum()\n",
    "#group玩FileID會跑到Index，把他補到後面的column\n",
    "full_data['FileID']=full_data.index"
   ]
  },
  {
   "cell_type": "code",
   "execution_count": 4,
   "metadata": {},
   "outputs": [
    {
     "data": {
      "text/plain": [
       "False"
      ]
     },
     "execution_count": 4,
     "metadata": {},
     "output_type": "execute_result"
    }
   ],
   "source": [
    "#用法可參考：https://stackoverflow.com/questions/14529838/apply-multiple-functions-to-multiple-groupby-columns\n",
    "file_freq = full_data.iloc[:,0:2]\n",
    "f = {'file_freq':['min','max','mean','std']}\n",
    "merge=file_freq.groupby('FileID').agg(f)\n",
    "merge['FileID']=merge.index\n",
    "merge.index=[0] * merge.shape[0]\n",
    "merge.columns=['file_freq_min', 'file_freq_max', 'file_freq_mean','file_freq_std','FileID']\n",
    "merge=merge[['FileID','file_freq_min', 'file_freq_max', 'file_freq_mean','file_freq_std']]\n",
    "#補缺失值（來源因如果file_freq=1，沒有std需設為0\n",
    "merge.file_freq_std=merge.file_freq_std.fillna(0)\n",
    "#return false>>補值完成\n",
    "merge.isnull().values.any()"
   ]
  },
  {
   "cell_type": "code",
   "execution_count": 5,
   "metadata": {},
   "outputs": [],
   "source": [
    "#兩組df合在一起\n",
    "merge = pd.merge(merge,full_data,how='outer',on=['FileID'])\n",
    "#把user_freq跟prod_freq補回\n",
    "merge['user_freq']=merge['file_freq']/merge['user_count']\n",
    "merge['prod_freq']=merge['file_freq']/merge['prod_count']\n"
   ]
  },
  {
   "cell_type": "code",
   "execution_count": 6,
   "metadata": {},
   "outputs": [],
   "source": [
    "merge.to_csv('total_data_analysis.csv',index=False )"
   ]
  }
 ],
 "metadata": {
  "kernelspec": {
   "display_name": "Python 3",
   "language": "python",
   "name": "python3"
  },
  "language_info": {
   "codemirror_mode": {
    "name": "ipython",
    "version": 3
   },
   "file_extension": ".py",
   "mimetype": "text/x-python",
   "name": "python",
   "nbconvert_exporter": "python",
   "pygments_lexer": "ipython3",
   "version": "3.6.3"
  }
 },
 "nbformat": 4,
 "nbformat_minor": 2
}
